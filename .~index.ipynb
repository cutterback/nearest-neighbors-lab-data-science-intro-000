{
 "cells": [
  {
   "cell_type": "markdown",
   "metadata": {},
   "source": [
    "# Nearest Neighbors Lab"
   ]
  },
  {
   "cell_type": "markdown",
   "metadata": {},
   "source": [
    "### Introduction\n",
    "\n",
    "In this lab, you apply nearest neighbors technique to help a taxi company predict the length of their rides.  Imagine that we are hired to consult for LiftOff, a limo and taxi service that is just opening up in NYC.  Liftoff wants it's taxi drivers to target longer rides, as the longer the ride the more money it makes.  LiftOff has the following theory:\n",
    "\n",
    "* the pickup location of a taxi ride can help predict the length of the ride.  \n",
    "\n",
    "\n",
    "\n",
    "LiftOff asks us to do some analysis to write a function that will allow it to **predict the length of a taxi ride for any given location **.\n",
    "\n",
    "Our technique will be the following:\n",
    "  * **Collect** Obtain the data containing all of the taxi information, and only select the attributes of taxi trips that we need \n",
    "  * ** Explore ** Examine the attributes of our data, and plot some of our data on a map\n",
    "  * ** Train ** Write our nearest neighbors formula, and change the number of nearby trips to predict the length of a new trip\n",
    "  * ** Predict ** Use our function to predict trip lengths of new locations"
   ]
  },
  {
   "cell_type": "markdown",
   "metadata": {},
   "source": [
    "### Collect and Explore the data"
   ]
  },
  {
   "cell_type": "markdown",
   "metadata": {},
   "source": [
    "#### Collect the Data"
   ]
  },
  {
   "cell_type": "markdown",
   "metadata": {},
   "source": [
    "Luckily for us, [NYC Open Data](https://opendata.cityofnewyork.us/) collects information about NYC taxi trips and provides this data on [its website](https://data.cityofnewyork.us/Transportation/2014-Yellow-Taxi-Trip-Data/gn7m-em8n)."
   ]
  },
  {
   "cell_type": "markdown",
   "metadata": {},
   "source": [
    "![](./nyc-taxi.png)"
   ]
  },
  {
   "cell_type": "markdown",
   "metadata": {},
   "source": [
    "For your reading pleasure, the data has already been downloaded into the [trips.json](https://github.com/learn-co-curriculum/nearest-neighbors-lab/blob/master/trips.json) file in this lab which you can find here.  We'll use Python's `json` library to take the data from the `trips.json` file and store it as a variable in our notebook."
   ]
  },
  {
   "cell_type": "code",
   "execution_count": 1,
   "metadata": {},
   "outputs": [],
   "source": [
    "import json\n",
    "# First, read the file\n",
    "trips_file = open('trips.json')\n",
    "# Then, convert contents to list of dictionaries \n",
    "trips = json.load(trips_file)"
   ]
  },
  {
   "cell_type": "markdown",
   "metadata": {},
   "source": [
    "> Press shift + enter"
   ]
  },
  {
   "cell_type": "markdown",
   "metadata": {},
   "source": [
    "#### Explore the data"
   ]
  },
  {
   "cell_type": "markdown",
   "metadata": {},
   "source": [
    "The next step is to explore the data.  First, let's see how many trips we have."
   ]
  },
  {
   "cell_type": "code",
   "execution_count": 2,
   "metadata": {},
   "outputs": [
    {
     "data": {
      "text/plain": [
       "1000"
      ]
     },
     "execution_count": 2,
     "metadata": {},
     "output_type": "execute_result"
    }
   ],
   "source": [
    "len(trips)"
   ]
  },
  {
   "cell_type": "markdown",
   "metadata": {},
   "source": [
    "Not bad at all.  Now let's see what each individual trip looks like.  Each trip is a dictionary, so we can see the attributes of each trip with the `keys` function."
   ]
  },
  {
   "cell_type": "code",
   "execution_count": 3,
   "metadata": {
    "scrolled": true
   },
   "outputs": [
    {
     "data": {
      "text/plain": [
       "dict_keys(['dropoff_datetime', 'dropoff_latitude', 'dropoff_longitude', 'fare_amount', 'imp_surcharge', 'mta_tax', 'passenger_count', 'payment_type', 'pickup_datetime', 'pickup_latitude', 'pickup_longitude', 'rate_code', 'store_and_fwd_flag', 'tip_amount', 'tolls_amount', 'total_amount', 'trip_distance', 'vendor_id'])"
      ]
     },
     "execution_count": 3,
     "metadata": {},
     "output_type": "execute_result"
    }
   ],
   "source": [
    "trips[1].keys()"
   ]
  },
  {
   "cell_type": "markdown",
   "metadata": {},
   "source": [
    "#### Limit our data"
   ]
  },
  {
   "cell_type": "markdown",
   "metadata": {},
   "source": [
    "Ok, now that we have explored some of our data, let's begin to think through what data is relevant for our task."
   ]
  },
  {
   "cell_type": "markdown",
   "metadata": {
    "collapsed": true
   },
   "source": [
    "Remember that our task is to **use the trip location to predict the length of a trip**.  So let's select the `pickup_latitude`, `pickup_longitude`, and `trip_distance` from each trip.  That will give us the trip location and related `trip_distance` for each trip.  Then based on these **actual** trip distances we can use nearest neighbors to predict an **expected** trip distance for a trip, provided an **actual** location."
   ]
  },
  {
   "cell_type": "markdown",
   "metadata": {},
   "source": [
    "** Add in about trip distance ** "
   ]
  },
  {
   "cell_type": "markdown",
   "metadata": {},
   "source": [
    "Write a function called `parse_trips(trips)` that returns a list of the trips with only the following attributes: \n",
    "* `trip_distance`\n",
    "* `pickup_latitude`\n",
    "* `pickup_longitude`"
   ]
  },
  {
   "cell_type": "code",
   "execution_count": 4,
   "metadata": {},
   "outputs": [],
   "source": [
    "def parse_trips(trips):\n",
    "    trips_new = []\n",
    "    keys = ['trip_distance', 'pickup_latitude', 'pickup_longitude']\n",
    "    for trip in trips:\n",
    "        trip_parsed = { key: trip[key] for key in keys }\n",
    "        trips_new.append(trip_parsed)\n",
    "\n",
    "    return trips_new\n",
    "    "
   ]
  },
  {
   "cell_type": "code",
   "execution_count": 5,
   "metadata": {},
   "outputs": [
    {
     "data": {
      "text/plain": [
       "{'trip_distance': '18.379999999999999',\n",
       " 'pickup_latitude': '40.64499',\n",
       " 'pickup_longitude': '-73.781149999999997'}"
      ]
     },
     "execution_count": 5,
     "metadata": {},
     "output_type": "execute_result"
    }
   ],
   "source": [
    "parsed_trips = parse_trips(trips)\n",
    "parsed_trips and parsed_trips[0]\n",
    "\n",
    "# {'pickup_latitude': '40.64499',\n",
    "#  'pickup_longitude': '-73.78115',\n",
    "#  'trip_distance': '18.38'}"
   ]
  },
  {
   "cell_type": "markdown",
   "metadata": {},
   "source": [
    "Now, there's just one change to make.  If you look at one of the trips, all of the values are strings.  Let's change them to be floats."
   ]
  },
  {
   "cell_type": "code",
   "execution_count": 9,
   "metadata": {},
   "outputs": [],
   "source": [
    "def float_values(trips): \n",
    "    trips_float = []\n",
    "    for trip in trips:\n",
    "        for values in trip:\n",
    "            trip[values]=float(trip[values])\n",
    "    return trips\n"
   ]
  },
  {
   "cell_type": "code",
   "execution_count": 10,
   "metadata": {
    "scrolled": true
   },
   "outputs": [],
   "source": [
    "cleaned_trips = float_values(parsed_trips)"
   ]
  },
  {
   "cell_type": "code",
   "execution_count": 11,
   "metadata": {},
   "outputs": [
    {
     "data": {
      "text/plain": [
       "{'trip_distance': 18.38,\n",
       " 'pickup_latitude': 40.64499,\n",
       " 'pickup_longitude': -73.78115}"
      ]
     },
     "execution_count": 11,
     "metadata": {},
     "output_type": "execute_result"
    }
   ],
   "source": [
    "cleaned_trips[0]\n",
    "\n",
    "# {'pickup_latitude': 40.64499,\n",
    "#  'pickup_longitude': -73.78115,\n",
    "#  'trip_distance': 18.38}"
   ]
  },
  {
   "cell_type": "markdown",
   "metadata": {},
   "source": [
    "### Exploring the Data"
   ]
  },
  {
   "cell_type": "markdown",
   "metadata": {},
   "source": [
    "Now that we have paired down our data, let's get a sense of our trip data.  We can use the `folium` Python library to plot a map of Manhattan, and our data.  First we must import `folium`, and then use the `Map` function to pass through a `location`, and `zoom_start`.  If a map isn't showing up below, copy and paste the command `pip install -r requirements.txt` into your terminal to install `folium` then try again."
   ]
  },
  {
   "cell_type": "code",
   "execution_count": 12,
   "metadata": {},
   "outputs": [],
   "source": [
    "import folium\n",
    "manhattan_map = folium.Map(location=[40.7589, -73.9851], zoom_start=11)"
   ]
  },
  {
   "cell_type": "code",
   "execution_count": 13,
   "metadata": {
    "scrolled": true
   },
   "outputs": [
    {
     "data": {
      "text/html": [
       "<div style=\"width:100%;\"><div style=\"position:relative;width:100%;height:0;padding-bottom:60%;\"><iframe src=\"data:text/html;charset=utf-8;base64,PCFET0NUWVBFIGh0bWw+CjxoZWFkPiAgICAKICAgIDxtZXRhIGh0dHAtZXF1aXY9ImNvbnRlbnQtdHlwZSIgY29udGVudD0idGV4dC9odG1sOyBjaGFyc2V0PVVURi04IiAvPgogICAgCiAgICAgICAgPHNjcmlwdD4KICAgICAgICAgICAgTF9OT19UT1VDSCA9IGZhbHNlOwogICAgICAgICAgICBMX0RJU0FCTEVfM0QgPSBmYWxzZTsKICAgICAgICA8L3NjcmlwdD4KICAgIAogICAgPHNjcmlwdCBzcmM9Imh0dHBzOi8vY2RuLmpzZGVsaXZyLm5ldC9ucG0vbGVhZmxldEAxLjUuMS9kaXN0L2xlYWZsZXQuanMiPjwvc2NyaXB0PgogICAgPHNjcmlwdCBzcmM9Imh0dHBzOi8vY29kZS5qcXVlcnkuY29tL2pxdWVyeS0xLjEyLjQubWluLmpzIj48L3NjcmlwdD4KICAgIDxzY3JpcHQgc3JjPSJodHRwczovL21heGNkbi5ib290c3RyYXBjZG4uY29tL2Jvb3RzdHJhcC8zLjIuMC9qcy9ib290c3RyYXAubWluLmpzIj48L3NjcmlwdD4KICAgIDxzY3JpcHQgc3JjPSJodHRwczovL2NkbmpzLmNsb3VkZmxhcmUuY29tL2FqYXgvbGlicy9MZWFmbGV0LmF3ZXNvbWUtbWFya2Vycy8yLjAuMi9sZWFmbGV0LmF3ZXNvbWUtbWFya2Vycy5qcyI+PC9zY3JpcHQ+CiAgICA8bGluayByZWw9InN0eWxlc2hlZXQiIGhyZWY9Imh0dHBzOi8vY2RuLmpzZGVsaXZyLm5ldC9ucG0vbGVhZmxldEAxLjUuMS9kaXN0L2xlYWZsZXQuY3NzIi8+CiAgICA8bGluayByZWw9InN0eWxlc2hlZXQiIGhyZWY9Imh0dHBzOi8vbWF4Y2RuLmJvb3RzdHJhcGNkbi5jb20vYm9vdHN0cmFwLzMuMi4wL2Nzcy9ib290c3RyYXAubWluLmNzcyIvPgogICAgPGxpbmsgcmVsPSJzdHlsZXNoZWV0IiBocmVmPSJodHRwczovL21heGNkbi5ib290c3RyYXBjZG4uY29tL2Jvb3RzdHJhcC8zLjIuMC9jc3MvYm9vdHN0cmFwLXRoZW1lLm1pbi5jc3MiLz4KICAgIDxsaW5rIHJlbD0ic3R5bGVzaGVldCIgaHJlZj0iaHR0cHM6Ly9tYXhjZG4uYm9vdHN0cmFwY2RuLmNvbS9mb250LWF3ZXNvbWUvNC42LjMvY3NzL2ZvbnQtYXdlc29tZS5taW4uY3NzIi8+CiAgICA8bGluayByZWw9InN0eWxlc2hlZXQiIGhyZWY9Imh0dHBzOi8vY2RuanMuY2xvdWRmbGFyZS5jb20vYWpheC9saWJzL0xlYWZsZXQuYXdlc29tZS1tYXJrZXJzLzIuMC4yL2xlYWZsZXQuYXdlc29tZS1tYXJrZXJzLmNzcyIvPgogICAgPGxpbmsgcmVsPSJzdHlsZXNoZWV0IiBocmVmPSJodHRwczovL3Jhd2Nkbi5naXRoYWNrLmNvbS9weXRob24tdmlzdWFsaXphdGlvbi9mb2xpdW0vbWFzdGVyL2ZvbGl1bS90ZW1wbGF0ZXMvbGVhZmxldC5hd2Vzb21lLnJvdGF0ZS5jc3MiLz4KICAgIDxzdHlsZT5odG1sLCBib2R5IHt3aWR0aDogMTAwJTtoZWlnaHQ6IDEwMCU7bWFyZ2luOiAwO3BhZGRpbmc6IDA7fTwvc3R5bGU+CiAgICA8c3R5bGU+I21hcCB7cG9zaXRpb246YWJzb2x1dGU7dG9wOjA7Ym90dG9tOjA7cmlnaHQ6MDtsZWZ0OjA7fTwvc3R5bGU+CiAgICAKICAgICAgICAgICAgPG1ldGEgbmFtZT0idmlld3BvcnQiIGNvbnRlbnQ9IndpZHRoPWRldmljZS13aWR0aCwKICAgICAgICAgICAgICAgIGluaXRpYWwtc2NhbGU9MS4wLCBtYXhpbXVtLXNjYWxlPTEuMCwgdXNlci1zY2FsYWJsZT1ubyIgLz4KICAgICAgICAgICAgPHN0eWxlPgogICAgICAgICAgICAgICAgI21hcF82YzY0ZGYxOGNkYmM0ODEwYjA1ZjdiYWM4MWUwYjZlYyB7CiAgICAgICAgICAgICAgICAgICAgcG9zaXRpb246IHJlbGF0aXZlOwogICAgICAgICAgICAgICAgICAgIHdpZHRoOiAxMDAuMCU7CiAgICAgICAgICAgICAgICAgICAgaGVpZ2h0OiAxMDAuMCU7CiAgICAgICAgICAgICAgICAgICAgbGVmdDogMC4wJTsKICAgICAgICAgICAgICAgICAgICB0b3A6IDAuMCU7CiAgICAgICAgICAgICAgICB9CiAgICAgICAgICAgIDwvc3R5bGU+CiAgICAgICAgCjwvaGVhZD4KPGJvZHk+ICAgIAogICAgCiAgICAgICAgICAgIDxkaXYgY2xhc3M9ImZvbGl1bS1tYXAiIGlkPSJtYXBfNmM2NGRmMThjZGJjNDgxMGIwNWY3YmFjODFlMGI2ZWMiID48L2Rpdj4KICAgICAgICAKPC9ib2R5Pgo8c2NyaXB0PiAgICAKICAgIAogICAgICAgICAgICB2YXIgbWFwXzZjNjRkZjE4Y2RiYzQ4MTBiMDVmN2JhYzgxZTBiNmVjID0gTC5tYXAoCiAgICAgICAgICAgICAgICAibWFwXzZjNjRkZjE4Y2RiYzQ4MTBiMDVmN2JhYzgxZTBiNmVjIiwKICAgICAgICAgICAgICAgIHsKICAgICAgICAgICAgICAgICAgICBjZW50ZXI6IFs0MC43NTg5LCAtNzMuOTg1MV0sCiAgICAgICAgICAgICAgICAgICAgY3JzOiBMLkNSUy5FUFNHMzg1NywKICAgICAgICAgICAgICAgICAgICB6b29tOiAxMSwKICAgICAgICAgICAgICAgICAgICB6b29tQ29udHJvbDogdHJ1ZSwKICAgICAgICAgICAgICAgICAgICBwcmVmZXJDYW52YXM6IGZhbHNlLAogICAgICAgICAgICAgICAgfQogICAgICAgICAgICApOwoKICAgICAgICAgICAgCgogICAgICAgIAogICAgCiAgICAgICAgICAgIHZhciB0aWxlX2xheWVyX2YyZjQyNDExMDZjYjQyOThhOTcwMDYwOTFlNzdlNGZhID0gTC50aWxlTGF5ZXIoCiAgICAgICAgICAgICAgICAiaHR0cHM6Ly97c30udGlsZS5vcGVuc3RyZWV0bWFwLm9yZy97en0ve3h9L3t5fS5wbmciLAogICAgICAgICAgICAgICAgeyJhdHRyaWJ1dGlvbiI6ICJEYXRhIGJ5IFx1MDAyNmNvcHk7IFx1MDAzY2EgaHJlZj1cImh0dHA6Ly9vcGVuc3RyZWV0bWFwLm9yZ1wiXHUwMDNlT3BlblN0cmVldE1hcFx1MDAzYy9hXHUwMDNlLCB1bmRlciBcdTAwM2NhIGhyZWY9XCJodHRwOi8vd3d3Lm9wZW5zdHJlZXRtYXAub3JnL2NvcHlyaWdodFwiXHUwMDNlT0RiTFx1MDAzYy9hXHUwMDNlLiIsICJkZXRlY3RSZXRpbmEiOiBmYWxzZSwgIm1heE5hdGl2ZVpvb20iOiAxOCwgIm1heFpvb20iOiAxOCwgIm1pblpvb20iOiAwLCAibm9XcmFwIjogZmFsc2UsICJvcGFjaXR5IjogMSwgInN1YmRvbWFpbnMiOiAiYWJjIiwgInRtcyI6IGZhbHNlfQogICAgICAgICAgICApLmFkZFRvKG1hcF82YzY0ZGYxOGNkYmM0ODEwYjA1ZjdiYWM4MWUwYjZlYyk7CiAgICAgICAgCjwvc2NyaXB0Pg==\" style=\"position:absolute;width:100%;height:100%;left:0;top:0;border:none !important;\" allowfullscreen webkitallowfullscreen mozallowfullscreen></iframe></div></div>"
      ],
      "text/plain": [
       "<folium.folium.Map at 0x7fb9bf17cd68>"
      ]
     },
     "execution_count": 13,
     "metadata": {},
     "output_type": "execute_result"
    }
   ],
   "source": [
    "manhattan_map"
   ]
  },
  {
   "cell_type": "markdown",
   "metadata": {},
   "source": [
    "Ok, now let's see how we could add a dot to mark a specific location.  We'll start with Times Square."
   ]
  },
  {
   "cell_type": "code",
   "execution_count": 14,
   "metadata": {},
   "outputs": [
    {
     "data": {
      "text/plain": [
       "<folium.vector_layers.CircleMarker at 0x7fb992022ac8>"
      ]
     },
     "execution_count": 14,
     "metadata": {},
     "output_type": "execute_result"
    }
   ],
   "source": [
    "marker = folium.CircleMarker(location = [40.7589, -73.9851], radius=10)\n",
    "marker.add_to(manhattan_map)"
   ]
  },
  {
   "cell_type": "markdown",
   "metadata": {},
   "source": [
    "Above, we first create a marker.  Then we add that circle marker to the `manhattan_map` we created earlier. "
   ]
  },
  {
   "cell_type": "code",
   "execution_count": 15,
   "metadata": {
    "scrolled": false
   },
   "outputs": [
    {
     "data": {
      "text/html": [
       "<div style=\"width:100%;\"><div style=\"position:relative;width:100%;height:0;padding-bottom:60%;\"><iframe src=\"data:text/html;charset=utf-8;base64,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\" style=\"position:absolute;width:100%;height:100%;left:0;top:0;border:none !important;\" allowfullscreen webkitallowfullscreen mozallowfullscreen></iframe></div></div>"
      ],
      "text/plain": [
       "<folium.folium.Map at 0x7fb9bf17cd68>"
      ]
     },
     "execution_count": 15,
     "metadata": {},
     "output_type": "execute_result"
    }
   ],
   "source": [
    "manhattan_map"
   ]
  },
  {
   "cell_type": "markdown",
   "metadata": {},
   "source": [
    "Do you see that blue dot near Time's Square?  That is our marker.  \n",
    "\n",
    "So now that we can plot one marker on a map, we should have a sense of how we can plot many markers on a map to display our taxi ride data.  We simply plot a map, and then we add a marker for each location of a taxi trip.\n",
    "\n",
    "Now let's write some functions to allow us to plot maps and add markers a little more easily.  "
   ]
  },
  {
   "cell_type": "markdown",
   "metadata": {},
   "source": [
    "#### Writing some map plotting functions"
   ]
  },
  {
   "cell_type": "markdown",
   "metadata": {},
   "source": [
    "As a first step towards this, note that the functions to create both a marker and map each take in a location as two element list, representing the latitude and longitude values.  Take another look:\n",
    "\n",
    "```python\n",
    "marker = folium.CircleMarker(location = [40.7589, -73.9851])\n",
    "manhattan_map = folium.Map(location=[40.7589, -73.9851])\n",
    "```\n",
    "\n",
    "So let's write a function called to create this two element list from a trip.  Write a function called `location` that  takes in a trip as an argument and returns a list where the first element is the latitude and the second is the longitude.  Remember that a location looks like the following:"
   ]
  },
  {
   "cell_type": "code",
   "execution_count": 16,
   "metadata": {},
   "outputs": [
    {
     "data": {
      "text/plain": [
       "{'pickup_latitude': 40.64499,\n",
       " 'pickup_longitude': -73.78115,\n",
       " 'trip_distance': 18.38}"
      ]
     },
     "execution_count": 16,
     "metadata": {},
     "output_type": "execute_result"
    }
   ],
   "source": [
    "first_trip = {'pickup_latitude': 40.64499, 'pickup_longitude': -73.78115,  'trip_distance': 18.38}\n",
    "first_trip"
   ]
  },
  {
   "cell_type": "code",
   "execution_count": 17,
   "metadata": {},
   "outputs": [],
   "source": [
    "def location(trip):\n",
    "    trip_coord = [trip.get('pickup_latitude'), trip.get('pickup_longitude')]\n",
    "    return trip_coord"
   ]
  },
  {
   "cell_type": "code",
   "execution_count": 18,
   "metadata": {},
   "outputs": [
    {
     "data": {
      "text/plain": [
       "[40.64499, -73.78115]"
      ]
     },
     "execution_count": 18,
     "metadata": {},
     "output_type": "execute_result"
    }
   ],
   "source": [
    "first_location = location(first_trip) # [40.64499, -73.78115]\n",
    "first_location # [40.64499, -73.78115]"
   ]
  },
  {
   "cell_type": "markdown",
   "metadata": {},
   "source": [
    "Ok, now that we can turn a trip into a location, let's turn a location into a marker.  Write a function called `to_marker` that takes in a location (in the form of a list) as an argument, and returns a folium `circleMarker` for that location.  The radius of the marker should always equal 6."
   ]
  },
  {
   "cell_type": "code",
   "execution_count": 19,
   "metadata": {},
   "outputs": [],
   "source": [
    "def to_marker(location):\n",
    "    marker = folium.CircleMarker(location = location, radius = 6)\n",
    "    return marker"
   ]
  },
  {
   "cell_type": "code",
   "execution_count": 21,
   "metadata": {},
   "outputs": [
    {
     "data": {
      "text/plain": [
       "[40.7589, -73.9851]"
      ]
     },
     "execution_count": 21,
     "metadata": {},
     "output_type": "execute_result"
    }
   ],
   "source": [
    "import json\n",
    "times_square_marker = to_marker([40.7589, -73.9851])\n",
    "\n",
    "times_square_marker and times_square_marker.location # [40.7589, -73.9851]\n",
    "#times_square_marker and json.loads(times_square_marker.options)['radius'] # 6\n"
   ]
  },
  {
   "cell_type": "markdown",
   "metadata": {},
   "source": [
    "Ok, now that we know how to produce a single marker, let's write a function to produce lots.  We can write a function called `markers_from_trips` that takes in a list of trips, and returns a marker object for each trip.  "
   ]
  },
  {
   "cell_type": "code",
   "execution_count": 52,
   "metadata": {},
   "outputs": [],
   "source": [
    "def markers_from_trips(trips):\n",
    "    markers = []\n",
    "    for trip in trips:\n",
    "        trip_coord = location(trip)\n",
    "        markers.append(folium.CircleMarker(location = trip_coord, radius = 6))\n",
    "    return markers"
   ]
  },
  {
   "cell_type": "code",
   "execution_count": 53,
   "metadata": {},
   "outputs": [
    {
     "data": {
      "text/plain": [
       "[<folium.vector_layers.CircleMarker at 0x7fb99191cf60>,\n",
       " <folium.vector_layers.CircleMarker at 0x7fb99191ceb8>,\n",
       " <folium.vector_layers.CircleMarker at 0x7fb99191cfd0>,\n",
       " <folium.vector_layers.CircleMarker at 0x7fb99191cef0>,\n",
       " <folium.vector_layers.CircleMarker at 0x7fb99191c4a8>,\n",
       " <folium.vector_layers.CircleMarker at 0x7fb99191ccf8>,\n",
       " <folium.vector_layers.CircleMarker at 0x7fb99191c588>,\n",
       " <folium.vector_layers.CircleMarker at 0x7fb99191ccc0>,\n",
       " <folium.vector_layers.CircleMarker at 0x7fb9918337b8>,\n",
       " <folium.vector_layers.CircleMarker at 0x7fb991833978>,\n",
       " <folium.vector_layers.CircleMarker at 0x7fb991833908>,\n",
       " <folium.vector_layers.CircleMarker at 0x7fb991833668>,\n",
       " <folium.vector_layers.CircleMarker at 0x7fb991833a58>,\n",
       " <folium.vector_layers.CircleMarker at 0x7fb991833940>,\n",
       " <folium.vector_layers.CircleMarker at 0x7fb991833860>,\n",
       " <folium.vector_layers.CircleMarker at 0x7fb9918338d0>,\n",
       " <folium.vector_layers.CircleMarker at 0x7fb9918332b0>,\n",
       " <folium.vector_layers.CircleMarker at 0x7fb991833898>,\n",
       " <folium.vector_layers.CircleMarker at 0x7fb9918339b0>,\n",
       " <folium.vector_layers.CircleMarker at 0x7fb991833780>,\n",
       " <folium.vector_layers.CircleMarker at 0x7fb991833400>,\n",
       " <folium.vector_layers.CircleMarker at 0x7fb991833438>,\n",
       " <folium.vector_layers.CircleMarker at 0x7fb991833320>,\n",
       " <folium.vector_layers.CircleMarker at 0x7fb991833240>,\n",
       " <folium.vector_layers.CircleMarker at 0x7fb991833390>,\n",
       " <folium.vector_layers.CircleMarker at 0x7fb9918332e8>,\n",
       " <folium.vector_layers.CircleMarker at 0x7fb991833358>,\n",
       " <folium.vector_layers.CircleMarker at 0x7fb991833208>,\n",
       " <folium.vector_layers.CircleMarker at 0x7fb991833470>,\n",
       " <folium.vector_layers.CircleMarker at 0x7fb991833518>,\n",
       " <folium.vector_layers.CircleMarker at 0x7fb991833588>,\n",
       " <folium.vector_layers.CircleMarker at 0x7fb99191c5f8>,\n",
       " <folium.vector_layers.CircleMarker at 0x7fb99191c400>,\n",
       " <folium.vector_layers.CircleMarker at 0x7fb9918334a8>,\n",
       " <folium.vector_layers.CircleMarker at 0x7fb991833f98>,\n",
       " <folium.vector_layers.CircleMarker at 0x7fb991833ac8>,\n",
       " <folium.vector_layers.CircleMarker at 0x7fb99199f198>,\n",
       " <folium.vector_layers.CircleMarker at 0x7fb991833278>,\n",
       " <folium.vector_layers.CircleMarker at 0x7fb990771390>,\n",
       " <folium.vector_layers.CircleMarker at 0x7fb9907719b0>,\n",
       " <folium.vector_layers.CircleMarker at 0x7fb9907713c8>,\n",
       " <folium.vector_layers.CircleMarker at 0x7fb990771080>,\n",
       " <folium.vector_layers.CircleMarker at 0x7fb9907710b8>,\n",
       " <folium.vector_layers.CircleMarker at 0x7fb9907710f0>,\n",
       " <folium.vector_layers.CircleMarker at 0x7fb990771128>,\n",
       " <folium.vector_layers.CircleMarker at 0x7fb990771160>,\n",
       " <folium.vector_layers.CircleMarker at 0x7fb990771198>,\n",
       " <folium.vector_layers.CircleMarker at 0x7fb9907711d0>,\n",
       " <folium.vector_layers.CircleMarker at 0x7fb990771208>,\n",
       " <folium.vector_layers.CircleMarker at 0x7fb990771240>,\n",
       " <folium.vector_layers.CircleMarker at 0x7fb990771278>,\n",
       " <folium.vector_layers.CircleMarker at 0x7fb9907712b0>,\n",
       " <folium.vector_layers.CircleMarker at 0x7fb9907712e8>,\n",
       " <folium.vector_layers.CircleMarker at 0x7fb990771320>,\n",
       " <folium.vector_layers.CircleMarker at 0x7fb990771400>,\n",
       " <folium.vector_layers.CircleMarker at 0x7fb990771358>,\n",
       " <folium.vector_layers.CircleMarker at 0x7fb9906a5080>,\n",
       " <folium.vector_layers.CircleMarker at 0x7fb9906a5f60>,\n",
       " <folium.vector_layers.CircleMarker at 0x7fb9906a5f98>,\n",
       " <folium.vector_layers.CircleMarker at 0x7fb9906a5fd0>,\n",
       " <folium.vector_layers.CircleMarker at 0x7fb9906a5f28>,\n",
       " <folium.vector_layers.CircleMarker at 0x7fb991944080>,\n",
       " <folium.vector_layers.CircleMarker at 0x7fb9919440b8>,\n",
       " <folium.vector_layers.CircleMarker at 0x7fb9919440f0>,\n",
       " <folium.vector_layers.CircleMarker at 0x7fb991944128>,\n",
       " <folium.vector_layers.CircleMarker at 0x7fb991944160>,\n",
       " <folium.vector_layers.CircleMarker at 0x7fb991944198>,\n",
       " <folium.vector_layers.CircleMarker at 0x7fb9919441d0>,\n",
       " <folium.vector_layers.CircleMarker at 0x7fb991944208>,\n",
       " <folium.vector_layers.CircleMarker at 0x7fb991944240>,\n",
       " <folium.vector_layers.CircleMarker at 0x7fb991944278>,\n",
       " <folium.vector_layers.CircleMarker at 0x7fb9919442b0>,\n",
       " <folium.vector_layers.CircleMarker at 0x7fb9919442e8>,\n",
       " <folium.vector_layers.CircleMarker at 0x7fb991944320>,\n",
       " <folium.vector_layers.CircleMarker at 0x7fb991944358>,\n",
       " <folium.vector_layers.CircleMarker at 0x7fb991944390>,\n",
       " <folium.vector_layers.CircleMarker at 0x7fb9919443c8>,\n",
       " <folium.vector_layers.CircleMarker at 0x7fb991944400>,\n",
       " <folium.vector_layers.CircleMarker at 0x7fb991944438>,\n",
       " <folium.vector_layers.CircleMarker at 0x7fb991944470>,\n",
       " <folium.vector_layers.CircleMarker at 0x7fb9919444a8>,\n",
       " <folium.vector_layers.CircleMarker at 0x7fb9919444e0>,\n",
       " <folium.vector_layers.CircleMarker at 0x7fb991944518>,\n",
       " <folium.vector_layers.CircleMarker at 0x7fb991944550>,\n",
       " <folium.vector_layers.CircleMarker at 0x7fb991944588>,\n",
       " <folium.vector_layers.CircleMarker at 0x7fb9919445c0>,\n",
       " <folium.vector_layers.CircleMarker at 0x7fb9919445f8>,\n",
       " <folium.vector_layers.CircleMarker at 0x7fb991944630>,\n",
       " <folium.vector_layers.CircleMarker at 0x7fb991944668>,\n",
       " <folium.vector_layers.CircleMarker at 0x7fb9919446a0>,\n",
       " <folium.vector_layers.CircleMarker at 0x7fb9919446d8>,\n",
       " <folium.vector_layers.CircleMarker at 0x7fb991944710>,\n",
       " <folium.vector_layers.CircleMarker at 0x7fb991944748>,\n",
       " <folium.vector_layers.CircleMarker at 0x7fb991944780>,\n",
       " <folium.vector_layers.CircleMarker at 0x7fb9919447b8>,\n",
       " <folium.vector_layers.CircleMarker at 0x7fb9919447f0>,\n",
       " <folium.vector_layers.CircleMarker at 0x7fb991944828>,\n",
       " <folium.vector_layers.CircleMarker at 0x7fb991944860>,\n",
       " <folium.vector_layers.CircleMarker at 0x7fb991944898>,\n",
       " <folium.vector_layers.CircleMarker at 0x7fb9919448d0>,\n",
       " <folium.vector_layers.CircleMarker at 0x7fb991944908>,\n",
       " <folium.vector_layers.CircleMarker at 0x7fb991944940>,\n",
       " <folium.vector_layers.CircleMarker at 0x7fb991944978>,\n",
       " <folium.vector_layers.CircleMarker at 0x7fb9919449b0>,\n",
       " <folium.vector_layers.CircleMarker at 0x7fb9919449e8>,\n",
       " <folium.vector_layers.CircleMarker at 0x7fb991944a20>,\n",
       " <folium.vector_layers.CircleMarker at 0x7fb991944a58>,\n",
       " <folium.vector_layers.CircleMarker at 0x7fb991944a90>,\n",
       " <folium.vector_layers.CircleMarker at 0x7fb991944ac8>,\n",
       " <folium.vector_layers.CircleMarker at 0x7fb991944b00>,\n",
       " <folium.vector_layers.CircleMarker at 0x7fb991944b38>,\n",
       " <folium.vector_layers.CircleMarker at 0x7fb991944b70>,\n",
       " <folium.vector_layers.CircleMarker at 0x7fb991944ba8>,\n",
       " <folium.vector_layers.CircleMarker at 0x7fb991944be0>,\n",
       " <folium.vector_layers.CircleMarker at 0x7fb991944c18>,\n",
       " <folium.vector_layers.CircleMarker at 0x7fb991944c50>,\n",
       " <folium.vector_layers.CircleMarker at 0x7fb991944c88>,\n",
       " <folium.vector_layers.CircleMarker at 0x7fb991944cc0>,\n",
       " <folium.vector_layers.CircleMarker at 0x7fb991944cf8>,\n",
       " <folium.vector_layers.CircleMarker at 0x7fb991944d30>,\n",
       " <folium.vector_layers.CircleMarker at 0x7fb991944d68>,\n",
       " <folium.vector_layers.CircleMarker at 0x7fb991944da0>,\n",
       " <folium.vector_layers.CircleMarker at 0x7fb991944dd8>,\n",
       " <folium.vector_layers.CircleMarker at 0x7fb991944e10>,\n",
       " <folium.vector_layers.CircleMarker at 0x7fb991944e48>,\n",
       " <folium.vector_layers.CircleMarker at 0x7fb991944e80>,\n",
       " <folium.vector_layers.CircleMarker at 0x7fb991944eb8>,\n",
       " <folium.vector_layers.CircleMarker at 0x7fb991944ef0>,\n",
       " <folium.vector_layers.CircleMarker at 0x7fb991944f28>,\n",
       " <folium.vector_layers.CircleMarker at 0x7fb991944f60>,\n",
       " <folium.vector_layers.CircleMarker at 0x7fb991944f98>,\n",
       " <folium.vector_layers.CircleMarker at 0x7fb991944fd0>,\n",
       " <folium.vector_layers.CircleMarker at 0x7fb991944048>,\n",
       " <folium.vector_layers.CircleMarker at 0x7fb9906b0080>,\n",
       " <folium.vector_layers.CircleMarker at 0x7fb9906b00b8>,\n",
       " <folium.vector_layers.CircleMarker at 0x7fb9906b00f0>,\n",
       " <folium.vector_layers.CircleMarker at 0x7fb9906b0128>,\n",
       " <folium.vector_layers.CircleMarker at 0x7fb9906b0160>,\n",
       " <folium.vector_layers.CircleMarker at 0x7fb9906b0198>,\n",
       " <folium.vector_layers.CircleMarker at 0x7fb9906b01d0>,\n",
       " <folium.vector_layers.CircleMarker at 0x7fb9906b0208>,\n",
       " <folium.vector_layers.CircleMarker at 0x7fb9906b0240>,\n",
       " <folium.vector_layers.CircleMarker at 0x7fb9906b0278>,\n",
       " <folium.vector_layers.CircleMarker at 0x7fb9906b02b0>,\n",
       " <folium.vector_layers.CircleMarker at 0x7fb9906b02e8>,\n",
       " <folium.vector_layers.CircleMarker at 0x7fb9906b0320>,\n",
       " <folium.vector_layers.CircleMarker at 0x7fb9906b0358>,\n",
       " <folium.vector_layers.CircleMarker at 0x7fb9906b0390>,\n",
       " <folium.vector_layers.CircleMarker at 0x7fb9906b03c8>,\n",
       " <folium.vector_layers.CircleMarker at 0x7fb9906b0400>,\n",
       " <folium.vector_layers.CircleMarker at 0x7fb9906b0438>,\n",
       " <folium.vector_layers.CircleMarker at 0x7fb9906b0470>,\n",
       " <folium.vector_layers.CircleMarker at 0x7fb9906b04a8>,\n",
       " <folium.vector_layers.CircleMarker at 0x7fb9906b04e0>,\n",
       " <folium.vector_layers.CircleMarker at 0x7fb9906b0518>,\n",
       " <folium.vector_layers.CircleMarker at 0x7fb9906b0550>,\n",
       " <folium.vector_layers.CircleMarker at 0x7fb9906b0588>,\n",
       " <folium.vector_layers.CircleMarker at 0x7fb9906b05c0>,\n",
       " <folium.vector_layers.CircleMarker at 0x7fb9906b05f8>,\n",
       " <folium.vector_layers.CircleMarker at 0x7fb9906b0630>,\n",
       " <folium.vector_layers.CircleMarker at 0x7fb9906b0668>,\n",
       " <folium.vector_layers.CircleMarker at 0x7fb9906b06a0>,\n",
       " <folium.vector_layers.CircleMarker at 0x7fb9906b06d8>,\n",
       " <folium.vector_layers.CircleMarker at 0x7fb9906b0710>,\n",
       " <folium.vector_layers.CircleMarker at 0x7fb9906b0748>,\n",
       " <folium.vector_layers.CircleMarker at 0x7fb9906b0780>,\n",
       " <folium.vector_layers.CircleMarker at 0x7fb9906b07b8>,\n",
       " <folium.vector_layers.CircleMarker at 0x7fb9906b07f0>,\n",
       " <folium.vector_layers.CircleMarker at 0x7fb9906b0828>,\n",
       " <folium.vector_layers.CircleMarker at 0x7fb9906b0860>,\n",
       " <folium.vector_layers.CircleMarker at 0x7fb9906b0898>,\n",
       " <folium.vector_layers.CircleMarker at 0x7fb9906b08d0>,\n",
       " <folium.vector_layers.CircleMarker at 0x7fb9906b0908>,\n",
       " <folium.vector_layers.CircleMarker at 0x7fb9906b0940>,\n",
       " <folium.vector_layers.CircleMarker at 0x7fb9906b0978>,\n",
       " <folium.vector_layers.CircleMarker at 0x7fb9906b09b0>,\n",
       " <folium.vector_layers.CircleMarker at 0x7fb9906b09e8>,\n",
       " <folium.vector_layers.CircleMarker at 0x7fb9906b0a20>,\n",
       " <folium.vector_layers.CircleMarker at 0x7fb9906b0a58>,\n",
       " <folium.vector_layers.CircleMarker at 0x7fb9906b0a90>,\n",
       " <folium.vector_layers.CircleMarker at 0x7fb9906b0ac8>,\n",
       " <folium.vector_layers.CircleMarker at 0x7fb9906b0b00>,\n",
       " <folium.vector_layers.CircleMarker at 0x7fb9906b0b38>,\n",
       " <folium.vector_layers.CircleMarker at 0x7fb9906b0b70>,\n",
       " <folium.vector_layers.CircleMarker at 0x7fb9906b0ba8>,\n",
       " <folium.vector_layers.CircleMarker at 0x7fb9906b0be0>,\n",
       " <folium.vector_layers.CircleMarker at 0x7fb9906b0c18>,\n",
       " <folium.vector_layers.CircleMarker at 0x7fb9906b0c50>,\n",
       " <folium.vector_layers.CircleMarker at 0x7fb9906b0c88>,\n",
       " <folium.vector_layers.CircleMarker at 0x7fb9906b0cc0>,\n",
       " <folium.vector_layers.CircleMarker at 0x7fb9906b0cf8>,\n",
       " <folium.vector_layers.CircleMarker at 0x7fb9906b0d30>,\n",
       " <folium.vector_layers.CircleMarker at 0x7fb9906b0d68>,\n",
       " <folium.vector_layers.CircleMarker at 0x7fb9906b0da0>,\n",
       " <folium.vector_layers.CircleMarker at 0x7fb9906b0dd8>,\n",
       " <folium.vector_layers.CircleMarker at 0x7fb9906b0e10>,\n",
       " <folium.vector_layers.CircleMarker at 0x7fb9906b0e48>,\n",
       " <folium.vector_layers.CircleMarker at 0x7fb9906b0e80>,\n",
       " <folium.vector_layers.CircleMarker at 0x7fb9906b0eb8>,\n",
       " <folium.vector_layers.CircleMarker at 0x7fb9906b0ef0>,\n",
       " <folium.vector_layers.CircleMarker at 0x7fb9906b0f28>,\n",
       " <folium.vector_layers.CircleMarker at 0x7fb9906b0f60>,\n",
       " <folium.vector_layers.CircleMarker at 0x7fb9906b0f98>,\n",
       " <folium.vector_layers.CircleMarker at 0x7fb9906b0fd0>,\n",
       " <folium.vector_layers.CircleMarker at 0x7fb9906b0048>,\n",
       " <folium.vector_layers.CircleMarker at 0x7fb9906bc080>,\n",
       " <folium.vector_layers.CircleMarker at 0x7fb9906bc0b8>,\n",
       " <folium.vector_layers.CircleMarker at 0x7fb9906bc0f0>,\n",
       " <folium.vector_layers.CircleMarker at 0x7fb9906bc128>,\n",
       " <folium.vector_layers.CircleMarker at 0x7fb9906bc160>,\n",
       " <folium.vector_layers.CircleMarker at 0x7fb9906bc198>,\n",
       " <folium.vector_layers.CircleMarker at 0x7fb9906bc1d0>,\n",
       " <folium.vector_layers.CircleMarker at 0x7fb9906bc208>,\n",
       " <folium.vector_layers.CircleMarker at 0x7fb9906bc240>,\n",
       " <folium.vector_layers.CircleMarker at 0x7fb9906bc278>,\n",
       " <folium.vector_layers.CircleMarker at 0x7fb9906bc2b0>,\n",
       " <folium.vector_layers.CircleMarker at 0x7fb9906bc2e8>,\n",
       " <folium.vector_layers.CircleMarker at 0x7fb9906bc320>,\n",
       " <folium.vector_layers.CircleMarker at 0x7fb9906bc358>,\n",
       " <folium.vector_layers.CircleMarker at 0x7fb9906bc390>,\n",
       " <folium.vector_layers.CircleMarker at 0x7fb9906bc3c8>,\n",
       " <folium.vector_layers.CircleMarker at 0x7fb9906bc400>,\n",
       " <folium.vector_layers.CircleMarker at 0x7fb9906bc438>,\n",
       " <folium.vector_layers.CircleMarker at 0x7fb9906bc470>,\n",
       " <folium.vector_layers.CircleMarker at 0x7fb9906bc4a8>,\n",
       " <folium.vector_layers.CircleMarker at 0x7fb9906bc4e0>,\n",
       " <folium.vector_layers.CircleMarker at 0x7fb9906bc518>,\n",
       " <folium.vector_layers.CircleMarker at 0x7fb9906bc550>,\n",
       " <folium.vector_layers.CircleMarker at 0x7fb9906bc588>,\n",
       " <folium.vector_layers.CircleMarker at 0x7fb9906bc5c0>,\n",
       " <folium.vector_layers.CircleMarker at 0x7fb9906bc5f8>,\n",
       " <folium.vector_layers.CircleMarker at 0x7fb9906bc630>,\n",
       " <folium.vector_layers.CircleMarker at 0x7fb9906bc668>,\n",
       " <folium.vector_layers.CircleMarker at 0x7fb9906bc6a0>,\n",
       " <folium.vector_layers.CircleMarker at 0x7fb9906bc6d8>,\n",
       " <folium.vector_layers.CircleMarker at 0x7fb9906bc710>,\n",
       " <folium.vector_layers.CircleMarker at 0x7fb9906bc748>,\n",
       " <folium.vector_layers.CircleMarker at 0x7fb9906bc780>,\n",
       " <folium.vector_layers.CircleMarker at 0x7fb9906bc7b8>,\n",
       " <folium.vector_layers.CircleMarker at 0x7fb9906bc7f0>,\n",
       " <folium.vector_layers.CircleMarker at 0x7fb9906bc828>,\n",
       " <folium.vector_layers.CircleMarker at 0x7fb9906bc860>,\n",
       " <folium.vector_layers.CircleMarker at 0x7fb9906bc898>,\n",
       " <folium.vector_layers.CircleMarker at 0x7fb9906bc8d0>,\n",
       " <folium.vector_layers.CircleMarker at 0x7fb9906bc908>,\n",
       " <folium.vector_layers.CircleMarker at 0x7fb9906bc940>,\n",
       " <folium.vector_layers.CircleMarker at 0x7fb9906bc978>,\n",
       " <folium.vector_layers.CircleMarker at 0x7fb9906bc9b0>,\n",
       " <folium.vector_layers.CircleMarker at 0x7fb9906bc9e8>,\n",
       " <folium.vector_layers.CircleMarker at 0x7fb9906bca20>,\n",
       " <folium.vector_layers.CircleMarker at 0x7fb9906bca58>,\n",
       " <folium.vector_layers.CircleMarker at 0x7fb9906bca90>,\n",
       " <folium.vector_layers.CircleMarker at 0x7fb9906bcac8>,\n",
       " <folium.vector_layers.CircleMarker at 0x7fb9906bcb00>,\n",
       " <folium.vector_layers.CircleMarker at 0x7fb9906bcb38>,\n",
       " <folium.vector_layers.CircleMarker at 0x7fb9906bcb70>,\n",
       " <folium.vector_layers.CircleMarker at 0x7fb9906bcba8>,\n",
       " <folium.vector_layers.CircleMarker at 0x7fb9906bcbe0>,\n",
       " <folium.vector_layers.CircleMarker at 0x7fb9906bcc18>,\n",
       " <folium.vector_layers.CircleMarker at 0x7fb9906bcc50>,\n",
       " <folium.vector_layers.CircleMarker at 0x7fb9906bcc88>,\n",
       " <folium.vector_layers.CircleMarker at 0x7fb9906bccc0>,\n",
       " <folium.vector_layers.CircleMarker at 0x7fb9906bccf8>,\n",
       " <folium.vector_layers.CircleMarker at 0x7fb9906bcd30>,\n",
       " <folium.vector_layers.CircleMarker at 0x7fb9906bcd68>,\n",
       " <folium.vector_layers.CircleMarker at 0x7fb9906bcda0>,\n",
       " <folium.vector_layers.CircleMarker at 0x7fb9906bcdd8>,\n",
       " <folium.vector_layers.CircleMarker at 0x7fb9906bce10>,\n",
       " <folium.vector_layers.CircleMarker at 0x7fb9906bce48>,\n",
       " <folium.vector_layers.CircleMarker at 0x7fb9906bce80>,\n",
       " <folium.vector_layers.CircleMarker at 0x7fb9906bceb8>,\n",
       " <folium.vector_layers.CircleMarker at 0x7fb9906bcef0>,\n",
       " <folium.vector_layers.CircleMarker at 0x7fb9906bcf28>,\n",
       " <folium.vector_layers.CircleMarker at 0x7fb9906bcf60>,\n",
       " <folium.vector_layers.CircleMarker at 0x7fb9906bcf98>,\n",
       " <folium.vector_layers.CircleMarker at 0x7fb9906bcfd0>,\n",
       " <folium.vector_layers.CircleMarker at 0x7fb9906bc048>,\n",
       " <folium.vector_layers.CircleMarker at 0x7fb990748080>,\n",
       " <folium.vector_layers.CircleMarker at 0x7fb9907480b8>,\n",
       " <folium.vector_layers.CircleMarker at 0x7fb9907480f0>,\n",
       " <folium.vector_layers.CircleMarker at 0x7fb990748128>,\n",
       " <folium.vector_layers.CircleMarker at 0x7fb990748160>,\n",
       " <folium.vector_layers.CircleMarker at 0x7fb990748198>,\n",
       " <folium.vector_layers.CircleMarker at 0x7fb9907481d0>,\n",
       " <folium.vector_layers.CircleMarker at 0x7fb990748208>,\n",
       " <folium.vector_layers.CircleMarker at 0x7fb990748240>,\n",
       " <folium.vector_layers.CircleMarker at 0x7fb990748278>,\n",
       " <folium.vector_layers.CircleMarker at 0x7fb9907482b0>,\n",
       " <folium.vector_layers.CircleMarker at 0x7fb9907482e8>,\n",
       " <folium.vector_layers.CircleMarker at 0x7fb990748320>,\n",
       " <folium.vector_layers.CircleMarker at 0x7fb990748358>,\n",
       " <folium.vector_layers.CircleMarker at 0x7fb990748390>,\n",
       " <folium.vector_layers.CircleMarker at 0x7fb9907483c8>,\n",
       " <folium.vector_layers.CircleMarker at 0x7fb990748400>,\n",
       " <folium.vector_layers.CircleMarker at 0x7fb990748438>,\n",
       " <folium.vector_layers.CircleMarker at 0x7fb990748470>,\n",
       " <folium.vector_layers.CircleMarker at 0x7fb9907484a8>,\n",
       " <folium.vector_layers.CircleMarker at 0x7fb9907484e0>,\n",
       " <folium.vector_layers.CircleMarker at 0x7fb990748518>,\n",
       " <folium.vector_layers.CircleMarker at 0x7fb990748550>,\n",
       " <folium.vector_layers.CircleMarker at 0x7fb990748588>,\n",
       " <folium.vector_layers.CircleMarker at 0x7fb9907485c0>,\n",
       " <folium.vector_layers.CircleMarker at 0x7fb9907485f8>,\n",
       " <folium.vector_layers.CircleMarker at 0x7fb990748630>,\n",
       " <folium.vector_layers.CircleMarker at 0x7fb990748668>,\n",
       " <folium.vector_layers.CircleMarker at 0x7fb9907486a0>,\n",
       " <folium.vector_layers.CircleMarker at 0x7fb9907486d8>,\n",
       " <folium.vector_layers.CircleMarker at 0x7fb990748710>,\n",
       " <folium.vector_layers.CircleMarker at 0x7fb990748748>,\n",
       " <folium.vector_layers.CircleMarker at 0x7fb990748780>,\n",
       " <folium.vector_layers.CircleMarker at 0x7fb9907487b8>,\n",
       " <folium.vector_layers.CircleMarker at 0x7fb9907487f0>,\n",
       " <folium.vector_layers.CircleMarker at 0x7fb990748828>,\n",
       " <folium.vector_layers.CircleMarker at 0x7fb990748860>,\n",
       " <folium.vector_layers.CircleMarker at 0x7fb990748898>,\n",
       " <folium.vector_layers.CircleMarker at 0x7fb9907488d0>,\n",
       " <folium.vector_layers.CircleMarker at 0x7fb990748908>,\n",
       " <folium.vector_layers.CircleMarker at 0x7fb990748940>,\n",
       " <folium.vector_layers.CircleMarker at 0x7fb990748978>,\n",
       " <folium.vector_layers.CircleMarker at 0x7fb9907489b0>,\n",
       " <folium.vector_layers.CircleMarker at 0x7fb9907489e8>,\n",
       " <folium.vector_layers.CircleMarker at 0x7fb990748a20>,\n",
       " <folium.vector_layers.CircleMarker at 0x7fb990748a58>,\n",
       " <folium.vector_layers.CircleMarker at 0x7fb990748a90>,\n",
       " <folium.vector_layers.CircleMarker at 0x7fb990748ac8>,\n",
       " <folium.vector_layers.CircleMarker at 0x7fb990748b00>,\n",
       " <folium.vector_layers.CircleMarker at 0x7fb990748b38>,\n",
       " <folium.vector_layers.CircleMarker at 0x7fb990748b70>,\n",
       " <folium.vector_layers.CircleMarker at 0x7fb990748ba8>,\n",
       " <folium.vector_layers.CircleMarker at 0x7fb990748be0>,\n",
       " <folium.vector_layers.CircleMarker at 0x7fb990748c18>,\n",
       " <folium.vector_layers.CircleMarker at 0x7fb990748c50>,\n",
       " <folium.vector_layers.CircleMarker at 0x7fb990748c88>,\n",
       " <folium.vector_layers.CircleMarker at 0x7fb990748cc0>,\n",
       " <folium.vector_layers.CircleMarker at 0x7fb990748cf8>,\n",
       " <folium.vector_layers.CircleMarker at 0x7fb990748d30>,\n",
       " <folium.vector_layers.CircleMarker at 0x7fb990748d68>,\n",
       " <folium.vector_layers.CircleMarker at 0x7fb990748da0>,\n",
       " <folium.vector_layers.CircleMarker at 0x7fb990748dd8>,\n",
       " <folium.vector_layers.CircleMarker at 0x7fb990748e10>,\n",
       " <folium.vector_layers.CircleMarker at 0x7fb990748e48>,\n",
       " <folium.vector_layers.CircleMarker at 0x7fb990748e80>,\n",
       " <folium.vector_layers.CircleMarker at 0x7fb990748eb8>,\n",
       " <folium.vector_layers.CircleMarker at 0x7fb990748ef0>,\n",
       " <folium.vector_layers.CircleMarker at 0x7fb990748f28>,\n",
       " <folium.vector_layers.CircleMarker at 0x7fb990748f60>,\n",
       " <folium.vector_layers.CircleMarker at 0x7fb990748f98>,\n",
       " <folium.vector_layers.CircleMarker at 0x7fb990748fd0>,\n",
       " <folium.vector_layers.CircleMarker at 0x7fb990748048>,\n",
       " <folium.vector_layers.CircleMarker at 0x7fb990754080>,\n",
       " <folium.vector_layers.CircleMarker at 0x7fb9907540b8>,\n",
       " <folium.vector_layers.CircleMarker at 0x7fb9907540f0>,\n",
       " <folium.vector_layers.CircleMarker at 0x7fb990754128>,\n",
       " <folium.vector_layers.CircleMarker at 0x7fb990754160>,\n",
       " <folium.vector_layers.CircleMarker at 0x7fb990754198>,\n",
       " <folium.vector_layers.CircleMarker at 0x7fb9907541d0>,\n",
       " <folium.vector_layers.CircleMarker at 0x7fb990754208>,\n",
       " <folium.vector_layers.CircleMarker at 0x7fb990754240>,\n",
       " <folium.vector_layers.CircleMarker at 0x7fb990754278>,\n",
       " <folium.vector_layers.CircleMarker at 0x7fb9907542b0>,\n",
       " <folium.vector_layers.CircleMarker at 0x7fb9907542e8>,\n",
       " <folium.vector_layers.CircleMarker at 0x7fb990754320>,\n",
       " <folium.vector_layers.CircleMarker at 0x7fb990754358>,\n",
       " <folium.vector_layers.CircleMarker at 0x7fb990754390>,\n",
       " <folium.vector_layers.CircleMarker at 0x7fb9907543c8>,\n",
       " <folium.vector_layers.CircleMarker at 0x7fb990754400>,\n",
       " <folium.vector_layers.CircleMarker at 0x7fb990754438>,\n",
       " <folium.vector_layers.CircleMarker at 0x7fb990754470>,\n",
       " <folium.vector_layers.CircleMarker at 0x7fb9907544a8>,\n",
       " <folium.vector_layers.CircleMarker at 0x7fb9907544e0>,\n",
       " <folium.vector_layers.CircleMarker at 0x7fb990754518>,\n",
       " <folium.vector_layers.CircleMarker at 0x7fb990754550>,\n",
       " <folium.vector_layers.CircleMarker at 0x7fb990754588>,\n",
       " <folium.vector_layers.CircleMarker at 0x7fb9907545c0>,\n",
       " <folium.vector_layers.CircleMarker at 0x7fb9907545f8>,\n",
       " <folium.vector_layers.CircleMarker at 0x7fb990754630>,\n",
       " <folium.vector_layers.CircleMarker at 0x7fb990754668>,\n",
       " <folium.vector_layers.CircleMarker at 0x7fb9907546a0>,\n",
       " <folium.vector_layers.CircleMarker at 0x7fb9907546d8>,\n",
       " <folium.vector_layers.CircleMarker at 0x7fb990754710>,\n",
       " <folium.vector_layers.CircleMarker at 0x7fb990754748>,\n",
       " <folium.vector_layers.CircleMarker at 0x7fb990754780>,\n",
       " <folium.vector_layers.CircleMarker at 0x7fb9907547b8>,\n",
       " <folium.vector_layers.CircleMarker at 0x7fb9907547f0>,\n",
       " <folium.vector_layers.CircleMarker at 0x7fb990754828>,\n",
       " <folium.vector_layers.CircleMarker at 0x7fb990754860>,\n",
       " <folium.vector_layers.CircleMarker at 0x7fb990754898>,\n",
       " <folium.vector_layers.CircleMarker at 0x7fb9907548d0>,\n",
       " <folium.vector_layers.CircleMarker at 0x7fb990754908>,\n",
       " <folium.vector_layers.CircleMarker at 0x7fb990754940>,\n",
       " <folium.vector_layers.CircleMarker at 0x7fb990754978>,\n",
       " <folium.vector_layers.CircleMarker at 0x7fb9907549b0>,\n",
       " <folium.vector_layers.CircleMarker at 0x7fb9907549e8>,\n",
       " <folium.vector_layers.CircleMarker at 0x7fb990754a20>,\n",
       " <folium.vector_layers.CircleMarker at 0x7fb990754a58>,\n",
       " <folium.vector_layers.CircleMarker at 0x7fb990754a90>,\n",
       " <folium.vector_layers.CircleMarker at 0x7fb990754ac8>,\n",
       " <folium.vector_layers.CircleMarker at 0x7fb990754b00>,\n",
       " <folium.vector_layers.CircleMarker at 0x7fb990754b38>,\n",
       " <folium.vector_layers.CircleMarker at 0x7fb990754b70>,\n",
       " <folium.vector_layers.CircleMarker at 0x7fb990754ba8>,\n",
       " <folium.vector_layers.CircleMarker at 0x7fb990754be0>,\n",
       " <folium.vector_layers.CircleMarker at 0x7fb990754c18>,\n",
       " <folium.vector_layers.CircleMarker at 0x7fb990754c50>,\n",
       " <folium.vector_layers.CircleMarker at 0x7fb990754c88>,\n",
       " <folium.vector_layers.CircleMarker at 0x7fb990754cc0>,\n",
       " <folium.vector_layers.CircleMarker at 0x7fb990754cf8>,\n",
       " <folium.vector_layers.CircleMarker at 0x7fb990754d30>,\n",
       " <folium.vector_layers.CircleMarker at 0x7fb990754d68>,\n",
       " <folium.vector_layers.CircleMarker at 0x7fb990754da0>,\n",
       " <folium.vector_layers.CircleMarker at 0x7fb990754dd8>,\n",
       " <folium.vector_layers.CircleMarker at 0x7fb990754e10>,\n",
       " <folium.vector_layers.CircleMarker at 0x7fb990754e48>,\n",
       " <folium.vector_layers.CircleMarker at 0x7fb990754e80>,\n",
       " <folium.vector_layers.CircleMarker at 0x7fb990754eb8>,\n",
       " <folium.vector_layers.CircleMarker at 0x7fb990754ef0>,\n",
       " <folium.vector_layers.CircleMarker at 0x7fb990754f28>,\n",
       " <folium.vector_layers.CircleMarker at 0x7fb990754f60>,\n",
       " <folium.vector_layers.CircleMarker at 0x7fb990754f98>,\n",
       " <folium.vector_layers.CircleMarker at 0x7fb990754fd0>,\n",
       " <folium.vector_layers.CircleMarker at 0x7fb990754048>,\n",
       " <folium.vector_layers.CircleMarker at 0x7fb990764080>,\n",
       " <folium.vector_layers.CircleMarker at 0x7fb9907640b8>,\n",
       " <folium.vector_layers.CircleMarker at 0x7fb9907640f0>,\n",
       " <folium.vector_layers.CircleMarker at 0x7fb990764128>,\n",
       " <folium.vector_layers.CircleMarker at 0x7fb990764160>,\n",
       " <folium.vector_layers.CircleMarker at 0x7fb990764198>,\n",
       " <folium.vector_layers.CircleMarker at 0x7fb9907641d0>,\n",
       " <folium.vector_layers.CircleMarker at 0x7fb990764208>,\n",
       " <folium.vector_layers.CircleMarker at 0x7fb990764240>,\n",
       " <folium.vector_layers.CircleMarker at 0x7fb990764278>,\n",
       " <folium.vector_layers.CircleMarker at 0x7fb9907642b0>,\n",
       " <folium.vector_layers.CircleMarker at 0x7fb9907642e8>,\n",
       " <folium.vector_layers.CircleMarker at 0x7fb990764320>,\n",
       " <folium.vector_layers.CircleMarker at 0x7fb990764358>,\n",
       " <folium.vector_layers.CircleMarker at 0x7fb990764390>,\n",
       " <folium.vector_layers.CircleMarker at 0x7fb9907643c8>,\n",
       " <folium.vector_layers.CircleMarker at 0x7fb990764400>,\n",
       " <folium.vector_layers.CircleMarker at 0x7fb990764438>,\n",
       " <folium.vector_layers.CircleMarker at 0x7fb990764470>,\n",
       " <folium.vector_layers.CircleMarker at 0x7fb9907644a8>,\n",
       " <folium.vector_layers.CircleMarker at 0x7fb9907644e0>,\n",
       " <folium.vector_layers.CircleMarker at 0x7fb990764518>,\n",
       " <folium.vector_layers.CircleMarker at 0x7fb990764550>,\n",
       " <folium.vector_layers.CircleMarker at 0x7fb990764588>,\n",
       " <folium.vector_layers.CircleMarker at 0x7fb9907645c0>,\n",
       " <folium.vector_layers.CircleMarker at 0x7fb9907645f8>,\n",
       " <folium.vector_layers.CircleMarker at 0x7fb990764630>,\n",
       " <folium.vector_layers.CircleMarker at 0x7fb990764668>,\n",
       " <folium.vector_layers.CircleMarker at 0x7fb9907646a0>,\n",
       " <folium.vector_layers.CircleMarker at 0x7fb9907646d8>,\n",
       " <folium.vector_layers.CircleMarker at 0x7fb990764710>,\n",
       " <folium.vector_layers.CircleMarker at 0x7fb990764748>,\n",
       " <folium.vector_layers.CircleMarker at 0x7fb990764780>,\n",
       " <folium.vector_layers.CircleMarker at 0x7fb9907647b8>,\n",
       " <folium.vector_layers.CircleMarker at 0x7fb9907647f0>,\n",
       " <folium.vector_layers.CircleMarker at 0x7fb990764828>,\n",
       " <folium.vector_layers.CircleMarker at 0x7fb990764860>,\n",
       " <folium.vector_layers.CircleMarker at 0x7fb990764898>,\n",
       " <folium.vector_layers.CircleMarker at 0x7fb9907648d0>,\n",
       " <folium.vector_layers.CircleMarker at 0x7fb990764908>,\n",
       " <folium.vector_layers.CircleMarker at 0x7fb990764940>,\n",
       " <folium.vector_layers.CircleMarker at 0x7fb990764978>,\n",
       " <folium.vector_layers.CircleMarker at 0x7fb9907649b0>,\n",
       " <folium.vector_layers.CircleMarker at 0x7fb9907649e8>,\n",
       " <folium.vector_layers.CircleMarker at 0x7fb990764a20>,\n",
       " <folium.vector_layers.CircleMarker at 0x7fb990764a58>,\n",
       " <folium.vector_layers.CircleMarker at 0x7fb990764a90>,\n",
       " <folium.vector_layers.CircleMarker at 0x7fb990764ac8>,\n",
       " <folium.vector_layers.CircleMarker at 0x7fb990764b00>,\n",
       " <folium.vector_layers.CircleMarker at 0x7fb990764b38>,\n",
       " <folium.vector_layers.CircleMarker at 0x7fb990764b70>,\n",
       " <folium.vector_layers.CircleMarker at 0x7fb990764ba8>,\n",
       " <folium.vector_layers.CircleMarker at 0x7fb990764be0>,\n",
       " <folium.vector_layers.CircleMarker at 0x7fb990764c18>,\n",
       " <folium.vector_layers.CircleMarker at 0x7fb990764c50>,\n",
       " <folium.vector_layers.CircleMarker at 0x7fb990764c88>,\n",
       " <folium.vector_layers.CircleMarker at 0x7fb990764cc0>,\n",
       " <folium.vector_layers.CircleMarker at 0x7fb990764cf8>,\n",
       " <folium.vector_layers.CircleMarker at 0x7fb990764d30>,\n",
       " <folium.vector_layers.CircleMarker at 0x7fb990764d68>,\n",
       " <folium.vector_layers.CircleMarker at 0x7fb990764da0>,\n",
       " <folium.vector_layers.CircleMarker at 0x7fb990764dd8>,\n",
       " <folium.vector_layers.CircleMarker at 0x7fb990764e10>,\n",
       " <folium.vector_layers.CircleMarker at 0x7fb990764e48>,\n",
       " <folium.vector_layers.CircleMarker at 0x7fb990764e80>,\n",
       " <folium.vector_layers.CircleMarker at 0x7fb990764eb8>,\n",
       " <folium.vector_layers.CircleMarker at 0x7fb990764ef0>,\n",
       " <folium.vector_layers.CircleMarker at 0x7fb990764f28>,\n",
       " <folium.vector_layers.CircleMarker at 0x7fb990764f60>,\n",
       " <folium.vector_layers.CircleMarker at 0x7fb990764f98>,\n",
       " <folium.vector_layers.CircleMarker at 0x7fb990764fd0>,\n",
       " <folium.vector_layers.CircleMarker at 0x7fb990764048>,\n",
       " <folium.vector_layers.CircleMarker at 0x7fb9917d3080>,\n",
       " <folium.vector_layers.CircleMarker at 0x7fb9917d30b8>,\n",
       " <folium.vector_layers.CircleMarker at 0x7fb9917d30f0>,\n",
       " <folium.vector_layers.CircleMarker at 0x7fb9917d3128>,\n",
       " <folium.vector_layers.CircleMarker at 0x7fb9917d3160>,\n",
       " <folium.vector_layers.CircleMarker at 0x7fb9917d3198>,\n",
       " <folium.vector_layers.CircleMarker at 0x7fb9917d31d0>,\n",
       " <folium.vector_layers.CircleMarker at 0x7fb9917d3208>,\n",
       " <folium.vector_layers.CircleMarker at 0x7fb9917d3240>,\n",
       " <folium.vector_layers.CircleMarker at 0x7fb9917d3278>,\n",
       " <folium.vector_layers.CircleMarker at 0x7fb9917d32b0>,\n",
       " <folium.vector_layers.CircleMarker at 0x7fb9917d32e8>,\n",
       " <folium.vector_layers.CircleMarker at 0x7fb9917d3320>,\n",
       " <folium.vector_layers.CircleMarker at 0x7fb9917d3358>,\n",
       " <folium.vector_layers.CircleMarker at 0x7fb9917d3390>,\n",
       " <folium.vector_layers.CircleMarker at 0x7fb9917d33c8>,\n",
       " <folium.vector_layers.CircleMarker at 0x7fb9917d3400>,\n",
       " <folium.vector_layers.CircleMarker at 0x7fb9917d3438>,\n",
       " <folium.vector_layers.CircleMarker at 0x7fb9917d3470>,\n",
       " <folium.vector_layers.CircleMarker at 0x7fb9917d34a8>,\n",
       " <folium.vector_layers.CircleMarker at 0x7fb9917d34e0>,\n",
       " <folium.vector_layers.CircleMarker at 0x7fb9917d3518>,\n",
       " <folium.vector_layers.CircleMarker at 0x7fb9917d3550>,\n",
       " <folium.vector_layers.CircleMarker at 0x7fb9917d3588>,\n",
       " <folium.vector_layers.CircleMarker at 0x7fb9917d35c0>,\n",
       " <folium.vector_layers.CircleMarker at 0x7fb9917d35f8>,\n",
       " <folium.vector_layers.CircleMarker at 0x7fb9917d3630>,\n",
       " <folium.vector_layers.CircleMarker at 0x7fb9917d3668>,\n",
       " <folium.vector_layers.CircleMarker at 0x7fb9917d36a0>,\n",
       " <folium.vector_layers.CircleMarker at 0x7fb9917d36d8>,\n",
       " <folium.vector_layers.CircleMarker at 0x7fb9917d3710>,\n",
       " <folium.vector_layers.CircleMarker at 0x7fb9917d3748>,\n",
       " <folium.vector_layers.CircleMarker at 0x7fb9917d3780>,\n",
       " <folium.vector_layers.CircleMarker at 0x7fb9917d37b8>,\n",
       " <folium.vector_layers.CircleMarker at 0x7fb9917d37f0>,\n",
       " <folium.vector_layers.CircleMarker at 0x7fb9917d3828>,\n",
       " <folium.vector_layers.CircleMarker at 0x7fb9917d3860>,\n",
       " <folium.vector_layers.CircleMarker at 0x7fb9917d3898>,\n",
       " <folium.vector_layers.CircleMarker at 0x7fb9917d38d0>,\n",
       " <folium.vector_layers.CircleMarker at 0x7fb9917d3908>,\n",
       " <folium.vector_layers.CircleMarker at 0x7fb9917d3940>,\n",
       " <folium.vector_layers.CircleMarker at 0x7fb9917d3978>,\n",
       " <folium.vector_layers.CircleMarker at 0x7fb9917d39b0>,\n",
       " <folium.vector_layers.CircleMarker at 0x7fb9917d39e8>,\n",
       " <folium.vector_layers.CircleMarker at 0x7fb9917d3a20>,\n",
       " <folium.vector_layers.CircleMarker at 0x7fb9917d3a58>,\n",
       " <folium.vector_layers.CircleMarker at 0x7fb9917d3a90>,\n",
       " <folium.vector_layers.CircleMarker at 0x7fb9917d3ac8>,\n",
       " <folium.vector_layers.CircleMarker at 0x7fb9917d3b00>,\n",
       " <folium.vector_layers.CircleMarker at 0x7fb9917d3b38>,\n",
       " <folium.vector_layers.CircleMarker at 0x7fb9917d3b70>,\n",
       " <folium.vector_layers.CircleMarker at 0x7fb9917d3ba8>,\n",
       " <folium.vector_layers.CircleMarker at 0x7fb9917d3be0>,\n",
       " <folium.vector_layers.CircleMarker at 0x7fb9917d3c18>,\n",
       " <folium.vector_layers.CircleMarker at 0x7fb9917d3c50>,\n",
       " <folium.vector_layers.CircleMarker at 0x7fb9917d3c88>,\n",
       " <folium.vector_layers.CircleMarker at 0x7fb9917d3cc0>,\n",
       " <folium.vector_layers.CircleMarker at 0x7fb9917d3cf8>,\n",
       " <folium.vector_layers.CircleMarker at 0x7fb9917d3d30>,\n",
       " <folium.vector_layers.CircleMarker at 0x7fb9917d3d68>,\n",
       " <folium.vector_layers.CircleMarker at 0x7fb9917d3da0>,\n",
       " <folium.vector_layers.CircleMarker at 0x7fb9917d3dd8>,\n",
       " <folium.vector_layers.CircleMarker at 0x7fb9917d3e10>,\n",
       " <folium.vector_layers.CircleMarker at 0x7fb9917d3e48>,\n",
       " <folium.vector_layers.CircleMarker at 0x7fb9917d3e80>,\n",
       " <folium.vector_layers.CircleMarker at 0x7fb9917d3eb8>,\n",
       " <folium.vector_layers.CircleMarker at 0x7fb9917d3ef0>,\n",
       " <folium.vector_layers.CircleMarker at 0x7fb9917d3f28>,\n",
       " <folium.vector_layers.CircleMarker at 0x7fb9917d3f60>,\n",
       " <folium.vector_layers.CircleMarker at 0x7fb9917d3f98>,\n",
       " <folium.vector_layers.CircleMarker at 0x7fb9917d3fd0>,\n",
       " <folium.vector_layers.CircleMarker at 0x7fb9917d3048>,\n",
       " <folium.vector_layers.CircleMarker at 0x7fb9917e2048>,\n",
       " <folium.vector_layers.CircleMarker at 0x7fb9917e20b8>,\n",
       " <folium.vector_layers.CircleMarker at 0x7fb9917e20f0>,\n",
       " <folium.vector_layers.CircleMarker at 0x7fb9917e2128>,\n",
       " <folium.vector_layers.CircleMarker at 0x7fb9917e2160>,\n",
       " <folium.vector_layers.CircleMarker at 0x7fb9917e2198>,\n",
       " <folium.vector_layers.CircleMarker at 0x7fb9917e21d0>,\n",
       " <folium.vector_layers.CircleMarker at 0x7fb9917e2208>,\n",
       " <folium.vector_layers.CircleMarker at 0x7fb9917e2240>,\n",
       " <folium.vector_layers.CircleMarker at 0x7fb9917e2278>,\n",
       " <folium.vector_layers.CircleMarker at 0x7fb9917e22b0>,\n",
       " <folium.vector_layers.CircleMarker at 0x7fb9917e22e8>,\n",
       " <folium.vector_layers.CircleMarker at 0x7fb9917e2320>,\n",
       " <folium.vector_layers.CircleMarker at 0x7fb9917e2358>,\n",
       " <folium.vector_layers.CircleMarker at 0x7fb9917e2390>,\n",
       " <folium.vector_layers.CircleMarker at 0x7fb9917e23c8>,\n",
       " <folium.vector_layers.CircleMarker at 0x7fb9917e2400>,\n",
       " <folium.vector_layers.CircleMarker at 0x7fb9917e2438>,\n",
       " <folium.vector_layers.CircleMarker at 0x7fb9917e2470>,\n",
       " <folium.vector_layers.CircleMarker at 0x7fb9917e24a8>,\n",
       " <folium.vector_layers.CircleMarker at 0x7fb9917e24e0>,\n",
       " <folium.vector_layers.CircleMarker at 0x7fb9917e2518>,\n",
       " <folium.vector_layers.CircleMarker at 0x7fb9917e2550>,\n",
       " <folium.vector_layers.CircleMarker at 0x7fb9917e2588>,\n",
       " <folium.vector_layers.CircleMarker at 0x7fb9917e25c0>,\n",
       " <folium.vector_layers.CircleMarker at 0x7fb9917e25f8>,\n",
       " <folium.vector_layers.CircleMarker at 0x7fb9917e2630>,\n",
       " <folium.vector_layers.CircleMarker at 0x7fb9917e2668>,\n",
       " <folium.vector_layers.CircleMarker at 0x7fb9917e26a0>,\n",
       " <folium.vector_layers.CircleMarker at 0x7fb9917e26d8>,\n",
       " <folium.vector_layers.CircleMarker at 0x7fb9917e2710>,\n",
       " <folium.vector_layers.CircleMarker at 0x7fb9917e2748>,\n",
       " <folium.vector_layers.CircleMarker at 0x7fb9917e2780>,\n",
       " <folium.vector_layers.CircleMarker at 0x7fb9917e27b8>,\n",
       " <folium.vector_layers.CircleMarker at 0x7fb9917e27f0>,\n",
       " <folium.vector_layers.CircleMarker at 0x7fb9917e2828>,\n",
       " <folium.vector_layers.CircleMarker at 0x7fb9917e2860>,\n",
       " <folium.vector_layers.CircleMarker at 0x7fb9917e2898>,\n",
       " <folium.vector_layers.CircleMarker at 0x7fb9917e28d0>,\n",
       " <folium.vector_layers.CircleMarker at 0x7fb9917e2908>,\n",
       " <folium.vector_layers.CircleMarker at 0x7fb9917e2940>,\n",
       " <folium.vector_layers.CircleMarker at 0x7fb9917e2978>,\n",
       " <folium.vector_layers.CircleMarker at 0x7fb9917e29b0>,\n",
       " <folium.vector_layers.CircleMarker at 0x7fb9917e29e8>,\n",
       " <folium.vector_layers.CircleMarker at 0x7fb9917e2a20>,\n",
       " <folium.vector_layers.CircleMarker at 0x7fb9917e2a58>,\n",
       " <folium.vector_layers.CircleMarker at 0x7fb9917e2a90>,\n",
       " <folium.vector_layers.CircleMarker at 0x7fb9917e2ac8>,\n",
       " <folium.vector_layers.CircleMarker at 0x7fb9917e2b00>,\n",
       " <folium.vector_layers.CircleMarker at 0x7fb9917e2b38>,\n",
       " <folium.vector_layers.CircleMarker at 0x7fb9917e2b70>,\n",
       " <folium.vector_layers.CircleMarker at 0x7fb9917e2ba8>,\n",
       " <folium.vector_layers.CircleMarker at 0x7fb9917e2be0>,\n",
       " <folium.vector_layers.CircleMarker at 0x7fb9917e2c18>,\n",
       " <folium.vector_layers.CircleMarker at 0x7fb9917e2c50>,\n",
       " <folium.vector_layers.CircleMarker at 0x7fb9917e2c88>,\n",
       " <folium.vector_layers.CircleMarker at 0x7fb9917e2cc0>,\n",
       " <folium.vector_layers.CircleMarker at 0x7fb9917e2cf8>,\n",
       " <folium.vector_layers.CircleMarker at 0x7fb9917e2d30>,\n",
       " <folium.vector_layers.CircleMarker at 0x7fb9917e2d68>,\n",
       " <folium.vector_layers.CircleMarker at 0x7fb9917e2da0>,\n",
       " <folium.vector_layers.CircleMarker at 0x7fb9917e2dd8>,\n",
       " <folium.vector_layers.CircleMarker at 0x7fb9917e2e10>,\n",
       " <folium.vector_layers.CircleMarker at 0x7fb9917e2e48>,\n",
       " <folium.vector_layers.CircleMarker at 0x7fb9917e2e80>,\n",
       " <folium.vector_layers.CircleMarker at 0x7fb9917e2eb8>,\n",
       " <folium.vector_layers.CircleMarker at 0x7fb9917e2ef0>,\n",
       " <folium.vector_layers.CircleMarker at 0x7fb9917e2f28>,\n",
       " <folium.vector_layers.CircleMarker at 0x7fb9917e2f60>,\n",
       " <folium.vector_layers.CircleMarker at 0x7fb9917e2f98>,\n",
       " <folium.vector_layers.CircleMarker at 0x7fb9917e2fd0>,\n",
       " <folium.vector_layers.CircleMarker at 0x7fb9917e2080>,\n",
       " <folium.vector_layers.CircleMarker at 0x7fb9917ee080>,\n",
       " <folium.vector_layers.CircleMarker at 0x7fb9917ee0b8>,\n",
       " <folium.vector_layers.CircleMarker at 0x7fb9917ee0f0>,\n",
       " <folium.vector_layers.CircleMarker at 0x7fb9917ee128>,\n",
       " <folium.vector_layers.CircleMarker at 0x7fb9917ee160>,\n",
       " <folium.vector_layers.CircleMarker at 0x7fb9917ee198>,\n",
       " <folium.vector_layers.CircleMarker at 0x7fb9917ee1d0>,\n",
       " <folium.vector_layers.CircleMarker at 0x7fb9917ee208>,\n",
       " <folium.vector_layers.CircleMarker at 0x7fb9917ee240>,\n",
       " <folium.vector_layers.CircleMarker at 0x7fb9917ee278>,\n",
       " <folium.vector_layers.CircleMarker at 0x7fb9917ee2b0>,\n",
       " <folium.vector_layers.CircleMarker at 0x7fb9917ee2e8>,\n",
       " <folium.vector_layers.CircleMarker at 0x7fb9917ee320>,\n",
       " <folium.vector_layers.CircleMarker at 0x7fb9917ee358>,\n",
       " <folium.vector_layers.CircleMarker at 0x7fb9917ee390>,\n",
       " <folium.vector_layers.CircleMarker at 0x7fb9917ee3c8>,\n",
       " <folium.vector_layers.CircleMarker at 0x7fb9917ee400>,\n",
       " <folium.vector_layers.CircleMarker at 0x7fb9917ee438>,\n",
       " <folium.vector_layers.CircleMarker at 0x7fb9917ee470>,\n",
       " <folium.vector_layers.CircleMarker at 0x7fb9917ee4a8>,\n",
       " <folium.vector_layers.CircleMarker at 0x7fb9917ee4e0>,\n",
       " <folium.vector_layers.CircleMarker at 0x7fb9917ee518>,\n",
       " <folium.vector_layers.CircleMarker at 0x7fb9917ee550>,\n",
       " <folium.vector_layers.CircleMarker at 0x7fb9917ee588>,\n",
       " <folium.vector_layers.CircleMarker at 0x7fb9917ee5c0>,\n",
       " <folium.vector_layers.CircleMarker at 0x7fb9917ee5f8>,\n",
       " <folium.vector_layers.CircleMarker at 0x7fb9917ee630>,\n",
       " <folium.vector_layers.CircleMarker at 0x7fb9917ee668>,\n",
       " <folium.vector_layers.CircleMarker at 0x7fb9917ee6a0>,\n",
       " <folium.vector_layers.CircleMarker at 0x7fb9917ee6d8>,\n",
       " <folium.vector_layers.CircleMarker at 0x7fb9917ee710>,\n",
       " <folium.vector_layers.CircleMarker at 0x7fb9917ee748>,\n",
       " <folium.vector_layers.CircleMarker at 0x7fb9917ee780>,\n",
       " <folium.vector_layers.CircleMarker at 0x7fb9917ee7b8>,\n",
       " <folium.vector_layers.CircleMarker at 0x7fb9917ee7f0>,\n",
       " <folium.vector_layers.CircleMarker at 0x7fb9917ee828>,\n",
       " <folium.vector_layers.CircleMarker at 0x7fb9917ee860>,\n",
       " <folium.vector_layers.CircleMarker at 0x7fb9917ee898>,\n",
       " <folium.vector_layers.CircleMarker at 0x7fb9917ee8d0>,\n",
       " <folium.vector_layers.CircleMarker at 0x7fb9917ee908>,\n",
       " <folium.vector_layers.CircleMarker at 0x7fb9917ee940>,\n",
       " <folium.vector_layers.CircleMarker at 0x7fb9917ee978>,\n",
       " <folium.vector_layers.CircleMarker at 0x7fb9917ee9b0>,\n",
       " <folium.vector_layers.CircleMarker at 0x7fb9917ee9e8>,\n",
       " <folium.vector_layers.CircleMarker at 0x7fb9917eea20>,\n",
       " <folium.vector_layers.CircleMarker at 0x7fb9917eea58>,\n",
       " <folium.vector_layers.CircleMarker at 0x7fb9917eea90>,\n",
       " <folium.vector_layers.CircleMarker at 0x7fb9917eeac8>,\n",
       " <folium.vector_layers.CircleMarker at 0x7fb9917eeb00>,\n",
       " <folium.vector_layers.CircleMarker at 0x7fb9917eeb38>,\n",
       " <folium.vector_layers.CircleMarker at 0x7fb9917eeb70>,\n",
       " <folium.vector_layers.CircleMarker at 0x7fb9917eeba8>,\n",
       " <folium.vector_layers.CircleMarker at 0x7fb9917eebe0>,\n",
       " <folium.vector_layers.CircleMarker at 0x7fb9917eec18>,\n",
       " <folium.vector_layers.CircleMarker at 0x7fb9917eec50>,\n",
       " <folium.vector_layers.CircleMarker at 0x7fb9917eec88>,\n",
       " <folium.vector_layers.CircleMarker at 0x7fb9917eecc0>,\n",
       " <folium.vector_layers.CircleMarker at 0x7fb9917eecf8>,\n",
       " <folium.vector_layers.CircleMarker at 0x7fb9917eed30>,\n",
       " <folium.vector_layers.CircleMarker at 0x7fb9917eed68>,\n",
       " <folium.vector_layers.CircleMarker at 0x7fb9917eeda0>,\n",
       " <folium.vector_layers.CircleMarker at 0x7fb9917eedd8>,\n",
       " <folium.vector_layers.CircleMarker at 0x7fb9917eee10>,\n",
       " <folium.vector_layers.CircleMarker at 0x7fb9917eee48>,\n",
       " <folium.vector_layers.CircleMarker at 0x7fb9917eee80>,\n",
       " <folium.vector_layers.CircleMarker at 0x7fb9917eeeb8>,\n",
       " <folium.vector_layers.CircleMarker at 0x7fb9917eeef0>,\n",
       " <folium.vector_layers.CircleMarker at 0x7fb9917eef28>,\n",
       " <folium.vector_layers.CircleMarker at 0x7fb9917eef60>,\n",
       " <folium.vector_layers.CircleMarker at 0x7fb9917eef98>,\n",
       " <folium.vector_layers.CircleMarker at 0x7fb9917eefd0>,\n",
       " <folium.vector_layers.CircleMarker at 0x7fb9917ee048>,\n",
       " <folium.vector_layers.CircleMarker at 0x7fb9917fc048>,\n",
       " <folium.vector_layers.CircleMarker at 0x7fb9917fc0b8>,\n",
       " <folium.vector_layers.CircleMarker at 0x7fb9917fc0f0>,\n",
       " <folium.vector_layers.CircleMarker at 0x7fb9917fc128>,\n",
       " <folium.vector_layers.CircleMarker at 0x7fb9917fc160>,\n",
       " <folium.vector_layers.CircleMarker at 0x7fb9917fc198>,\n",
       " <folium.vector_layers.CircleMarker at 0x7fb9917fc1d0>,\n",
       " <folium.vector_layers.CircleMarker at 0x7fb9917fc208>,\n",
       " <folium.vector_layers.CircleMarker at 0x7fb9917fc240>,\n",
       " <folium.vector_layers.CircleMarker at 0x7fb9917fc278>,\n",
       " <folium.vector_layers.CircleMarker at 0x7fb9917fc2b0>,\n",
       " <folium.vector_layers.CircleMarker at 0x7fb9917fc2e8>,\n",
       " <folium.vector_layers.CircleMarker at 0x7fb9917fc320>,\n",
       " <folium.vector_layers.CircleMarker at 0x7fb9917fc358>,\n",
       " <folium.vector_layers.CircleMarker at 0x7fb9917fc390>,\n",
       " <folium.vector_layers.CircleMarker at 0x7fb9917fc3c8>,\n",
       " <folium.vector_layers.CircleMarker at 0x7fb9917fc400>,\n",
       " <folium.vector_layers.CircleMarker at 0x7fb9917fc438>,\n",
       " <folium.vector_layers.CircleMarker at 0x7fb9917fc470>,\n",
       " <folium.vector_layers.CircleMarker at 0x7fb9917fc4a8>,\n",
       " <folium.vector_layers.CircleMarker at 0x7fb9917fc4e0>,\n",
       " <folium.vector_layers.CircleMarker at 0x7fb9917fc518>,\n",
       " <folium.vector_layers.CircleMarker at 0x7fb9917fc550>,\n",
       " <folium.vector_layers.CircleMarker at 0x7fb9917fc588>,\n",
       " <folium.vector_layers.CircleMarker at 0x7fb9917fc5c0>,\n",
       " <folium.vector_layers.CircleMarker at 0x7fb9917fc5f8>,\n",
       " <folium.vector_layers.CircleMarker at 0x7fb9917fc630>,\n",
       " <folium.vector_layers.CircleMarker at 0x7fb9917fc668>,\n",
       " <folium.vector_layers.CircleMarker at 0x7fb9917fc6a0>,\n",
       " <folium.vector_layers.CircleMarker at 0x7fb9917fc6d8>,\n",
       " <folium.vector_layers.CircleMarker at 0x7fb9917fc710>,\n",
       " <folium.vector_layers.CircleMarker at 0x7fb9917fc748>,\n",
       " <folium.vector_layers.CircleMarker at 0x7fb9917fc780>,\n",
       " <folium.vector_layers.CircleMarker at 0x7fb9917fc7b8>,\n",
       " <folium.vector_layers.CircleMarker at 0x7fb9917fc7f0>,\n",
       " <folium.vector_layers.CircleMarker at 0x7fb9917fc828>,\n",
       " <folium.vector_layers.CircleMarker at 0x7fb9917fc860>,\n",
       " <folium.vector_layers.CircleMarker at 0x7fb9917fc898>,\n",
       " <folium.vector_layers.CircleMarker at 0x7fb9917fc8d0>,\n",
       " <folium.vector_layers.CircleMarker at 0x7fb9917fc908>,\n",
       " <folium.vector_layers.CircleMarker at 0x7fb9917fc940>,\n",
       " <folium.vector_layers.CircleMarker at 0x7fb9917fc978>,\n",
       " <folium.vector_layers.CircleMarker at 0x7fb9917fc9b0>,\n",
       " <folium.vector_layers.CircleMarker at 0x7fb9917fc9e8>,\n",
       " <folium.vector_layers.CircleMarker at 0x7fb9917fca20>,\n",
       " <folium.vector_layers.CircleMarker at 0x7fb9917fca58>,\n",
       " <folium.vector_layers.CircleMarker at 0x7fb9917fca90>,\n",
       " <folium.vector_layers.CircleMarker at 0x7fb9917fcac8>,\n",
       " <folium.vector_layers.CircleMarker at 0x7fb9917fcb00>,\n",
       " <folium.vector_layers.CircleMarker at 0x7fb9917fcb38>,\n",
       " <folium.vector_layers.CircleMarker at 0x7fb9917fcb70>,\n",
       " <folium.vector_layers.CircleMarker at 0x7fb9917fcba8>,\n",
       " <folium.vector_layers.CircleMarker at 0x7fb9917fcbe0>,\n",
       " <folium.vector_layers.CircleMarker at 0x7fb9917fcc18>,\n",
       " <folium.vector_layers.CircleMarker at 0x7fb9917fcc50>,\n",
       " <folium.vector_layers.CircleMarker at 0x7fb9917fcc88>,\n",
       " <folium.vector_layers.CircleMarker at 0x7fb9917fccc0>,\n",
       " <folium.vector_layers.CircleMarker at 0x7fb9917fccf8>,\n",
       " <folium.vector_layers.CircleMarker at 0x7fb9917fcd30>,\n",
       " <folium.vector_layers.CircleMarker at 0x7fb9917fcd68>,\n",
       " <folium.vector_layers.CircleMarker at 0x7fb9917fcda0>,\n",
       " <folium.vector_layers.CircleMarker at 0x7fb9917fcdd8>,\n",
       " <folium.vector_layers.CircleMarker at 0x7fb9917fce10>,\n",
       " <folium.vector_layers.CircleMarker at 0x7fb9917fce48>,\n",
       " <folium.vector_layers.CircleMarker at 0x7fb9917fce80>,\n",
       " <folium.vector_layers.CircleMarker at 0x7fb9917fceb8>,\n",
       " <folium.vector_layers.CircleMarker at 0x7fb9917fcef0>,\n",
       " <folium.vector_layers.CircleMarker at 0x7fb9917fcf28>,\n",
       " <folium.vector_layers.CircleMarker at 0x7fb9917fcf60>,\n",
       " <folium.vector_layers.CircleMarker at 0x7fb9917fcf98>,\n",
       " <folium.vector_layers.CircleMarker at 0x7fb9917fcfd0>,\n",
       " <folium.vector_layers.CircleMarker at 0x7fb9917fc080>,\n",
       " <folium.vector_layers.CircleMarker at 0x7fb990789080>,\n",
       " <folium.vector_layers.CircleMarker at 0x7fb9907890b8>,\n",
       " <folium.vector_layers.CircleMarker at 0x7fb9907890f0>,\n",
       " <folium.vector_layers.CircleMarker at 0x7fb990789128>,\n",
       " <folium.vector_layers.CircleMarker at 0x7fb990789160>,\n",
       " <folium.vector_layers.CircleMarker at 0x7fb990789198>,\n",
       " <folium.vector_layers.CircleMarker at 0x7fb9907891d0>,\n",
       " <folium.vector_layers.CircleMarker at 0x7fb990789208>,\n",
       " <folium.vector_layers.CircleMarker at 0x7fb990789240>,\n",
       " <folium.vector_layers.CircleMarker at 0x7fb990789278>,\n",
       " <folium.vector_layers.CircleMarker at 0x7fb9907892b0>,\n",
       " <folium.vector_layers.CircleMarker at 0x7fb9907892e8>,\n",
       " <folium.vector_layers.CircleMarker at 0x7fb990789320>,\n",
       " <folium.vector_layers.CircleMarker at 0x7fb990789358>,\n",
       " <folium.vector_layers.CircleMarker at 0x7fb990789390>,\n",
       " <folium.vector_layers.CircleMarker at 0x7fb9907893c8>,\n",
       " <folium.vector_layers.CircleMarker at 0x7fb990789400>,\n",
       " <folium.vector_layers.CircleMarker at 0x7fb990789438>,\n",
       " <folium.vector_layers.CircleMarker at 0x7fb990789470>,\n",
       " <folium.vector_layers.CircleMarker at 0x7fb9907894a8>,\n",
       " <folium.vector_layers.CircleMarker at 0x7fb9907894e0>,\n",
       " <folium.vector_layers.CircleMarker at 0x7fb990789518>,\n",
       " <folium.vector_layers.CircleMarker at 0x7fb990789550>,\n",
       " <folium.vector_layers.CircleMarker at 0x7fb990789588>,\n",
       " <folium.vector_layers.CircleMarker at 0x7fb9907895c0>,\n",
       " <folium.vector_layers.CircleMarker at 0x7fb9907895f8>,\n",
       " <folium.vector_layers.CircleMarker at 0x7fb990789630>,\n",
       " <folium.vector_layers.CircleMarker at 0x7fb990789668>,\n",
       " <folium.vector_layers.CircleMarker at 0x7fb9907896a0>,\n",
       " <folium.vector_layers.CircleMarker at 0x7fb9907896d8>,\n",
       " <folium.vector_layers.CircleMarker at 0x7fb990789710>,\n",
       " <folium.vector_layers.CircleMarker at 0x7fb990789748>,\n",
       " <folium.vector_layers.CircleMarker at 0x7fb990789780>,\n",
       " <folium.vector_layers.CircleMarker at 0x7fb9907897b8>,\n",
       " <folium.vector_layers.CircleMarker at 0x7fb9907897f0>,\n",
       " <folium.vector_layers.CircleMarker at 0x7fb990789828>,\n",
       " <folium.vector_layers.CircleMarker at 0x7fb990789860>,\n",
       " <folium.vector_layers.CircleMarker at 0x7fb990789898>,\n",
       " <folium.vector_layers.CircleMarker at 0x7fb9907898d0>,\n",
       " <folium.vector_layers.CircleMarker at 0x7fb990789908>,\n",
       " <folium.vector_layers.CircleMarker at 0x7fb990789940>,\n",
       " <folium.vector_layers.CircleMarker at 0x7fb990789978>,\n",
       " <folium.vector_layers.CircleMarker at 0x7fb9907899b0>,\n",
       " <folium.vector_layers.CircleMarker at 0x7fb9907899e8>,\n",
       " <folium.vector_layers.CircleMarker at 0x7fb990789a20>,\n",
       " <folium.vector_layers.CircleMarker at 0x7fb990789a58>,\n",
       " <folium.vector_layers.CircleMarker at 0x7fb990789a90>,\n",
       " <folium.vector_layers.CircleMarker at 0x7fb990789ac8>,\n",
       " <folium.vector_layers.CircleMarker at 0x7fb990789b00>,\n",
       " <folium.vector_layers.CircleMarker at 0x7fb990789b38>,\n",
       " <folium.vector_layers.CircleMarker at 0x7fb990789b70>,\n",
       " <folium.vector_layers.CircleMarker at 0x7fb990789ba8>,\n",
       " <folium.vector_layers.CircleMarker at 0x7fb990789be0>,\n",
       " <folium.vector_layers.CircleMarker at 0x7fb990789c18>,\n",
       " <folium.vector_layers.CircleMarker at 0x7fb990789c50>,\n",
       " <folium.vector_layers.CircleMarker at 0x7fb990789c88>,\n",
       " <folium.vector_layers.CircleMarker at 0x7fb990789cc0>,\n",
       " <folium.vector_layers.CircleMarker at 0x7fb990789cf8>,\n",
       " <folium.vector_layers.CircleMarker at 0x7fb990789d30>,\n",
       " <folium.vector_layers.CircleMarker at 0x7fb990789d68>,\n",
       " <folium.vector_layers.CircleMarker at 0x7fb990789da0>,\n",
       " <folium.vector_layers.CircleMarker at 0x7fb990789dd8>,\n",
       " <folium.vector_layers.CircleMarker at 0x7fb990789e10>,\n",
       " <folium.vector_layers.CircleMarker at 0x7fb990789e48>,\n",
       " <folium.vector_layers.CircleMarker at 0x7fb990789e80>,\n",
       " <folium.vector_layers.CircleMarker at 0x7fb990789eb8>,\n",
       " <folium.vector_layers.CircleMarker at 0x7fb990789ef0>,\n",
       " <folium.vector_layers.CircleMarker at 0x7fb990789f28>,\n",
       " <folium.vector_layers.CircleMarker at 0x7fb990789f60>,\n",
       " <folium.vector_layers.CircleMarker at 0x7fb990789f98>,\n",
       " <folium.vector_layers.CircleMarker at 0x7fb990789fd0>,\n",
       " <folium.vector_layers.CircleMarker at 0x7fb990789048>,\n",
       " <folium.vector_layers.CircleMarker at 0x7fb990795080>,\n",
       " <folium.vector_layers.CircleMarker at 0x7fb9907950b8>,\n",
       " <folium.vector_layers.CircleMarker at 0x7fb9907950f0>,\n",
       " <folium.vector_layers.CircleMarker at 0x7fb990795128>,\n",
       " <folium.vector_layers.CircleMarker at 0x7fb990795160>,\n",
       " <folium.vector_layers.CircleMarker at 0x7fb990795198>,\n",
       " <folium.vector_layers.CircleMarker at 0x7fb9907951d0>,\n",
       " <folium.vector_layers.CircleMarker at 0x7fb990795208>,\n",
       " <folium.vector_layers.CircleMarker at 0x7fb990795240>,\n",
       " <folium.vector_layers.CircleMarker at 0x7fb990795278>,\n",
       " <folium.vector_layers.CircleMarker at 0x7fb9907952b0>,\n",
       " <folium.vector_layers.CircleMarker at 0x7fb9907952e8>,\n",
       " <folium.vector_layers.CircleMarker at 0x7fb990795320>,\n",
       " <folium.vector_layers.CircleMarker at 0x7fb990795358>,\n",
       " <folium.vector_layers.CircleMarker at 0x7fb990795390>,\n",
       " <folium.vector_layers.CircleMarker at 0x7fb9907953c8>,\n",
       " <folium.vector_layers.CircleMarker at 0x7fb990795400>,\n",
       " <folium.vector_layers.CircleMarker at 0x7fb990795438>,\n",
       " <folium.vector_layers.CircleMarker at 0x7fb990795470>,\n",
       " <folium.vector_layers.CircleMarker at 0x7fb9907954a8>,\n",
       " <folium.vector_layers.CircleMarker at 0x7fb9907954e0>,\n",
       " <folium.vector_layers.CircleMarker at 0x7fb990795518>,\n",
       " <folium.vector_layers.CircleMarker at 0x7fb990795550>,\n",
       " <folium.vector_layers.CircleMarker at 0x7fb990795588>,\n",
       " <folium.vector_layers.CircleMarker at 0x7fb9907955c0>,\n",
       " <folium.vector_layers.CircleMarker at 0x7fb9907955f8>,\n",
       " <folium.vector_layers.CircleMarker at 0x7fb990795630>,\n",
       " <folium.vector_layers.CircleMarker at 0x7fb990795668>,\n",
       " <folium.vector_layers.CircleMarker at 0x7fb9907956a0>,\n",
       " <folium.vector_layers.CircleMarker at 0x7fb9907956d8>,\n",
       " <folium.vector_layers.CircleMarker at 0x7fb990795710>,\n",
       " <folium.vector_layers.CircleMarker at 0x7fb990795748>,\n",
       " <folium.vector_layers.CircleMarker at 0x7fb990795780>,\n",
       " <folium.vector_layers.CircleMarker at 0x7fb9907957b8>,\n",
       " <folium.vector_layers.CircleMarker at 0x7fb9907957f0>,\n",
       " <folium.vector_layers.CircleMarker at 0x7fb990795828>,\n",
       " <folium.vector_layers.CircleMarker at 0x7fb990795860>,\n",
       " <folium.vector_layers.CircleMarker at 0x7fb990795898>,\n",
       " <folium.vector_layers.CircleMarker at 0x7fb9907958d0>,\n",
       " <folium.vector_layers.CircleMarker at 0x7fb990795908>,\n",
       " <folium.vector_layers.CircleMarker at 0x7fb990795940>,\n",
       " <folium.vector_layers.CircleMarker at 0x7fb990795978>,\n",
       " <folium.vector_layers.CircleMarker at 0x7fb9907959b0>,\n",
       " <folium.vector_layers.CircleMarker at 0x7fb9907959e8>,\n",
       " <folium.vector_layers.CircleMarker at 0x7fb990795a20>,\n",
       " <folium.vector_layers.CircleMarker at 0x7fb990795a58>,\n",
       " <folium.vector_layers.CircleMarker at 0x7fb990795a90>,\n",
       " <folium.vector_layers.CircleMarker at 0x7fb990795ac8>,\n",
       " <folium.vector_layers.CircleMarker at 0x7fb990795b00>,\n",
       " <folium.vector_layers.CircleMarker at 0x7fb990795b38>,\n",
       " <folium.vector_layers.CircleMarker at 0x7fb990795b70>,\n",
       " <folium.vector_layers.CircleMarker at 0x7fb990795ba8>,\n",
       " <folium.vector_layers.CircleMarker at 0x7fb990795be0>,\n",
       " <folium.vector_layers.CircleMarker at 0x7fb990795c18>,\n",
       " <folium.vector_layers.CircleMarker at 0x7fb990795c50>,\n",
       " <folium.vector_layers.CircleMarker at 0x7fb990795c88>,\n",
       " <folium.vector_layers.CircleMarker at 0x7fb990795cc0>,\n",
       " <folium.vector_layers.CircleMarker at 0x7fb990795cf8>,\n",
       " <folium.vector_layers.CircleMarker at 0x7fb990795d30>,\n",
       " <folium.vector_layers.CircleMarker at 0x7fb990795d68>,\n",
       " <folium.vector_layers.CircleMarker at 0x7fb990795da0>,\n",
       " <folium.vector_layers.CircleMarker at 0x7fb990795dd8>,\n",
       " <folium.vector_layers.CircleMarker at 0x7fb990795e10>,\n",
       " <folium.vector_layers.CircleMarker at 0x7fb990795e48>,\n",
       " <folium.vector_layers.CircleMarker at 0x7fb990795e80>,\n",
       " <folium.vector_layers.CircleMarker at 0x7fb990795eb8>,\n",
       " <folium.vector_layers.CircleMarker at 0x7fb990795ef0>,\n",
       " <folium.vector_layers.CircleMarker at 0x7fb990795f28>,\n",
       " <folium.vector_layers.CircleMarker at 0x7fb990795f60>,\n",
       " <folium.vector_layers.CircleMarker at 0x7fb990795f98>,\n",
       " <folium.vector_layers.CircleMarker at 0x7fb990795fd0>,\n",
       " <folium.vector_layers.CircleMarker at 0x7fb990795048>,\n",
       " <folium.vector_layers.CircleMarker at 0x7fb9907a4080>,\n",
       " <folium.vector_layers.CircleMarker at 0x7fb9907a40b8>,\n",
       " <folium.vector_layers.CircleMarker at 0x7fb9907a40f0>,\n",
       " <folium.vector_layers.CircleMarker at 0x7fb9907a4128>,\n",
       " <folium.vector_layers.CircleMarker at 0x7fb9907a4160>,\n",
       " <folium.vector_layers.CircleMarker at 0x7fb9907a4198>,\n",
       " <folium.vector_layers.CircleMarker at 0x7fb9907a41d0>,\n",
       " <folium.vector_layers.CircleMarker at 0x7fb9907a4208>,\n",
       " <folium.vector_layers.CircleMarker at 0x7fb9907a4240>,\n",
       " <folium.vector_layers.CircleMarker at 0x7fb9907a4278>,\n",
       " <folium.vector_layers.CircleMarker at 0x7fb9907a42b0>,\n",
       " <folium.vector_layers.CircleMarker at 0x7fb9907a42e8>,\n",
       " <folium.vector_layers.CircleMarker at 0x7fb9907a4320>,\n",
       " <folium.vector_layers.CircleMarker at 0x7fb9907a4358>,\n",
       " <folium.vector_layers.CircleMarker at 0x7fb9907a4390>,\n",
       " <folium.vector_layers.CircleMarker at 0x7fb9907a43c8>,\n",
       " <folium.vector_layers.CircleMarker at 0x7fb9907a4400>,\n",
       " <folium.vector_layers.CircleMarker at 0x7fb9907a4438>,\n",
       " <folium.vector_layers.CircleMarker at 0x7fb9907a4470>,\n",
       " <folium.vector_layers.CircleMarker at 0x7fb9907a44a8>,\n",
       " <folium.vector_layers.CircleMarker at 0x7fb9907a44e0>,\n",
       " <folium.vector_layers.CircleMarker at 0x7fb9907a4518>,\n",
       " <folium.vector_layers.CircleMarker at 0x7fb9907a4550>,\n",
       " <folium.vector_layers.CircleMarker at 0x7fb9907a4588>,\n",
       " <folium.vector_layers.CircleMarker at 0x7fb9907a45c0>,\n",
       " <folium.vector_layers.CircleMarker at 0x7fb9907a45f8>,\n",
       " <folium.vector_layers.CircleMarker at 0x7fb9907a4630>,\n",
       " <folium.vector_layers.CircleMarker at 0x7fb9907a4668>,\n",
       " <folium.vector_layers.CircleMarker at 0x7fb9907a46a0>,\n",
       " <folium.vector_layers.CircleMarker at 0x7fb9907a46d8>,\n",
       " <folium.vector_layers.CircleMarker at 0x7fb9907a4710>,\n",
       " <folium.vector_layers.CircleMarker at 0x7fb9907a4748>,\n",
       " <folium.vector_layers.CircleMarker at 0x7fb9907a4780>,\n",
       " <folium.vector_layers.CircleMarker at 0x7fb9907a47b8>,\n",
       " <folium.vector_layers.CircleMarker at 0x7fb9907a47f0>,\n",
       " <folium.vector_layers.CircleMarker at 0x7fb9907a4828>,\n",
       " <folium.vector_layers.CircleMarker at 0x7fb9907a4860>,\n",
       " <folium.vector_layers.CircleMarker at 0x7fb9907a4898>,\n",
       " <folium.vector_layers.CircleMarker at 0x7fb9907a48d0>,\n",
       " <folium.vector_layers.CircleMarker at 0x7fb9907a4908>,\n",
       " <folium.vector_layers.CircleMarker at 0x7fb9907a4940>,\n",
       " <folium.vector_layers.CircleMarker at 0x7fb9907a4978>,\n",
       " <folium.vector_layers.CircleMarker at 0x7fb9907a49b0>,\n",
       " <folium.vector_layers.CircleMarker at 0x7fb9907a49e8>,\n",
       " <folium.vector_layers.CircleMarker at 0x7fb9907a4a20>,\n",
       " <folium.vector_layers.CircleMarker at 0x7fb9907a4a58>,\n",
       " <folium.vector_layers.CircleMarker at 0x7fb9907a4a90>,\n",
       " <folium.vector_layers.CircleMarker at 0x7fb9907a4ac8>,\n",
       " <folium.vector_layers.CircleMarker at 0x7fb9907a4b00>,\n",
       " <folium.vector_layers.CircleMarker at 0x7fb9907a4b38>,\n",
       " <folium.vector_layers.CircleMarker at 0x7fb9907a4b70>,\n",
       " <folium.vector_layers.CircleMarker at 0x7fb9907a4ba8>,\n",
       " <folium.vector_layers.CircleMarker at 0x7fb9907a4be0>,\n",
       " <folium.vector_layers.CircleMarker at 0x7fb9907a4c18>,\n",
       " <folium.vector_layers.CircleMarker at 0x7fb9907a4c50>,\n",
       " <folium.vector_layers.CircleMarker at 0x7fb9907a4c88>,\n",
       " <folium.vector_layers.CircleMarker at 0x7fb9907a4cc0>,\n",
       " <folium.vector_layers.CircleMarker at 0x7fb9907a4cf8>,\n",
       " <folium.vector_layers.CircleMarker at 0x7fb9907a4d30>,\n",
       " <folium.vector_layers.CircleMarker at 0x7fb9907a4d68>,\n",
       " <folium.vector_layers.CircleMarker at 0x7fb9907a4da0>,\n",
       " <folium.vector_layers.CircleMarker at 0x7fb9907a4dd8>,\n",
       " <folium.vector_layers.CircleMarker at 0x7fb9907a4e10>,\n",
       " <folium.vector_layers.CircleMarker at 0x7fb9907a4e48>,\n",
       " <folium.vector_layers.CircleMarker at 0x7fb9907a4e80>,\n",
       " <folium.vector_layers.CircleMarker at 0x7fb9907a4eb8>,\n",
       " <folium.vector_layers.CircleMarker at 0x7fb9907a4ef0>,\n",
       " <folium.vector_layers.CircleMarker at 0x7fb9907a4f28>,\n",
       " <folium.vector_layers.CircleMarker at 0x7fb9907a4f60>,\n",
       " <folium.vector_layers.CircleMarker at 0x7fb9907a4f98>,\n",
       " <folium.vector_layers.CircleMarker at 0x7fb9907a4fd0>,\n",
       " <folium.vector_layers.CircleMarker at 0x7fb9907a4048>,\n",
       " <folium.vector_layers.CircleMarker at 0x7fb9907b0080>,\n",
       " <folium.vector_layers.CircleMarker at 0x7fb9907b00b8>,\n",
       " <folium.vector_layers.CircleMarker at 0x7fb9907b00f0>]"
      ]
     },
     "execution_count": 53,
     "metadata": {},
     "output_type": "execute_result"
    }
   ],
   "source": [
    "trip_markers = markers_from_trips(cleaned_trips)\n",
    "trip_markers"
   ]
  },
  {
   "cell_type": "code",
   "execution_count": 26,
   "metadata": {},
   "outputs": [
    {
     "data": {
      "text/plain": [
       "[{'trip_distance': 18.38,\n",
       "  'pickup_latitude': 40.64499,\n",
       "  'pickup_longitude': -73.78115},\n",
       " {'trip_distance': 1.3,\n",
       "  'pickup_latitude': 40.766931,\n",
       "  'pickup_longitude': -73.982098},\n",
       " {'trip_distance': 4.5,\n",
       "  'pickup_latitude': 40.77773,\n",
       "  'pickup_longitude': -73.951902},\n",
       " {'trip_distance': 2.4,\n",
       "  'pickup_latitude': 40.795678,\n",
       "  'pickup_longitude': -73.971049}]"
      ]
     },
     "execution_count": 26,
     "metadata": {},
     "output_type": "execute_result"
    }
   ],
   "source": [
    "cleaned_trips[0:4]"
   ]
  },
  {
   "cell_type": "code",
   "execution_count": 54,
   "metadata": {},
   "outputs": [
    {
     "data": {
      "text/plain": [
       "[[40.64499, -73.78115],\n",
       " [40.766931, -73.982098],\n",
       " [40.77773, -73.951902],\n",
       " [40.795678, -73.971049]]"
      ]
     },
     "execution_count": 54,
     "metadata": {},
     "output_type": "execute_result"
    }
   ],
   "source": [
    "trip_markers and len(trip_markers) # 1000\n",
    "\n",
    "list(map(lambda marker: marker.location, trip_markers[0:4]))\n",
    "# [[40.64499, -73.78115],\n",
    "#  [40.766931, -73.982098],\n",
    "#  [40.77773, -73.951902],\n",
    "#  [40.795678, -73.971049]]"
   ]
  },
  {
   "cell_type": "markdown",
   "metadata": {},
   "source": [
    "Ok, now that we have a function that creates locations, and a function that creates markers, it is time to write a function to plot a map. \n",
    "\n",
    "Write a function called `map_from` that, provided the first argument of a list location and second argument an integer representing the `zoom_start`, returns a `folium` map the corresponding location and `zoom_start` attributes.\n",
    "\n",
    "> Hint: The following is how to write a map with folium:\n",
    "> ```python \n",
    "    folium.Map(location=location, zoom_start=zoom_amount)\n",
    "> ```"
   ]
  },
  {
   "cell_type": "code",
   "execution_count": 30,
   "metadata": {},
   "outputs": [],
   "source": [
    "def map_from(location, zoom_amount):\n",
    "    return folium.Map(location=location, zoom_start=zoom_amount)"
   ]
  },
  {
   "cell_type": "code",
   "execution_count": 32,
   "metadata": {},
   "outputs": [
    {
     "data": {
      "text/plain": [
       "[40.7589, -73.9851]"
      ]
     },
     "execution_count": 32,
     "metadata": {},
     "output_type": "execute_result"
    }
   ],
   "source": [
    "times_square_map = map_from([40.7589, -73.9851], 15)\n",
    "times_square_map and times_square_map.location # [40.7589, -73.9851]\n"
   ]
  },
  {
   "cell_type": "code",
   "execution_count": 66,
   "metadata": {
    "scrolled": true
   },
   "outputs": [
    {
     "data": {
      "text/html": [
       "<div style=\"width:100%;\"><div style=\"position:relative;width:100%;height:0;padding-bottom:60%;\"><iframe src=\"data:text/html;charset=utf-8;base64,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\" style=\"position:absolute;width:100%;height:100%;left:0;top:0;border:none !important;\" allowfullscreen webkitallowfullscreen mozallowfullscreen></iframe></div></div>"
      ],
      "text/plain": [
       "<folium.folium.Map at 0x7f15b78d1a20>"
      ]
     },
     "execution_count": 66,
     "metadata": {},
     "output_type": "execute_result"
    }
   ],
   "source": [
    "times_square_marker and times_square_marker.add_to(times_square_map)\n",
    "times_square_map"
   ]
  },
  {
   "cell_type": "markdown",
   "metadata": {},
   "source": [
    "Now that we have a marker and a map, now let's write a function that adds a lot of markers to a map.  This function should add each marker in the list to the map object then return the updated map object."
   ]
  },
  {
   "cell_type": "code",
   "execution_count": 37,
   "metadata": {},
   "outputs": [],
   "source": [
    "manhattan_map = map_from([40.7589, -73.9851], 13)"
   ]
  },
  {
   "cell_type": "code",
   "execution_count": 46,
   "metadata": {},
   "outputs": [],
   "source": [
    "def add_markers(markers, map_obj):\n",
    "    temp = []\n",
    "    temp = list(map(lambda marker: marker.location, markers)\n",
    "    folium.CircleMarker(location = markers, radius = 6).add_to(map_obj)\n",
    "    \n",
    "    return map_obj\n",
    "   "
   ]
  },
  {
   "cell_type": "code",
   "execution_count": 47,
   "metadata": {
    "scrolled": false
   },
   "outputs": [
    {
     "ename": "ValueError",
     "evalue": "Expected two (lat, lon) values for location, instead got: [<folium.vector_layers.CircleMarker object at 0x7fb9918f2630>, <folium.vector_layers.CircleMarker object at 0x7fb9918f22b0>, <folium.vector_layers.CircleMarker object at 0x7fb9918f2358>, <folium.vector_layers.CircleMarker object at 0x7fb9918f2668>, <folium.vector_layers.CircleMarker object at 0x7fb9918f2710>, <folium.vector_layers.CircleMarker object at 0x7fb9bc68b048>, <folium.vector_layers.CircleMarker object at 0x7fb9918f26d8>, <folium.vector_layers.CircleMarker object at 0x7fb9918f2748>, <folium.vector_layers.CircleMarker object at 0x7fb9918f27b8>, <folium.vector_layers.CircleMarker object at 0x7fb9918f27f0>, <folium.vector_layers.CircleMarker object at 0x7fb9918f2860>, <folium.vector_layers.CircleMarker object at 0x7fb9918f2828>, <folium.vector_layers.CircleMarker object at 0x7fb9918f2400>, <folium.vector_layers.CircleMarker object at 0x7fb9918f2438>, <folium.vector_layers.CircleMarker object at 0x7fb9918f2470>, <folium.vector_layers.CircleMarker object at 0x7fb9918f24a8>, <folium.vector_layers.CircleMarker object at 0x7fb9918f24e0>, <folium.vector_layers.CircleMarker object at 0x7fb9918f2518>, <folium.vector_layers.CircleMarker object at 0x7fb9918f2550>, <folium.vector_layers.CircleMarker object at 0x7fb9918f2898>, <folium.vector_layers.CircleMarker object at 0x7fb9918f25c0>, <folium.vector_layers.CircleMarker object at 0x7fb9918f25f8>, <folium.vector_layers.CircleMarker object at 0x7fb9918f28d0>, <folium.vector_layers.CircleMarker object at 0x7fb9918f2908>, <folium.vector_layers.CircleMarker object at 0x7fb9918f2940>, <folium.vector_layers.CircleMarker object at 0x7fb9918f2780>, <folium.vector_layers.CircleMarker object at 0x7fb9918f2390>, <folium.vector_layers.CircleMarker object at 0x7fb9918f23c8>, <folium.vector_layers.CircleMarker object at 0x7fb9918f2978>, <folium.vector_layers.CircleMarker object at 0x7fb9918f29b0>, <folium.vector_layers.CircleMarker object at 0x7fb9918f29e8>, <folium.vector_layers.CircleMarker object at 0x7fb9918f2a20>, <folium.vector_layers.CircleMarker object at 0x7fb9918f2a58>, <folium.vector_layers.CircleMarker object at 0x7fb9918f2a90>, <folium.vector_layers.CircleMarker object at 0x7fb9918f2ac8>, <folium.vector_layers.CircleMarker object at 0x7fb9918f2b00>, <folium.vector_layers.CircleMarker object at 0x7fb9918f2b38>, <folium.vector_layers.CircleMarker object at 0x7fb9918f2b70>, <folium.vector_layers.CircleMarker object at 0x7fb9918f2ba8>, <folium.vector_layers.CircleMarker object at 0x7fb9918f2be0>, <folium.vector_layers.CircleMarker object at 0x7fb9918f2c18>, <folium.vector_layers.CircleMarker object at 0x7fb9918f2c50>, <folium.vector_layers.CircleMarker object at 0x7fb9918f2c88>, <folium.vector_layers.CircleMarker object at 0x7fb9918f2cc0>, <folium.vector_layers.CircleMarker object at 0x7fb9918f2cf8>, <folium.vector_layers.CircleMarker object at 0x7fb9918f2d30>, <folium.vector_layers.CircleMarker object at 0x7fb9918f2d68>, <folium.vector_layers.CircleMarker object at 0x7fb9918f2da0>, <folium.vector_layers.CircleMarker object at 0x7fb9918f2dd8>, <folium.vector_layers.CircleMarker object at 0x7fb9918f2e10>, <folium.vector_layers.CircleMarker object at 0x7fb9918f2e48>, <folium.vector_layers.CircleMarker object at 0x7fb9918f2e80>, <folium.vector_layers.CircleMarker object at 0x7fb9918f2eb8>, <folium.vector_layers.CircleMarker object at 0x7fb9918f2ef0>, <folium.vector_layers.CircleMarker object at 0x7fb9918f2f28>, <folium.vector_layers.CircleMarker object at 0x7fb9918f2f60>, <folium.vector_layers.CircleMarker object at 0x7fb9918f2f98>, <folium.vector_layers.CircleMarker object at 0x7fb9918f2fd0>, <folium.vector_layers.CircleMarker object at 0x7fb9918f2320>, <folium.vector_layers.CircleMarker object at 0x7fb9918f26a0>, <folium.vector_layers.CircleMarker object at 0x7fb9919000b8>, <folium.vector_layers.CircleMarker object at 0x7fb9919000f0>, <folium.vector_layers.CircleMarker object at 0x7fb991900128>, <folium.vector_layers.CircleMarker object at 0x7fb991900160>, <folium.vector_layers.CircleMarker object at 0x7fb991900198>, <folium.vector_layers.CircleMarker object at 0x7fb9919001d0>, <folium.vector_layers.CircleMarker object at 0x7fb991900208>, <folium.vector_layers.CircleMarker object at 0x7fb991900240>, <folium.vector_layers.CircleMarker object at 0x7fb991900278>, <folium.vector_layers.CircleMarker object at 0x7fb9919002b0>, <folium.vector_layers.CircleMarker object at 0x7fb9919002e8>, <folium.vector_layers.CircleMarker object at 0x7fb991900320>, <folium.vector_layers.CircleMarker object at 0x7fb991900358>, <folium.vector_layers.CircleMarker object at 0x7fb991900390>, <folium.vector_layers.CircleMarker object at 0x7fb9919003c8>, <folium.vector_layers.CircleMarker object at 0x7fb991900400>, <folium.vector_layers.CircleMarker object at 0x7fb991900438>, <folium.vector_layers.CircleMarker object at 0x7fb991900470>, <folium.vector_layers.CircleMarker object at 0x7fb9919004a8>, <folium.vector_layers.CircleMarker object at 0x7fb9919004e0>, <folium.vector_layers.CircleMarker object at 0x7fb991900518>, <folium.vector_layers.CircleMarker object at 0x7fb991900550>, <folium.vector_layers.CircleMarker object at 0x7fb991900588>, <folium.vector_layers.CircleMarker object at 0x7fb9919005c0>, <folium.vector_layers.CircleMarker object at 0x7fb9919005f8>, <folium.vector_layers.CircleMarker object at 0x7fb991900630>, <folium.vector_layers.CircleMarker object at 0x7fb991900668>, <folium.vector_layers.CircleMarker object at 0x7fb9919006a0>, <folium.vector_layers.CircleMarker object at 0x7fb9919006d8>, <folium.vector_layers.CircleMarker object at 0x7fb991900710>, <folium.vector_layers.CircleMarker object at 0x7fb991900748>, <folium.vector_layers.CircleMarker object at 0x7fb991900780>, <folium.vector_layers.CircleMarker object at 0x7fb9919007b8>, <folium.vector_layers.CircleMarker object at 0x7fb9919007f0>, <folium.vector_layers.CircleMarker object at 0x7fb991900828>, <folium.vector_layers.CircleMarker object at 0x7fb991900860>, <folium.vector_layers.CircleMarker object at 0x7fb991900898>, <folium.vector_layers.CircleMarker object at 0x7fb9919008d0>, <folium.vector_layers.CircleMarker object at 0x7fb991900908>, <folium.vector_layers.CircleMarker object at 0x7fb991900940>, <folium.vector_layers.CircleMarker object at 0x7fb991900978>, <folium.vector_layers.CircleMarker object at 0x7fb9919009b0>, <folium.vector_layers.CircleMarker object at 0x7fb9919009e8>, <folium.vector_layers.CircleMarker object at 0x7fb991900a20>, <folium.vector_layers.CircleMarker object at 0x7fb991900a58>, <folium.vector_layers.CircleMarker object at 0x7fb991900a90>, <folium.vector_layers.CircleMarker object at 0x7fb991900ac8>, <folium.vector_layers.CircleMarker object at 0x7fb991900b00>, <folium.vector_layers.CircleMarker object at 0x7fb991900b38>, <folium.vector_layers.CircleMarker object at 0x7fb991900b70>, <folium.vector_layers.CircleMarker object at 0x7fb991900ba8>, <folium.vector_layers.CircleMarker object at 0x7fb991900be0>, <folium.vector_layers.CircleMarker object at 0x7fb991900c18>, <folium.vector_layers.CircleMarker object at 0x7fb991900c50>, <folium.vector_layers.CircleMarker object at 0x7fb991900c88>, <folium.vector_layers.CircleMarker object at 0x7fb991900cc0>, <folium.vector_layers.CircleMarker object at 0x7fb991900cf8>, <folium.vector_layers.CircleMarker object at 0x7fb991900d30>, <folium.vector_layers.CircleMarker object at 0x7fb991900d68>, <folium.vector_layers.CircleMarker object at 0x7fb991900da0>, <folium.vector_layers.CircleMarker object at 0x7fb991900dd8>, <folium.vector_layers.CircleMarker object at 0x7fb991900e10>, <folium.vector_layers.CircleMarker object at 0x7fb991900e48>, <folium.vector_layers.CircleMarker object at 0x7fb991900e80>, <folium.vector_layers.CircleMarker object at 0x7fb991900eb8>, <folium.vector_layers.CircleMarker object at 0x7fb991900ef0>, <folium.vector_layers.CircleMarker object at 0x7fb991900f28>, <folium.vector_layers.CircleMarker object at 0x7fb991900f60>, <folium.vector_layers.CircleMarker object at 0x7fb991900f98>, <folium.vector_layers.CircleMarker object at 0x7fb991900fd0>, <folium.vector_layers.CircleMarker object at 0x7fb991900048>, <folium.vector_layers.CircleMarker object at 0x7fb99188d080>, <folium.vector_layers.CircleMarker object at 0x7fb99188d0b8>, <folium.vector_layers.CircleMarker object at 0x7fb99188d0f0>, <folium.vector_layers.CircleMarker object at 0x7fb99188d128>, <folium.vector_layers.CircleMarker object at 0x7fb99188d160>, <folium.vector_layers.CircleMarker object at 0x7fb99188d198>, <folium.vector_layers.CircleMarker object at 0x7fb99188d1d0>, <folium.vector_layers.CircleMarker object at 0x7fb99188d208>, <folium.vector_layers.CircleMarker object at 0x7fb99188d240>, <folium.vector_layers.CircleMarker object at 0x7fb99188d278>, <folium.vector_layers.CircleMarker object at 0x7fb99188d2b0>, <folium.vector_layers.CircleMarker object at 0x7fb99188d2e8>, <folium.vector_layers.CircleMarker object at 0x7fb99188d320>, <folium.vector_layers.CircleMarker object at 0x7fb99188d358>, <folium.vector_layers.CircleMarker object at 0x7fb99188d390>, <folium.vector_layers.CircleMarker object at 0x7fb99188d3c8>, <folium.vector_layers.CircleMarker object at 0x7fb99188d400>, <folium.vector_layers.CircleMarker object at 0x7fb99188d438>, <folium.vector_layers.CircleMarker object at 0x7fb99188d470>, <folium.vector_layers.CircleMarker object at 0x7fb99188d4a8>, <folium.vector_layers.CircleMarker object at 0x7fb99188d4e0>, <folium.vector_layers.CircleMarker object at 0x7fb99188d518>, <folium.vector_layers.CircleMarker object at 0x7fb99188d550>, <folium.vector_layers.CircleMarker object at 0x7fb99188d588>, <folium.vector_layers.CircleMarker object at 0x7fb99188d5c0>, <folium.vector_layers.CircleMarker object at 0x7fb99188d5f8>, <folium.vector_layers.CircleMarker object at 0x7fb99188d630>, <folium.vector_layers.CircleMarker object at 0x7fb99188d668>, <folium.vector_layers.CircleMarker object at 0x7fb99188d6a0>, <folium.vector_layers.CircleMarker object at 0x7fb99188d6d8>, <folium.vector_layers.CircleMarker object at 0x7fb99188d710>, <folium.vector_layers.CircleMarker object at 0x7fb99188d748>, <folium.vector_layers.CircleMarker object at 0x7fb99188d780>, <folium.vector_layers.CircleMarker object at 0x7fb99188d7b8>, <folium.vector_layers.CircleMarker object at 0x7fb99188d7f0>, <folium.vector_layers.CircleMarker object at 0x7fb99188d828>, <folium.vector_layers.CircleMarker object at 0x7fb99188d860>, <folium.vector_layers.CircleMarker object at 0x7fb99188d898>, <folium.vector_layers.CircleMarker object at 0x7fb99188d8d0>, <folium.vector_layers.CircleMarker object at 0x7fb99188d908>, <folium.vector_layers.CircleMarker object at 0x7fb99188d940>, <folium.vector_layers.CircleMarker object at 0x7fb99188d978>, <folium.vector_layers.CircleMarker object at 0x7fb99188d9b0>, <folium.vector_layers.CircleMarker object at 0x7fb99188d9e8>, <folium.vector_layers.CircleMarker object at 0x7fb99188da20>, <folium.vector_layers.CircleMarker object at 0x7fb99188da58>, <folium.vector_layers.CircleMarker object at 0x7fb99188da90>, <folium.vector_layers.CircleMarker object at 0x7fb99188dac8>, <folium.vector_layers.CircleMarker object at 0x7fb99188db00>, <folium.vector_layers.CircleMarker object at 0x7fb99188db38>, <folium.vector_layers.CircleMarker object at 0x7fb99188db70>, <folium.vector_layers.CircleMarker object at 0x7fb99188dba8>, <folium.vector_layers.CircleMarker object at 0x7fb99188dbe0>, <folium.vector_layers.CircleMarker object at 0x7fb99188dc18>, <folium.vector_layers.CircleMarker object at 0x7fb99188dc50>, <folium.vector_layers.CircleMarker object at 0x7fb99188dc88>, <folium.vector_layers.CircleMarker object at 0x7fb99188dcc0>, <folium.vector_layers.CircleMarker object at 0x7fb99188dcf8>, <folium.vector_layers.CircleMarker object at 0x7fb99188dd30>, <folium.vector_layers.CircleMarker object at 0x7fb99188dd68>, <folium.vector_layers.CircleMarker object at 0x7fb99188dda0>, <folium.vector_layers.CircleMarker object at 0x7fb99188ddd8>, <folium.vector_layers.CircleMarker object at 0x7fb99188de10>, <folium.vector_layers.CircleMarker object at 0x7fb99188de48>, <folium.vector_layers.CircleMarker object at 0x7fb99188de80>, <folium.vector_layers.CircleMarker object at 0x7fb99188deb8>, <folium.vector_layers.CircleMarker object at 0x7fb99188def0>, <folium.vector_layers.CircleMarker object at 0x7fb99188df28>, <folium.vector_layers.CircleMarker object at 0x7fb99188df60>, <folium.vector_layers.CircleMarker object at 0x7fb99188df98>, <folium.vector_layers.CircleMarker object at 0x7fb99188dfd0>, <folium.vector_layers.CircleMarker object at 0x7fb99188d048>, <folium.vector_layers.CircleMarker object at 0x7fb99189b080>, <folium.vector_layers.CircleMarker object at 0x7fb99189b0b8>, <folium.vector_layers.CircleMarker object at 0x7fb99189b0f0>, <folium.vector_layers.CircleMarker object at 0x7fb99189b128>, <folium.vector_layers.CircleMarker object at 0x7fb99189b160>, <folium.vector_layers.CircleMarker object at 0x7fb99189b198>, <folium.vector_layers.CircleMarker object at 0x7fb99189b1d0>, <folium.vector_layers.CircleMarker object at 0x7fb99189b208>, <folium.vector_layers.CircleMarker object at 0x7fb99189b240>, <folium.vector_layers.CircleMarker object at 0x7fb99189b278>, <folium.vector_layers.CircleMarker object at 0x7fb99189b2b0>, <folium.vector_layers.CircleMarker object at 0x7fb99189b2e8>, <folium.vector_layers.CircleMarker object at 0x7fb99189b320>, <folium.vector_layers.CircleMarker object at 0x7fb99189b358>, <folium.vector_layers.CircleMarker object at 0x7fb99189b390>, <folium.vector_layers.CircleMarker object at 0x7fb99189b3c8>, <folium.vector_layers.CircleMarker object at 0x7fb99189b400>, <folium.vector_layers.CircleMarker object at 0x7fb99189b438>, <folium.vector_layers.CircleMarker object at 0x7fb99189b470>, <folium.vector_layers.CircleMarker object at 0x7fb99189b4a8>, <folium.vector_layers.CircleMarker object at 0x7fb99189b4e0>, <folium.vector_layers.CircleMarker object at 0x7fb99189b518>, <folium.vector_layers.CircleMarker object at 0x7fb99189b550>, <folium.vector_layers.CircleMarker object at 0x7fb99189b588>, <folium.vector_layers.CircleMarker object at 0x7fb99189b5c0>, <folium.vector_layers.CircleMarker object at 0x7fb99189b5f8>, <folium.vector_layers.CircleMarker object at 0x7fb99189b630>, <folium.vector_layers.CircleMarker object at 0x7fb99189b668>, <folium.vector_layers.CircleMarker object at 0x7fb99189b6a0>, <folium.vector_layers.CircleMarker object at 0x7fb99189b6d8>, <folium.vector_layers.CircleMarker object at 0x7fb99189b710>, <folium.vector_layers.CircleMarker object at 0x7fb99189b748>, <folium.vector_layers.CircleMarker object at 0x7fb99189b780>, <folium.vector_layers.CircleMarker object at 0x7fb99189b7b8>, <folium.vector_layers.CircleMarker object at 0x7fb99189b7f0>, <folium.vector_layers.CircleMarker object at 0x7fb99189b828>, <folium.vector_layers.CircleMarker object at 0x7fb99189b860>, <folium.vector_layers.CircleMarker object at 0x7fb99189b898>, <folium.vector_layers.CircleMarker object at 0x7fb99189b8d0>, <folium.vector_layers.CircleMarker object at 0x7fb99189b908>, <folium.vector_layers.CircleMarker object at 0x7fb99189b940>, <folium.vector_layers.CircleMarker object at 0x7fb99189b978>, <folium.vector_layers.CircleMarker object at 0x7fb99189b9b0>, <folium.vector_layers.CircleMarker object at 0x7fb99189b9e8>, <folium.vector_layers.CircleMarker object at 0x7fb99189ba20>, <folium.vector_layers.CircleMarker object at 0x7fb99189ba58>, <folium.vector_layers.CircleMarker object at 0x7fb99189ba90>, <folium.vector_layers.CircleMarker object at 0x7fb99189bac8>, <folium.vector_layers.CircleMarker object at 0x7fb99189bb00>, <folium.vector_layers.CircleMarker object at 0x7fb99189bb38>, <folium.vector_layers.CircleMarker object at 0x7fb99189bb70>, <folium.vector_layers.CircleMarker object at 0x7fb99189bba8>, <folium.vector_layers.CircleMarker object at 0x7fb99189bbe0>, <folium.vector_layers.CircleMarker object at 0x7fb99189bc18>, <folium.vector_layers.CircleMarker object at 0x7fb99189bc50>, <folium.vector_layers.CircleMarker object at 0x7fb99189bc88>, <folium.vector_layers.CircleMarker object at 0x7fb99189bcc0>, <folium.vector_layers.CircleMarker object at 0x7fb99189bcf8>, <folium.vector_layers.CircleMarker object at 0x7fb99189bd30>, <folium.vector_layers.CircleMarker object at 0x7fb99189bd68>, <folium.vector_layers.CircleMarker object at 0x7fb99189bda0>, <folium.vector_layers.CircleMarker object at 0x7fb99189bdd8>, <folium.vector_layers.CircleMarker object at 0x7fb99189be10>, <folium.vector_layers.CircleMarker object at 0x7fb99189be48>, <folium.vector_layers.CircleMarker object at 0x7fb99189be80>, <folium.vector_layers.CircleMarker object at 0x7fb99189beb8>, <folium.vector_layers.CircleMarker object at 0x7fb99189bef0>, <folium.vector_layers.CircleMarker object at 0x7fb99189bf28>, <folium.vector_layers.CircleMarker object at 0x7fb99189bf60>, <folium.vector_layers.CircleMarker object at 0x7fb99189bf98>, <folium.vector_layers.CircleMarker object at 0x7fb99189bfd0>, <folium.vector_layers.CircleMarker object at 0x7fb99189b048>, <folium.vector_layers.CircleMarker object at 0x7fb9918a9080>, <folium.vector_layers.CircleMarker object at 0x7fb9918a90b8>, <folium.vector_layers.CircleMarker object at 0x7fb9918a90f0>, <folium.vector_layers.CircleMarker object at 0x7fb9918a9128>, <folium.vector_layers.CircleMarker object at 0x7fb9918a9160>, <folium.vector_layers.CircleMarker object at 0x7fb9918a9198>, <folium.vector_layers.CircleMarker object at 0x7fb9918a91d0>, <folium.vector_layers.CircleMarker object at 0x7fb9918a9208>, <folium.vector_layers.CircleMarker object at 0x7fb9918a9240>, <folium.vector_layers.CircleMarker object at 0x7fb9918a9278>, <folium.vector_layers.CircleMarker object at 0x7fb9918a92b0>, <folium.vector_layers.CircleMarker object at 0x7fb9918a92e8>, <folium.vector_layers.CircleMarker object at 0x7fb9918a9320>, <folium.vector_layers.CircleMarker object at 0x7fb9918a9358>, <folium.vector_layers.CircleMarker object at 0x7fb9918a9390>, <folium.vector_layers.CircleMarker object at 0x7fb9918a93c8>, <folium.vector_layers.CircleMarker object at 0x7fb9918a9400>, <folium.vector_layers.CircleMarker object at 0x7fb9918a9438>, <folium.vector_layers.CircleMarker object at 0x7fb9918a9470>, <folium.vector_layers.CircleMarker object at 0x7fb9918a94a8>, <folium.vector_layers.CircleMarker object at 0x7fb9918a94e0>, <folium.vector_layers.CircleMarker object at 0x7fb9918a9518>, <folium.vector_layers.CircleMarker object at 0x7fb9918a9550>, <folium.vector_layers.CircleMarker object at 0x7fb9918a9588>, <folium.vector_layers.CircleMarker object at 0x7fb9918a95c0>, <folium.vector_layers.CircleMarker object at 0x7fb9918a95f8>, <folium.vector_layers.CircleMarker object at 0x7fb9918a9630>, <folium.vector_layers.CircleMarker object at 0x7fb9918a9668>, <folium.vector_layers.CircleMarker object at 0x7fb9918a96a0>, <folium.vector_layers.CircleMarker object at 0x7fb9918a96d8>, <folium.vector_layers.CircleMarker object at 0x7fb9918a9710>, <folium.vector_layers.CircleMarker object at 0x7fb9918a9748>, <folium.vector_layers.CircleMarker object at 0x7fb9918a9780>, <folium.vector_layers.CircleMarker object at 0x7fb9918a97b8>, <folium.vector_layers.CircleMarker object at 0x7fb9918a97f0>, <folium.vector_layers.CircleMarker object at 0x7fb9918a9828>, <folium.vector_layers.CircleMarker object at 0x7fb9918a9860>, <folium.vector_layers.CircleMarker object at 0x7fb9918a9898>, <folium.vector_layers.CircleMarker object at 0x7fb9918a98d0>, <folium.vector_layers.CircleMarker object at 0x7fb9918a9908>, <folium.vector_layers.CircleMarker object at 0x7fb9918a9940>, <folium.vector_layers.CircleMarker object at 0x7fb9918a9978>, <folium.vector_layers.CircleMarker object at 0x7fb9918a99b0>, <folium.vector_layers.CircleMarker object at 0x7fb9918a99e8>, <folium.vector_layers.CircleMarker object at 0x7fb9918a9a20>, <folium.vector_layers.CircleMarker object at 0x7fb9918a9a58>, <folium.vector_layers.CircleMarker object at 0x7fb9918a9a90>, <folium.vector_layers.CircleMarker object at 0x7fb9918a9ac8>, <folium.vector_layers.CircleMarker object at 0x7fb9918a9b00>, <folium.vector_layers.CircleMarker object at 0x7fb9918a9b38>, <folium.vector_layers.CircleMarker object at 0x7fb9918a9b70>, <folium.vector_layers.CircleMarker object at 0x7fb9918a9ba8>, <folium.vector_layers.CircleMarker object at 0x7fb9918a9be0>, <folium.vector_layers.CircleMarker object at 0x7fb9918a9c18>, <folium.vector_layers.CircleMarker object at 0x7fb9918a9c50>, <folium.vector_layers.CircleMarker object at 0x7fb9918a9c88>, <folium.vector_layers.CircleMarker object at 0x7fb9918a9cc0>, <folium.vector_layers.CircleMarker object at 0x7fb9918a9cf8>, <folium.vector_layers.CircleMarker object at 0x7fb9918a9d30>, <folium.vector_layers.CircleMarker object at 0x7fb9918a9d68>, <folium.vector_layers.CircleMarker object at 0x7fb9918a9da0>, <folium.vector_layers.CircleMarker object at 0x7fb9918a9dd8>, <folium.vector_layers.CircleMarker object at 0x7fb9918a9e10>, <folium.vector_layers.CircleMarker object at 0x7fb9918a9e48>, <folium.vector_layers.CircleMarker object at 0x7fb9918a9e80>, <folium.vector_layers.CircleMarker object at 0x7fb9918a9eb8>, <folium.vector_layers.CircleMarker object at 0x7fb9918a9ef0>, <folium.vector_layers.CircleMarker object at 0x7fb9918a9f28>, <folium.vector_layers.CircleMarker object at 0x7fb9918a9f60>, <folium.vector_layers.CircleMarker object at 0x7fb9918a9f98>, <folium.vector_layers.CircleMarker object at 0x7fb9918a9fd0>, <folium.vector_layers.CircleMarker object at 0x7fb9918a9048>, <folium.vector_layers.CircleMarker object at 0x7fb9918b7048>, <folium.vector_layers.CircleMarker object at 0x7fb9918b70b8>, <folium.vector_layers.CircleMarker object at 0x7fb9918b70f0>, <folium.vector_layers.CircleMarker object at 0x7fb9918b7128>, <folium.vector_layers.CircleMarker object at 0x7fb9918b7160>, <folium.vector_layers.CircleMarker object at 0x7fb9918b7198>, <folium.vector_layers.CircleMarker object at 0x7fb9918b71d0>, <folium.vector_layers.CircleMarker object at 0x7fb9918b7208>, <folium.vector_layers.CircleMarker object at 0x7fb9918b7240>, <folium.vector_layers.CircleMarker object at 0x7fb9918b7278>, <folium.vector_layers.CircleMarker object at 0x7fb9918b72b0>, <folium.vector_layers.CircleMarker object at 0x7fb9918b72e8>, <folium.vector_layers.CircleMarker object at 0x7fb9918b7320>, <folium.vector_layers.CircleMarker object at 0x7fb9918b7358>, <folium.vector_layers.CircleMarker object at 0x7fb9918b7390>, <folium.vector_layers.CircleMarker object at 0x7fb9918b73c8>, <folium.vector_layers.CircleMarker object at 0x7fb9918b7400>, <folium.vector_layers.CircleMarker object at 0x7fb9918b7438>, <folium.vector_layers.CircleMarker object at 0x7fb9918b7470>, <folium.vector_layers.CircleMarker object at 0x7fb9918b74a8>, <folium.vector_layers.CircleMarker object at 0x7fb9918b74e0>, <folium.vector_layers.CircleMarker object at 0x7fb9918b7518>, <folium.vector_layers.CircleMarker object at 0x7fb9918b7550>, <folium.vector_layers.CircleMarker object at 0x7fb9918b7588>, <folium.vector_layers.CircleMarker object at 0x7fb9918b75c0>, <folium.vector_layers.CircleMarker object at 0x7fb9918b75f8>, <folium.vector_layers.CircleMarker object at 0x7fb9918b7630>, <folium.vector_layers.CircleMarker object at 0x7fb9918b7668>, <folium.vector_layers.CircleMarker object at 0x7fb9918b76a0>, <folium.vector_layers.CircleMarker object at 0x7fb9918b76d8>, <folium.vector_layers.CircleMarker object at 0x7fb9918b7710>, <folium.vector_layers.CircleMarker object at 0x7fb9918b7748>, <folium.vector_layers.CircleMarker object at 0x7fb9918b7780>, <folium.vector_layers.CircleMarker object at 0x7fb9918b77b8>, <folium.vector_layers.CircleMarker object at 0x7fb9918b77f0>, <folium.vector_layers.CircleMarker object at 0x7fb9918b7828>, <folium.vector_layers.CircleMarker object at 0x7fb9918b7860>, <folium.vector_layers.CircleMarker object at 0x7fb9918b7898>, <folium.vector_layers.CircleMarker object at 0x7fb9918b78d0>, <folium.vector_layers.CircleMarker object at 0x7fb9918b7908>, <folium.vector_layers.CircleMarker object at 0x7fb9918b7940>, <folium.vector_layers.CircleMarker object at 0x7fb9918b7978>, <folium.vector_layers.CircleMarker object at 0x7fb9918b79b0>, <folium.vector_layers.CircleMarker object at 0x7fb9918b79e8>, <folium.vector_layers.CircleMarker object at 0x7fb9918b7a20>, <folium.vector_layers.CircleMarker object at 0x7fb9918b7a58>, <folium.vector_layers.CircleMarker object at 0x7fb9918b7a90>, <folium.vector_layers.CircleMarker object at 0x7fb9918b7ac8>, <folium.vector_layers.CircleMarker object at 0x7fb9918b7b00>, <folium.vector_layers.CircleMarker object at 0x7fb9918b7b38>, <folium.vector_layers.CircleMarker object at 0x7fb9918b7b70>, <folium.vector_layers.CircleMarker object at 0x7fb9918b7ba8>, <folium.vector_layers.CircleMarker object at 0x7fb9918b7be0>, <folium.vector_layers.CircleMarker object at 0x7fb9918b7c18>, <folium.vector_layers.CircleMarker object at 0x7fb9918b7c50>, <folium.vector_layers.CircleMarker object at 0x7fb9918b7c88>, <folium.vector_layers.CircleMarker object at 0x7fb9918b7cc0>, <folium.vector_layers.CircleMarker object at 0x7fb9918b7cf8>, <folium.vector_layers.CircleMarker object at 0x7fb9918b7d30>, <folium.vector_layers.CircleMarker object at 0x7fb9918b7d68>, <folium.vector_layers.CircleMarker object at 0x7fb9918b7da0>, <folium.vector_layers.CircleMarker object at 0x7fb9918b7dd8>, <folium.vector_layers.CircleMarker object at 0x7fb9918b7e10>, <folium.vector_layers.CircleMarker object at 0x7fb9918b7e48>, <folium.vector_layers.CircleMarker object at 0x7fb9918b7e80>, <folium.vector_layers.CircleMarker object at 0x7fb9918b7eb8>, <folium.vector_layers.CircleMarker object at 0x7fb9918b7ef0>, <folium.vector_layers.CircleMarker object at 0x7fb9918b7f28>, <folium.vector_layers.CircleMarker object at 0x7fb9918b7f60>, <folium.vector_layers.CircleMarker object at 0x7fb9918b7f98>, <folium.vector_layers.CircleMarker object at 0x7fb9918b7fd0>, <folium.vector_layers.CircleMarker object at 0x7fb9918b7080>, <folium.vector_layers.CircleMarker object at 0x7fb9918c6080>, <folium.vector_layers.CircleMarker object at 0x7fb9918c60b8>, <folium.vector_layers.CircleMarker object at 0x7fb9918c60f0>, <folium.vector_layers.CircleMarker object at 0x7fb9918c6128>, <folium.vector_layers.CircleMarker object at 0x7fb9918c6160>, <folium.vector_layers.CircleMarker object at 0x7fb9918c6198>, <folium.vector_layers.CircleMarker object at 0x7fb9918c61d0>, <folium.vector_layers.CircleMarker object at 0x7fb9918c6208>, <folium.vector_layers.CircleMarker object at 0x7fb9918c6240>, <folium.vector_layers.CircleMarker object at 0x7fb9918c6278>, <folium.vector_layers.CircleMarker object at 0x7fb9918c62b0>, <folium.vector_layers.CircleMarker object at 0x7fb9918c62e8>, <folium.vector_layers.CircleMarker object at 0x7fb9918c6320>, <folium.vector_layers.CircleMarker object at 0x7fb9918c6358>, <folium.vector_layers.CircleMarker object at 0x7fb9918c6390>, <folium.vector_layers.CircleMarker object at 0x7fb9918c63c8>, <folium.vector_layers.CircleMarker object at 0x7fb9918c6400>, <folium.vector_layers.CircleMarker object at 0x7fb9918c6438>, <folium.vector_layers.CircleMarker object at 0x7fb9918c6470>, <folium.vector_layers.CircleMarker object at 0x7fb9918c64a8>, <folium.vector_layers.CircleMarker object at 0x7fb9918c64e0>, <folium.vector_layers.CircleMarker object at 0x7fb9918c6518>, <folium.vector_layers.CircleMarker object at 0x7fb9918c6550>, <folium.vector_layers.CircleMarker object at 0x7fb9918c6588>, <folium.vector_layers.CircleMarker object at 0x7fb9918c65c0>, <folium.vector_layers.CircleMarker object at 0x7fb9918c65f8>, <folium.vector_layers.CircleMarker object at 0x7fb9918c6630>, <folium.vector_layers.CircleMarker object at 0x7fb9918c6668>, <folium.vector_layers.CircleMarker object at 0x7fb9918c66a0>, <folium.vector_layers.CircleMarker object at 0x7fb9918c66d8>, <folium.vector_layers.CircleMarker object at 0x7fb9918c6710>, <folium.vector_layers.CircleMarker object at 0x7fb9918c6748>, <folium.vector_layers.CircleMarker object at 0x7fb9918c6780>, <folium.vector_layers.CircleMarker object at 0x7fb9918c67b8>, <folium.vector_layers.CircleMarker object at 0x7fb9918c67f0>, <folium.vector_layers.CircleMarker object at 0x7fb9918c6828>, <folium.vector_layers.CircleMarker object at 0x7fb9918c6860>, <folium.vector_layers.CircleMarker object at 0x7fb9918c6898>, <folium.vector_layers.CircleMarker object at 0x7fb9918c68d0>, <folium.vector_layers.CircleMarker object at 0x7fb9918c6908>, <folium.vector_layers.CircleMarker object at 0x7fb9918c6940>, <folium.vector_layers.CircleMarker object at 0x7fb9918c6978>, <folium.vector_layers.CircleMarker object at 0x7fb9918c69b0>, <folium.vector_layers.CircleMarker object at 0x7fb9918c69e8>, <folium.vector_layers.CircleMarker object at 0x7fb9918c6a20>, <folium.vector_layers.CircleMarker object at 0x7fb9918c6a58>, <folium.vector_layers.CircleMarker object at 0x7fb9918c6a90>, <folium.vector_layers.CircleMarker object at 0x7fb9918c6ac8>, <folium.vector_layers.CircleMarker object at 0x7fb9918c6b00>, <folium.vector_layers.CircleMarker object at 0x7fb9918c6b38>, <folium.vector_layers.CircleMarker object at 0x7fb9918c6b70>, <folium.vector_layers.CircleMarker object at 0x7fb9918c6ba8>, <folium.vector_layers.CircleMarker object at 0x7fb9918c6be0>, <folium.vector_layers.CircleMarker object at 0x7fb9918c6c18>, <folium.vector_layers.CircleMarker object at 0x7fb9918c6c50>, <folium.vector_layers.CircleMarker object at 0x7fb9918c6c88>, <folium.vector_layers.CircleMarker object at 0x7fb9918c6cc0>, <folium.vector_layers.CircleMarker object at 0x7fb9918c6cf8>, <folium.vector_layers.CircleMarker object at 0x7fb9918c6d30>, <folium.vector_layers.CircleMarker object at 0x7fb9918c6d68>, <folium.vector_layers.CircleMarker object at 0x7fb9918c6da0>, <folium.vector_layers.CircleMarker object at 0x7fb9918c6dd8>, <folium.vector_layers.CircleMarker object at 0x7fb9918c6e10>, <folium.vector_layers.CircleMarker object at 0x7fb9918c6e48>, <folium.vector_layers.CircleMarker object at 0x7fb9918c6e80>, <folium.vector_layers.CircleMarker object at 0x7fb9918c6eb8>, <folium.vector_layers.CircleMarker object at 0x7fb9918c6ef0>, <folium.vector_layers.CircleMarker object at 0x7fb9918c6f28>, <folium.vector_layers.CircleMarker object at 0x7fb9918c6f60>, <folium.vector_layers.CircleMarker object at 0x7fb9918c6f98>, <folium.vector_layers.CircleMarker object at 0x7fb9918c6fd0>, <folium.vector_layers.CircleMarker object at 0x7fb9918c6048>, <folium.vector_layers.CircleMarker object at 0x7fb991852080>, <folium.vector_layers.CircleMarker object at 0x7fb9918520b8>, <folium.vector_layers.CircleMarker object at 0x7fb9918520f0>, <folium.vector_layers.CircleMarker object at 0x7fb991852128>, <folium.vector_layers.CircleMarker object at 0x7fb991852160>, <folium.vector_layers.CircleMarker object at 0x7fb991852198>, <folium.vector_layers.CircleMarker object at 0x7fb9918521d0>, <folium.vector_layers.CircleMarker object at 0x7fb991852208>, <folium.vector_layers.CircleMarker object at 0x7fb991852240>, <folium.vector_layers.CircleMarker object at 0x7fb991852278>, <folium.vector_layers.CircleMarker object at 0x7fb9918522b0>, <folium.vector_layers.CircleMarker object at 0x7fb9918522e8>, <folium.vector_layers.CircleMarker object at 0x7fb991852320>, <folium.vector_layers.CircleMarker object at 0x7fb991852358>, <folium.vector_layers.CircleMarker object at 0x7fb991852390>, <folium.vector_layers.CircleMarker object at 0x7fb9918523c8>, <folium.vector_layers.CircleMarker object at 0x7fb991852400>, <folium.vector_layers.CircleMarker object at 0x7fb991852438>, <folium.vector_layers.CircleMarker object at 0x7fb991852470>, <folium.vector_layers.CircleMarker object at 0x7fb9918524a8>, <folium.vector_layers.CircleMarker object at 0x7fb9918524e0>, <folium.vector_layers.CircleMarker object at 0x7fb991852518>, <folium.vector_layers.CircleMarker object at 0x7fb991852550>, <folium.vector_layers.CircleMarker object at 0x7fb991852588>, <folium.vector_layers.CircleMarker object at 0x7fb9918525c0>, <folium.vector_layers.CircleMarker object at 0x7fb9918525f8>, <folium.vector_layers.CircleMarker object at 0x7fb991852630>, <folium.vector_layers.CircleMarker object at 0x7fb991852668>, <folium.vector_layers.CircleMarker object at 0x7fb9918526a0>, <folium.vector_layers.CircleMarker object at 0x7fb9918526d8>, <folium.vector_layers.CircleMarker object at 0x7fb991852710>, <folium.vector_layers.CircleMarker object at 0x7fb991852748>, <folium.vector_layers.CircleMarker object at 0x7fb991852780>, <folium.vector_layers.CircleMarker object at 0x7fb9918527b8>, <folium.vector_layers.CircleMarker object at 0x7fb9918527f0>, <folium.vector_layers.CircleMarker object at 0x7fb991852828>, <folium.vector_layers.CircleMarker object at 0x7fb991852860>, <folium.vector_layers.CircleMarker object at 0x7fb991852898>, <folium.vector_layers.CircleMarker object at 0x7fb9918528d0>, <folium.vector_layers.CircleMarker object at 0x7fb991852908>, <folium.vector_layers.CircleMarker object at 0x7fb991852940>, <folium.vector_layers.CircleMarker object at 0x7fb991852978>, <folium.vector_layers.CircleMarker object at 0x7fb9918529b0>, <folium.vector_layers.CircleMarker object at 0x7fb9918529e8>, <folium.vector_layers.CircleMarker object at 0x7fb991852a20>, <folium.vector_layers.CircleMarker object at 0x7fb991852a58>, <folium.vector_layers.CircleMarker object at 0x7fb991852a90>, <folium.vector_layers.CircleMarker object at 0x7fb991852ac8>, <folium.vector_layers.CircleMarker object at 0x7fb991852b00>, <folium.vector_layers.CircleMarker object at 0x7fb991852b38>, <folium.vector_layers.CircleMarker object at 0x7fb991852b70>, <folium.vector_layers.CircleMarker object at 0x7fb991852ba8>, <folium.vector_layers.CircleMarker object at 0x7fb991852be0>, <folium.vector_layers.CircleMarker object at 0x7fb991852c18>, <folium.vector_layers.CircleMarker object at 0x7fb991852c50>, <folium.vector_layers.CircleMarker object at 0x7fb991852c88>, <folium.vector_layers.CircleMarker object at 0x7fb991852cc0>, <folium.vector_layers.CircleMarker object at 0x7fb991852cf8>, <folium.vector_layers.CircleMarker object at 0x7fb991852d30>, <folium.vector_layers.CircleMarker object at 0x7fb991852d68>, <folium.vector_layers.CircleMarker object at 0x7fb991852da0>, <folium.vector_layers.CircleMarker object at 0x7fb991852dd8>, <folium.vector_layers.CircleMarker object at 0x7fb991852e10>, <folium.vector_layers.CircleMarker object at 0x7fb991852e48>, <folium.vector_layers.CircleMarker object at 0x7fb991852e80>, <folium.vector_layers.CircleMarker object at 0x7fb991852eb8>, <folium.vector_layers.CircleMarker object at 0x7fb991852ef0>, <folium.vector_layers.CircleMarker object at 0x7fb991852f28>, <folium.vector_layers.CircleMarker object at 0x7fb991852f60>, <folium.vector_layers.CircleMarker object at 0x7fb991852f98>, <folium.vector_layers.CircleMarker object at 0x7fb991852fd0>, <folium.vector_layers.CircleMarker object at 0x7fb991852048>, <folium.vector_layers.CircleMarker object at 0x7fb991861080>, <folium.vector_layers.CircleMarker object at 0x7fb9918610b8>, <folium.vector_layers.CircleMarker object at 0x7fb9918610f0>, <folium.vector_layers.CircleMarker object at 0x7fb991861128>, <folium.vector_layers.CircleMarker object at 0x7fb991861160>, <folium.vector_layers.CircleMarker object at 0x7fb991861198>, <folium.vector_layers.CircleMarker object at 0x7fb9918611d0>, <folium.vector_layers.CircleMarker object at 0x7fb991861208>, <folium.vector_layers.CircleMarker object at 0x7fb991861240>, <folium.vector_layers.CircleMarker object at 0x7fb991861278>, <folium.vector_layers.CircleMarker object at 0x7fb9918612b0>, <folium.vector_layers.CircleMarker object at 0x7fb9918612e8>, <folium.vector_layers.CircleMarker object at 0x7fb991861320>, <folium.vector_layers.CircleMarker object at 0x7fb991861358>, <folium.vector_layers.CircleMarker object at 0x7fb991861390>, <folium.vector_layers.CircleMarker object at 0x7fb9918613c8>, <folium.vector_layers.CircleMarker object at 0x7fb991861400>, <folium.vector_layers.CircleMarker object at 0x7fb991861438>, <folium.vector_layers.CircleMarker object at 0x7fb991861470>, <folium.vector_layers.CircleMarker object at 0x7fb9918614a8>, <folium.vector_layers.CircleMarker object at 0x7fb9918614e0>, <folium.vector_layers.CircleMarker object at 0x7fb991861518>, <folium.vector_layers.CircleMarker object at 0x7fb991861550>, <folium.vector_layers.CircleMarker object at 0x7fb991861588>, <folium.vector_layers.CircleMarker object at 0x7fb9918615c0>, <folium.vector_layers.CircleMarker object at 0x7fb9918615f8>, <folium.vector_layers.CircleMarker object at 0x7fb991861630>, <folium.vector_layers.CircleMarker object at 0x7fb991861668>, <folium.vector_layers.CircleMarker object at 0x7fb9918616a0>, <folium.vector_layers.CircleMarker object at 0x7fb9918616d8>, <folium.vector_layers.CircleMarker object at 0x7fb991861710>, <folium.vector_layers.CircleMarker object at 0x7fb991861748>, <folium.vector_layers.CircleMarker object at 0x7fb991861780>, <folium.vector_layers.CircleMarker object at 0x7fb9918617b8>, <folium.vector_layers.CircleMarker object at 0x7fb9918617f0>, <folium.vector_layers.CircleMarker object at 0x7fb991861828>, <folium.vector_layers.CircleMarker object at 0x7fb991861860>, <folium.vector_layers.CircleMarker object at 0x7fb991861898>, <folium.vector_layers.CircleMarker object at 0x7fb9918618d0>, <folium.vector_layers.CircleMarker object at 0x7fb991861908>, <folium.vector_layers.CircleMarker object at 0x7fb991861940>, <folium.vector_layers.CircleMarker object at 0x7fb991861978>, <folium.vector_layers.CircleMarker object at 0x7fb9918619b0>, <folium.vector_layers.CircleMarker object at 0x7fb9918619e8>, <folium.vector_layers.CircleMarker object at 0x7fb991861a20>, <folium.vector_layers.CircleMarker object at 0x7fb991861a58>, <folium.vector_layers.CircleMarker object at 0x7fb991861a90>, <folium.vector_layers.CircleMarker object at 0x7fb991861ac8>, <folium.vector_layers.CircleMarker object at 0x7fb991861b00>, <folium.vector_layers.CircleMarker object at 0x7fb991861b38>, <folium.vector_layers.CircleMarker object at 0x7fb991861b70>, <folium.vector_layers.CircleMarker object at 0x7fb991861ba8>, <folium.vector_layers.CircleMarker object at 0x7fb991861be0>, <folium.vector_layers.CircleMarker object at 0x7fb991861c18>, <folium.vector_layers.CircleMarker object at 0x7fb991861c50>, <folium.vector_layers.CircleMarker object at 0x7fb991861c88>, <folium.vector_layers.CircleMarker object at 0x7fb991861cc0>, <folium.vector_layers.CircleMarker object at 0x7fb991861cf8>, <folium.vector_layers.CircleMarker object at 0x7fb991861d30>, <folium.vector_layers.CircleMarker object at 0x7fb991861d68>, <folium.vector_layers.CircleMarker object at 0x7fb991861da0>, <folium.vector_layers.CircleMarker object at 0x7fb991861dd8>, <folium.vector_layers.CircleMarker object at 0x7fb991861e10>, <folium.vector_layers.CircleMarker object at 0x7fb991861e48>, <folium.vector_layers.CircleMarker object at 0x7fb991861e80>, <folium.vector_layers.CircleMarker object at 0x7fb991861eb8>, <folium.vector_layers.CircleMarker object at 0x7fb991861ef0>, <folium.vector_layers.CircleMarker object at 0x7fb991861f28>, <folium.vector_layers.CircleMarker object at 0x7fb991861f60>, <folium.vector_layers.CircleMarker object at 0x7fb991861f98>, <folium.vector_layers.CircleMarker object at 0x7fb991861fd0>, <folium.vector_layers.CircleMarker object at 0x7fb991861048>, <folium.vector_layers.CircleMarker object at 0x7fb99186d080>, <folium.vector_layers.CircleMarker object at 0x7fb99186d0b8>, <folium.vector_layers.CircleMarker object at 0x7fb99186d0f0>, <folium.vector_layers.CircleMarker object at 0x7fb99186d128>, <folium.vector_layers.CircleMarker object at 0x7fb99186d160>, <folium.vector_layers.CircleMarker object at 0x7fb99186d198>, <folium.vector_layers.CircleMarker object at 0x7fb99186d1d0>, <folium.vector_layers.CircleMarker object at 0x7fb99186d208>, <folium.vector_layers.CircleMarker object at 0x7fb99186d240>, <folium.vector_layers.CircleMarker object at 0x7fb99186d278>, <folium.vector_layers.CircleMarker object at 0x7fb99186d2b0>, <folium.vector_layers.CircleMarker object at 0x7fb99186d2e8>, <folium.vector_layers.CircleMarker object at 0x7fb99186d320>, <folium.vector_layers.CircleMarker object at 0x7fb99186d358>, <folium.vector_layers.CircleMarker object at 0x7fb99186d390>, <folium.vector_layers.CircleMarker object at 0x7fb99186d3c8>, <folium.vector_layers.CircleMarker object at 0x7fb99186d400>, <folium.vector_layers.CircleMarker object at 0x7fb99186d438>, <folium.vector_layers.CircleMarker object at 0x7fb99186d470>, <folium.vector_layers.CircleMarker object at 0x7fb99186d4a8>, <folium.vector_layers.CircleMarker object at 0x7fb99186d4e0>, <folium.vector_layers.CircleMarker object at 0x7fb99186d518>, <folium.vector_layers.CircleMarker object at 0x7fb99186d550>, <folium.vector_layers.CircleMarker object at 0x7fb99186d588>, <folium.vector_layers.CircleMarker object at 0x7fb99186d5c0>, <folium.vector_layers.CircleMarker object at 0x7fb99186d5f8>, <folium.vector_layers.CircleMarker object at 0x7fb99186d630>, <folium.vector_layers.CircleMarker object at 0x7fb99186d668>, <folium.vector_layers.CircleMarker object at 0x7fb99186d6a0>, <folium.vector_layers.CircleMarker object at 0x7fb99186d6d8>, <folium.vector_layers.CircleMarker object at 0x7fb99186d710>, <folium.vector_layers.CircleMarker object at 0x7fb99186d748>, <folium.vector_layers.CircleMarker object at 0x7fb99186d780>, <folium.vector_layers.CircleMarker object at 0x7fb99186d7b8>, <folium.vector_layers.CircleMarker object at 0x7fb99186d7f0>, <folium.vector_layers.CircleMarker object at 0x7fb99186d828>, <folium.vector_layers.CircleMarker object at 0x7fb99186d860>, <folium.vector_layers.CircleMarker object at 0x7fb99186d898>, <folium.vector_layers.CircleMarker object at 0x7fb99186d8d0>, <folium.vector_layers.CircleMarker object at 0x7fb99186d908>, <folium.vector_layers.CircleMarker object at 0x7fb99186d940>, <folium.vector_layers.CircleMarker object at 0x7fb99186d978>, <folium.vector_layers.CircleMarker object at 0x7fb99186d9b0>, <folium.vector_layers.CircleMarker object at 0x7fb99186d9e8>, <folium.vector_layers.CircleMarker object at 0x7fb99186da20>, <folium.vector_layers.CircleMarker object at 0x7fb99186da58>, <folium.vector_layers.CircleMarker object at 0x7fb99186da90>, <folium.vector_layers.CircleMarker object at 0x7fb99186dac8>, <folium.vector_layers.CircleMarker object at 0x7fb99186db00>, <folium.vector_layers.CircleMarker object at 0x7fb99186db38>, <folium.vector_layers.CircleMarker object at 0x7fb99186db70>, <folium.vector_layers.CircleMarker object at 0x7fb99186dba8>, <folium.vector_layers.CircleMarker object at 0x7fb99186dbe0>, <folium.vector_layers.CircleMarker object at 0x7fb99186dc18>, <folium.vector_layers.CircleMarker object at 0x7fb99186dc50>, <folium.vector_layers.CircleMarker object at 0x7fb99186dc88>, <folium.vector_layers.CircleMarker object at 0x7fb99186dcc0>, <folium.vector_layers.CircleMarker object at 0x7fb99186dcf8>, <folium.vector_layers.CircleMarker object at 0x7fb99186dd30>, <folium.vector_layers.CircleMarker object at 0x7fb99186dd68>, <folium.vector_layers.CircleMarker object at 0x7fb99186dda0>, <folium.vector_layers.CircleMarker object at 0x7fb99186ddd8>, <folium.vector_layers.CircleMarker object at 0x7fb99186de10>, <folium.vector_layers.CircleMarker object at 0x7fb99186de48>, <folium.vector_layers.CircleMarker object at 0x7fb99186de80>, <folium.vector_layers.CircleMarker object at 0x7fb99186deb8>, <folium.vector_layers.CircleMarker object at 0x7fb99186def0>, <folium.vector_layers.CircleMarker object at 0x7fb99186df28>, <folium.vector_layers.CircleMarker object at 0x7fb99186df60>, <folium.vector_layers.CircleMarker object at 0x7fb99186df98>, <folium.vector_layers.CircleMarker object at 0x7fb99186dfd0>, <folium.vector_layers.CircleMarker object at 0x7fb99186d048>, <folium.vector_layers.CircleMarker object at 0x7fb99187d080>, <folium.vector_layers.CircleMarker object at 0x7fb99187d0b8>, <folium.vector_layers.CircleMarker object at 0x7fb99187d0f0>, <folium.vector_layers.CircleMarker object at 0x7fb99187d128>, <folium.vector_layers.CircleMarker object at 0x7fb99187d160>, <folium.vector_layers.CircleMarker object at 0x7fb99187d198>, <folium.vector_layers.CircleMarker object at 0x7fb99187d1d0>, <folium.vector_layers.CircleMarker object at 0x7fb99187d208>, <folium.vector_layers.CircleMarker object at 0x7fb99187d240>, <folium.vector_layers.CircleMarker object at 0x7fb99187d278>, <folium.vector_layers.CircleMarker object at 0x7fb99187d2b0>, <folium.vector_layers.CircleMarker object at 0x7fb99187d2e8>, <folium.vector_layers.CircleMarker object at 0x7fb99187d320>, <folium.vector_layers.CircleMarker object at 0x7fb99187d358>, <folium.vector_layers.CircleMarker object at 0x7fb99187d390>, <folium.vector_layers.CircleMarker object at 0x7fb99187d3c8>, <folium.vector_layers.CircleMarker object at 0x7fb99187d400>, <folium.vector_layers.CircleMarker object at 0x7fb99187d438>, <folium.vector_layers.CircleMarker object at 0x7fb99187d470>, <folium.vector_layers.CircleMarker object at 0x7fb99187d4a8>, <folium.vector_layers.CircleMarker object at 0x7fb99187d4e0>, <folium.vector_layers.CircleMarker object at 0x7fb99187d518>, <folium.vector_layers.CircleMarker object at 0x7fb99187d550>, <folium.vector_layers.CircleMarker object at 0x7fb99187d588>, <folium.vector_layers.CircleMarker object at 0x7fb99187d5c0>, <folium.vector_layers.CircleMarker object at 0x7fb99187d5f8>, <folium.vector_layers.CircleMarker object at 0x7fb99187d630>, <folium.vector_layers.CircleMarker object at 0x7fb99187d668>, <folium.vector_layers.CircleMarker object at 0x7fb99187d6a0>, <folium.vector_layers.CircleMarker object at 0x7fb99187d6d8>, <folium.vector_layers.CircleMarker object at 0x7fb99187d710>, <folium.vector_layers.CircleMarker object at 0x7fb99187d748>, <folium.vector_layers.CircleMarker object at 0x7fb99187d780>, <folium.vector_layers.CircleMarker object at 0x7fb99187d7b8>, <folium.vector_layers.CircleMarker object at 0x7fb99187d7f0>, <folium.vector_layers.CircleMarker object at 0x7fb99187d828>, <folium.vector_layers.CircleMarker object at 0x7fb99187d860>, <folium.vector_layers.CircleMarker object at 0x7fb99187d898>, <folium.vector_layers.CircleMarker object at 0x7fb99187d8d0>, <folium.vector_layers.CircleMarker object at 0x7fb99187d908>, <folium.vector_layers.CircleMarker object at 0x7fb99187d940>, <folium.vector_layers.CircleMarker object at 0x7fb99187d978>, <folium.vector_layers.CircleMarker object at 0x7fb99187d9b0>, <folium.vector_layers.CircleMarker object at 0x7fb99187d9e8>, <folium.vector_layers.CircleMarker object at 0x7fb99187da20>, <folium.vector_layers.CircleMarker object at 0x7fb99187da58>, <folium.vector_layers.CircleMarker object at 0x7fb99187da90>, <folium.vector_layers.CircleMarker object at 0x7fb99187dac8>, <folium.vector_layers.CircleMarker object at 0x7fb99187db00>, <folium.vector_layers.CircleMarker object at 0x7fb99187db38>, <folium.vector_layers.CircleMarker object at 0x7fb99187db70>, <folium.vector_layers.CircleMarker object at 0x7fb99187dba8>, <folium.vector_layers.CircleMarker object at 0x7fb99187dbe0>, <folium.vector_layers.CircleMarker object at 0x7fb99187dc18>, <folium.vector_layers.CircleMarker object at 0x7fb99187dc50>, <folium.vector_layers.CircleMarker object at 0x7fb99187dc88>, <folium.vector_layers.CircleMarker object at 0x7fb99187dcc0>, <folium.vector_layers.CircleMarker object at 0x7fb99187dcf8>, <folium.vector_layers.CircleMarker object at 0x7fb99187dd30>, <folium.vector_layers.CircleMarker object at 0x7fb99187dd68>, <folium.vector_layers.CircleMarker object at 0x7fb99187dda0>, <folium.vector_layers.CircleMarker object at 0x7fb99187ddd8>, <folium.vector_layers.CircleMarker object at 0x7fb99187de10>, <folium.vector_layers.CircleMarker object at 0x7fb99187de48>, <folium.vector_layers.CircleMarker object at 0x7fb99187de80>, <folium.vector_layers.CircleMarker object at 0x7fb99187deb8>, <folium.vector_layers.CircleMarker object at 0x7fb99187def0>, <folium.vector_layers.CircleMarker object at 0x7fb99187df28>, <folium.vector_layers.CircleMarker object at 0x7fb99187df60>, <folium.vector_layers.CircleMarker object at 0x7fb99187df98>, <folium.vector_layers.CircleMarker object at 0x7fb99187dfd0>, <folium.vector_layers.CircleMarker object at 0x7fb99187d048>, <folium.vector_layers.CircleMarker object at 0x7fb991809080>, <folium.vector_layers.CircleMarker object at 0x7fb9918090b8>, <folium.vector_layers.CircleMarker object at 0x7fb9918090f0>, <folium.vector_layers.CircleMarker object at 0x7fb991809128>, <folium.vector_layers.CircleMarker object at 0x7fb991809160>, <folium.vector_layers.CircleMarker object at 0x7fb991809198>, <folium.vector_layers.CircleMarker object at 0x7fb9918091d0>, <folium.vector_layers.CircleMarker object at 0x7fb991809208>, <folium.vector_layers.CircleMarker object at 0x7fb991809240>, <folium.vector_layers.CircleMarker object at 0x7fb991809278>, <folium.vector_layers.CircleMarker object at 0x7fb9918092b0>, <folium.vector_layers.CircleMarker object at 0x7fb9918092e8>, <folium.vector_layers.CircleMarker object at 0x7fb991809320>, <folium.vector_layers.CircleMarker object at 0x7fb991809358>, <folium.vector_layers.CircleMarker object at 0x7fb991809390>, <folium.vector_layers.CircleMarker object at 0x7fb9918093c8>, <folium.vector_layers.CircleMarker object at 0x7fb991809400>, <folium.vector_layers.CircleMarker object at 0x7fb991809438>, <folium.vector_layers.CircleMarker object at 0x7fb991809470>, <folium.vector_layers.CircleMarker object at 0x7fb9918094a8>, <folium.vector_layers.CircleMarker object at 0x7fb9918094e0>, <folium.vector_layers.CircleMarker object at 0x7fb991809518>, <folium.vector_layers.CircleMarker object at 0x7fb991809550>, <folium.vector_layers.CircleMarker object at 0x7fb991809588>, <folium.vector_layers.CircleMarker object at 0x7fb9918095c0>, <folium.vector_layers.CircleMarker object at 0x7fb9918095f8>, <folium.vector_layers.CircleMarker object at 0x7fb991809630>, <folium.vector_layers.CircleMarker object at 0x7fb991809668>, <folium.vector_layers.CircleMarker object at 0x7fb9918096a0>, <folium.vector_layers.CircleMarker object at 0x7fb9918096d8>, <folium.vector_layers.CircleMarker object at 0x7fb991809710>, <folium.vector_layers.CircleMarker object at 0x7fb991809748>, <folium.vector_layers.CircleMarker object at 0x7fb991809780>, <folium.vector_layers.CircleMarker object at 0x7fb9918097b8>, <folium.vector_layers.CircleMarker object at 0x7fb9918097f0>, <folium.vector_layers.CircleMarker object at 0x7fb991809828>, <folium.vector_layers.CircleMarker object at 0x7fb991809860>, <folium.vector_layers.CircleMarker object at 0x7fb991809898>, <folium.vector_layers.CircleMarker object at 0x7fb9918098d0>, <folium.vector_layers.CircleMarker object at 0x7fb991809908>, <folium.vector_layers.CircleMarker object at 0x7fb991809940>, <folium.vector_layers.CircleMarker object at 0x7fb991809978>, <folium.vector_layers.CircleMarker object at 0x7fb9918099b0>, <folium.vector_layers.CircleMarker object at 0x7fb9918099e8>, <folium.vector_layers.CircleMarker object at 0x7fb991809a20>, <folium.vector_layers.CircleMarker object at 0x7fb991809a58>, <folium.vector_layers.CircleMarker object at 0x7fb991809a90>, <folium.vector_layers.CircleMarker object at 0x7fb991809ac8>, <folium.vector_layers.CircleMarker object at 0x7fb991809b00>, <folium.vector_layers.CircleMarker object at 0x7fb991809b38>, <folium.vector_layers.CircleMarker object at 0x7fb991809b70>, <folium.vector_layers.CircleMarker object at 0x7fb991809ba8>, <folium.vector_layers.CircleMarker object at 0x7fb991809be0>, <folium.vector_layers.CircleMarker object at 0x7fb991809c18>, <folium.vector_layers.CircleMarker object at 0x7fb991809c50>, <folium.vector_layers.CircleMarker object at 0x7fb991809c88>, <folium.vector_layers.CircleMarker object at 0x7fb991809cc0>, <folium.vector_layers.CircleMarker object at 0x7fb991809cf8>, <folium.vector_layers.CircleMarker object at 0x7fb991809d30>, <folium.vector_layers.CircleMarker object at 0x7fb991809d68>, <folium.vector_layers.CircleMarker object at 0x7fb991809da0>, <folium.vector_layers.CircleMarker object at 0x7fb991809dd8>, <folium.vector_layers.CircleMarker object at 0x7fb991809e10>, <folium.vector_layers.CircleMarker object at 0x7fb991809e48>, <folium.vector_layers.CircleMarker object at 0x7fb991809e80>, <folium.vector_layers.CircleMarker object at 0x7fb991809eb8>, <folium.vector_layers.CircleMarker object at 0x7fb991809ef0>, <folium.vector_layers.CircleMarker object at 0x7fb991809f28>, <folium.vector_layers.CircleMarker object at 0x7fb991809f60>, <folium.vector_layers.CircleMarker object at 0x7fb991809f98>, <folium.vector_layers.CircleMarker object at 0x7fb991809fd0>, <folium.vector_layers.CircleMarker object at 0x7fb991809048>, <folium.vector_layers.CircleMarker object at 0x7fb991818048>, <folium.vector_layers.CircleMarker object at 0x7fb9918180b8>, <folium.vector_layers.CircleMarker object at 0x7fb9918180f0>, <folium.vector_layers.CircleMarker object at 0x7fb991818128>, <folium.vector_layers.CircleMarker object at 0x7fb991818160>, <folium.vector_layers.CircleMarker object at 0x7fb991818198>, <folium.vector_layers.CircleMarker object at 0x7fb9918181d0>, <folium.vector_layers.CircleMarker object at 0x7fb991818208>, <folium.vector_layers.CircleMarker object at 0x7fb991818240>, <folium.vector_layers.CircleMarker object at 0x7fb991818278>, <folium.vector_layers.CircleMarker object at 0x7fb9918182b0>, <folium.vector_layers.CircleMarker object at 0x7fb9918182e8>, <folium.vector_layers.CircleMarker object at 0x7fb991818320>, <folium.vector_layers.CircleMarker object at 0x7fb991818358>, <folium.vector_layers.CircleMarker object at 0x7fb991818390>, <folium.vector_layers.CircleMarker object at 0x7fb9918183c8>, <folium.vector_layers.CircleMarker object at 0x7fb991818400>, <folium.vector_layers.CircleMarker object at 0x7fb991818438>, <folium.vector_layers.CircleMarker object at 0x7fb991818470>, <folium.vector_layers.CircleMarker object at 0x7fb9918184a8>, <folium.vector_layers.CircleMarker object at 0x7fb9918184e0>, <folium.vector_layers.CircleMarker object at 0x7fb991818518>, <folium.vector_layers.CircleMarker object at 0x7fb991818550>, <folium.vector_layers.CircleMarker object at 0x7fb991818588>, <folium.vector_layers.CircleMarker object at 0x7fb9918185c0>, <folium.vector_layers.CircleMarker object at 0x7fb9918185f8>, <folium.vector_layers.CircleMarker object at 0x7fb991818630>, <folium.vector_layers.CircleMarker object at 0x7fb991818668>, <folium.vector_layers.CircleMarker object at 0x7fb9918186a0>, <folium.vector_layers.CircleMarker object at 0x7fb9918186d8>, <folium.vector_layers.CircleMarker object at 0x7fb991818710>, <folium.vector_layers.CircleMarker object at 0x7fb991818748>, <folium.vector_layers.CircleMarker object at 0x7fb991818780>, <folium.vector_layers.CircleMarker object at 0x7fb9918187b8>, <folium.vector_layers.CircleMarker object at 0x7fb9918187f0>, <folium.vector_layers.CircleMarker object at 0x7fb991818828>, <folium.vector_layers.CircleMarker object at 0x7fb991818860>, <folium.vector_layers.CircleMarker object at 0x7fb991818898>, <folium.vector_layers.CircleMarker object at 0x7fb9918188d0>, <folium.vector_layers.CircleMarker object at 0x7fb991818908>, <folium.vector_layers.CircleMarker object at 0x7fb991818940>, <folium.vector_layers.CircleMarker object at 0x7fb991818978>, <folium.vector_layers.CircleMarker object at 0x7fb9918189b0>, <folium.vector_layers.CircleMarker object at 0x7fb9918189e8>, <folium.vector_layers.CircleMarker object at 0x7fb991818a20>, <folium.vector_layers.CircleMarker object at 0x7fb991818a58>, <folium.vector_layers.CircleMarker object at 0x7fb991818a90>, <folium.vector_layers.CircleMarker object at 0x7fb991818ac8>, <folium.vector_layers.CircleMarker object at 0x7fb991818b00>, <folium.vector_layers.CircleMarker object at 0x7fb991818b38>, <folium.vector_layers.CircleMarker object at 0x7fb991818b70>, <folium.vector_layers.CircleMarker object at 0x7fb991818ba8>, <folium.vector_layers.CircleMarker object at 0x7fb991818be0>, <folium.vector_layers.CircleMarker object at 0x7fb991818c18>, <folium.vector_layers.CircleMarker object at 0x7fb991818c50>, <folium.vector_layers.CircleMarker object at 0x7fb991818c88>, <folium.vector_layers.CircleMarker object at 0x7fb991818cc0>, <folium.vector_layers.CircleMarker object at 0x7fb991818cf8>, <folium.vector_layers.CircleMarker object at 0x7fb991818d30>, <folium.vector_layers.CircleMarker object at 0x7fb991818d68>, <folium.vector_layers.CircleMarker object at 0x7fb991818da0>, <folium.vector_layers.CircleMarker object at 0x7fb991818dd8>, <folium.vector_layers.CircleMarker object at 0x7fb991818e10>, <folium.vector_layers.CircleMarker object at 0x7fb991818e48>, <folium.vector_layers.CircleMarker object at 0x7fb991818e80>, <folium.vector_layers.CircleMarker object at 0x7fb991818eb8>, <folium.vector_layers.CircleMarker object at 0x7fb991818ef0>, <folium.vector_layers.CircleMarker object at 0x7fb991818f28>, <folium.vector_layers.CircleMarker object at 0x7fb991818f60>, <folium.vector_layers.CircleMarker object at 0x7fb991818f98>, <folium.vector_layers.CircleMarker object at 0x7fb991818fd0>, <folium.vector_layers.CircleMarker object at 0x7fb991818080>, <folium.vector_layers.CircleMarker object at 0x7fb991825080>, <folium.vector_layers.CircleMarker object at 0x7fb9918250b8>, <folium.vector_layers.CircleMarker object at 0x7fb9918250f0>, <folium.vector_layers.CircleMarker object at 0x7fb991825128>, <folium.vector_layers.CircleMarker object at 0x7fb991825160>, <folium.vector_layers.CircleMarker object at 0x7fb991825198>, <folium.vector_layers.CircleMarker object at 0x7fb9918251d0>, <folium.vector_layers.CircleMarker object at 0x7fb991825208>, <folium.vector_layers.CircleMarker object at 0x7fb991825240>, <folium.vector_layers.CircleMarker object at 0x7fb991825278>, <folium.vector_layers.CircleMarker object at 0x7fb9918252b0>, <folium.vector_layers.CircleMarker object at 0x7fb9918252e8>, <folium.vector_layers.CircleMarker object at 0x7fb991825320>, <folium.vector_layers.CircleMarker object at 0x7fb991825358>, <folium.vector_layers.CircleMarker object at 0x7fb991825390>, <folium.vector_layers.CircleMarker object at 0x7fb9918253c8>, <folium.vector_layers.CircleMarker object at 0x7fb991825400>, <folium.vector_layers.CircleMarker object at 0x7fb991825438>, <folium.vector_layers.CircleMarker object at 0x7fb991825470>, <folium.vector_layers.CircleMarker object at 0x7fb9918254a8>, <folium.vector_layers.CircleMarker object at 0x7fb9918254e0>, <folium.vector_layers.CircleMarker object at 0x7fb991825518>, <folium.vector_layers.CircleMarker object at 0x7fb991825550>, <folium.vector_layers.CircleMarker object at 0x7fb991825588>, <folium.vector_layers.CircleMarker object at 0x7fb9918255c0>, <folium.vector_layers.CircleMarker object at 0x7fb9918255f8>, <folium.vector_layers.CircleMarker object at 0x7fb991825630>, <folium.vector_layers.CircleMarker object at 0x7fb991825668>, <folium.vector_layers.CircleMarker object at 0x7fb9918256a0>, <folium.vector_layers.CircleMarker object at 0x7fb9918256d8>, <folium.vector_layers.CircleMarker object at 0x7fb991825710>, <folium.vector_layers.CircleMarker object at 0x7fb991825748>, <folium.vector_layers.CircleMarker object at 0x7fb991825780>, <folium.vector_layers.CircleMarker object at 0x7fb9918257b8>, <folium.vector_layers.CircleMarker object at 0x7fb9918257f0>, <folium.vector_layers.CircleMarker object at 0x7fb991825828>, <folium.vector_layers.CircleMarker object at 0x7fb991825860>, <folium.vector_layers.CircleMarker object at 0x7fb991825898>, <folium.vector_layers.CircleMarker object at 0x7fb9918258d0>, <folium.vector_layers.CircleMarker object at 0x7fb991825908>, <folium.vector_layers.CircleMarker object at 0x7fb991825940>, <folium.vector_layers.CircleMarker object at 0x7fb991825978>, <folium.vector_layers.CircleMarker object at 0x7fb9918259b0>, <folium.vector_layers.CircleMarker object at 0x7fb9918259e8>, <folium.vector_layers.CircleMarker object at 0x7fb991825a20>, <folium.vector_layers.CircleMarker object at 0x7fb991825a58>, <folium.vector_layers.CircleMarker object at 0x7fb991825a90>, <folium.vector_layers.CircleMarker object at 0x7fb991825ac8>, <folium.vector_layers.CircleMarker object at 0x7fb991825b00>, <folium.vector_layers.CircleMarker object at 0x7fb991825b38>, <folium.vector_layers.CircleMarker object at 0x7fb991825b70>, <folium.vector_layers.CircleMarker object at 0x7fb991825ba8>, <folium.vector_layers.CircleMarker object at 0x7fb991825be0>, <folium.vector_layers.CircleMarker object at 0x7fb991825c18>, <folium.vector_layers.CircleMarker object at 0x7fb991825c50>, <folium.vector_layers.CircleMarker object at 0x7fb991825c88>, <folium.vector_layers.CircleMarker object at 0x7fb991825cc0>, <folium.vector_layers.CircleMarker object at 0x7fb991825cf8>, <folium.vector_layers.CircleMarker object at 0x7fb991825d30>, <folium.vector_layers.CircleMarker object at 0x7fb991825d68>, <folium.vector_layers.CircleMarker object at 0x7fb991825da0>, <folium.vector_layers.CircleMarker object at 0x7fb991825dd8>, <folium.vector_layers.CircleMarker object at 0x7fb991825e10>, <folium.vector_layers.CircleMarker object at 0x7fb991825e48>, <folium.vector_layers.CircleMarker object at 0x7fb991825e80>, <folium.vector_layers.CircleMarker object at 0x7fb991825eb8>, <folium.vector_layers.CircleMarker object at 0x7fb991825ef0>, <folium.vector_layers.CircleMarker object at 0x7fb991825f28>, <folium.vector_layers.CircleMarker object at 0x7fb991825f60>, <folium.vector_layers.CircleMarker object at 0x7fb991825f98>, <folium.vector_layers.CircleMarker object at 0x7fb991825fd0>, <folium.vector_layers.CircleMarker object at 0x7fb991825048>, <folium.vector_layers.CircleMarker object at 0x7fb991833048>, <folium.vector_layers.CircleMarker object at 0x7fb9918330b8>, <folium.vector_layers.CircleMarker object at 0x7fb9918330f0>, <folium.vector_layers.CircleMarker object at 0x7fb991833128>, <folium.vector_layers.CircleMarker object at 0x7fb991833160>].",
     "output_type": "error",
     "traceback": [
      "\u001b[0;31m\u001b[0m",
      "\u001b[0;31mValueError\u001b[0mTraceback (most recent call last)",
      "\u001b[0;32m<ipython-input-47-cc1a912a8e96>\u001b[0m in \u001b[0;36m<module>\u001b[0;34m\u001b[0m\n\u001b[0;32m----> 1\u001b[0;31m \u001b[0mmap_with_markers\u001b[0m \u001b[0;34m=\u001b[0m \u001b[0madd_markers\u001b[0m\u001b[0;34m(\u001b[0m\u001b[0mtrip_markers\u001b[0m\u001b[0;34m,\u001b[0m \u001b[0mmanhattan_map\u001b[0m\u001b[0;34m)\u001b[0m\u001b[0;34m\u001b[0m\u001b[0;34m\u001b[0m\u001b[0m\n\u001b[0m",
      "\u001b[0;32m<ipython-input-46-729c791ac4c7>\u001b[0m in \u001b[0;36madd_markers\u001b[0;34m(markers, map_obj)\u001b[0m\n\u001b[1;32m      1\u001b[0m \u001b[0;32mdef\u001b[0m \u001b[0madd_markers\u001b[0m\u001b[0;34m(\u001b[0m\u001b[0mmarkers\u001b[0m\u001b[0;34m,\u001b[0m \u001b[0mmap_obj\u001b[0m\u001b[0;34m)\u001b[0m\u001b[0;34m:\u001b[0m\u001b[0;34m\u001b[0m\u001b[0;34m\u001b[0m\u001b[0m\n\u001b[0;32m----> 2\u001b[0;31m     \u001b[0mfolium\u001b[0m\u001b[0;34m.\u001b[0m\u001b[0mCircleMarker\u001b[0m\u001b[0;34m(\u001b[0m\u001b[0mlocation\u001b[0m \u001b[0;34m=\u001b[0m \u001b[0mmarkers\u001b[0m\u001b[0;34m,\u001b[0m \u001b[0mradius\u001b[0m \u001b[0;34m=\u001b[0m \u001b[0;36m6\u001b[0m\u001b[0;34m)\u001b[0m\u001b[0;34m.\u001b[0m\u001b[0madd_to\u001b[0m\u001b[0;34m(\u001b[0m\u001b[0mmap_obj\u001b[0m\u001b[0;34m)\u001b[0m\u001b[0;34m\u001b[0m\u001b[0;34m\u001b[0m\u001b[0m\n\u001b[0m\u001b[1;32m      3\u001b[0m     \u001b[0;32mreturn\u001b[0m \u001b[0mmap_obj\u001b[0m\u001b[0;34m\u001b[0m\u001b[0;34m\u001b[0m\u001b[0m\n\u001b[1;32m      4\u001b[0m \u001b[0;34m\u001b[0m\u001b[0m\n",
      "\u001b[0;32m/opt/conda/envs/learn-env/lib/python3.6/site-packages/folium/vector_layers.py\u001b[0m in \u001b[0;36m__init__\u001b[0;34m(self, location, radius, popup, tooltip, **kwargs)\u001b[0m\n\u001b[1;32m    303\u001b[0m     \u001b[0;32mdef\u001b[0m \u001b[0m__init__\u001b[0m\u001b[0;34m(\u001b[0m\u001b[0mself\u001b[0m\u001b[0;34m,\u001b[0m \u001b[0mlocation\u001b[0m\u001b[0;34m,\u001b[0m \u001b[0mradius\u001b[0m\u001b[0;34m=\u001b[0m\u001b[0;36m10\u001b[0m\u001b[0;34m,\u001b[0m \u001b[0mpopup\u001b[0m\u001b[0;34m=\u001b[0m\u001b[0;32mNone\u001b[0m\u001b[0;34m,\u001b[0m \u001b[0mtooltip\u001b[0m\u001b[0;34m=\u001b[0m\u001b[0;32mNone\u001b[0m\u001b[0;34m,\u001b[0m \u001b[0;34m**\u001b[0m\u001b[0mkwargs\u001b[0m\u001b[0;34m)\u001b[0m\u001b[0;34m:\u001b[0m\u001b[0;34m\u001b[0m\u001b[0;34m\u001b[0m\u001b[0m\n\u001b[1;32m    304\u001b[0m         super(CircleMarker, self).__init__(location, popup=popup,\n\u001b[0;32m--> 305\u001b[0;31m                                            tooltip=tooltip)\n\u001b[0m\u001b[1;32m    306\u001b[0m         \u001b[0mself\u001b[0m\u001b[0;34m.\u001b[0m\u001b[0m_name\u001b[0m \u001b[0;34m=\u001b[0m \u001b[0;34m'CircleMarker'\u001b[0m\u001b[0;34m\u001b[0m\u001b[0;34m\u001b[0m\u001b[0m\n\u001b[1;32m    307\u001b[0m         \u001b[0mself\u001b[0m\u001b[0;34m.\u001b[0m\u001b[0moptions\u001b[0m \u001b[0;34m=\u001b[0m \u001b[0mpath_options\u001b[0m\u001b[0;34m(\u001b[0m\u001b[0mline\u001b[0m\u001b[0;34m=\u001b[0m\u001b[0;32mFalse\u001b[0m\u001b[0;34m,\u001b[0m \u001b[0mradius\u001b[0m\u001b[0;34m=\u001b[0m\u001b[0mradius\u001b[0m\u001b[0;34m,\u001b[0m \u001b[0;34m**\u001b[0m\u001b[0mkwargs\u001b[0m\u001b[0;34m)\u001b[0m\u001b[0;34m\u001b[0m\u001b[0;34m\u001b[0m\u001b[0m\n",
      "\u001b[0;32m/opt/conda/envs/learn-env/lib/python3.6/site-packages/folium/map.py\u001b[0m in \u001b[0;36m__init__\u001b[0;34m(self, location, popup, tooltip, icon, draggable, **kwargs)\u001b[0m\n\u001b[1;32m    275\u001b[0m         \u001b[0msuper\u001b[0m\u001b[0;34m(\u001b[0m\u001b[0mMarker\u001b[0m\u001b[0;34m,\u001b[0m \u001b[0mself\u001b[0m\u001b[0;34m)\u001b[0m\u001b[0;34m.\u001b[0m\u001b[0m__init__\u001b[0m\u001b[0;34m(\u001b[0m\u001b[0;34m)\u001b[0m\u001b[0;34m\u001b[0m\u001b[0;34m\u001b[0m\u001b[0m\n\u001b[1;32m    276\u001b[0m         \u001b[0mself\u001b[0m\u001b[0;34m.\u001b[0m\u001b[0m_name\u001b[0m \u001b[0;34m=\u001b[0m \u001b[0;34m'Marker'\u001b[0m\u001b[0;34m\u001b[0m\u001b[0;34m\u001b[0m\u001b[0m\n\u001b[0;32m--> 277\u001b[0;31m         \u001b[0mself\u001b[0m\u001b[0;34m.\u001b[0m\u001b[0mlocation\u001b[0m \u001b[0;34m=\u001b[0m \u001b[0mvalidate_location\u001b[0m\u001b[0;34m(\u001b[0m\u001b[0mlocation\u001b[0m\u001b[0;34m)\u001b[0m\u001b[0;34m\u001b[0m\u001b[0;34m\u001b[0m\u001b[0m\n\u001b[0m\u001b[1;32m    278\u001b[0m         self.options = parse_options(\n\u001b[1;32m    279\u001b[0m             \u001b[0mdraggable\u001b[0m\u001b[0;34m=\u001b[0m\u001b[0mdraggable\u001b[0m \u001b[0;32mor\u001b[0m \u001b[0;32mNone\u001b[0m\u001b[0;34m,\u001b[0m\u001b[0;34m\u001b[0m\u001b[0;34m\u001b[0m\u001b[0m\n",
      "\u001b[0;32m/opt/conda/envs/learn-env/lib/python3.6/site-packages/folium/utilities.py\u001b[0m in \u001b[0;36mvalidate_location\u001b[0;34m(location)\u001b[0m\n\u001b[1;32m     48\u001b[0m     \u001b[0;32mif\u001b[0m \u001b[0mlen\u001b[0m\u001b[0;34m(\u001b[0m\u001b[0mlocation\u001b[0m\u001b[0;34m)\u001b[0m \u001b[0;34m!=\u001b[0m \u001b[0;36m2\u001b[0m\u001b[0;34m:\u001b[0m\u001b[0;34m\u001b[0m\u001b[0;34m\u001b[0m\u001b[0m\n\u001b[1;32m     49\u001b[0m         raise ValueError('Expected two (lat, lon) values for location, '\n\u001b[0;32m---> 50\u001b[0;31m                          'instead got: {!r}.'.format(location))\n\u001b[0m\u001b[1;32m     51\u001b[0m     \u001b[0;32mtry\u001b[0m\u001b[0;34m:\u001b[0m\u001b[0;34m\u001b[0m\u001b[0;34m\u001b[0m\u001b[0m\n\u001b[1;32m     52\u001b[0m         \u001b[0mcoords\u001b[0m \u001b[0;34m=\u001b[0m \u001b[0;34m(\u001b[0m\u001b[0mlocation\u001b[0m\u001b[0;34m[\u001b[0m\u001b[0;36m0\u001b[0m\u001b[0;34m]\u001b[0m\u001b[0;34m,\u001b[0m \u001b[0mlocation\u001b[0m\u001b[0;34m[\u001b[0m\u001b[0;36m1\u001b[0m\u001b[0;34m]\u001b[0m\u001b[0;34m)\u001b[0m\u001b[0;34m\u001b[0m\u001b[0;34m\u001b[0m\u001b[0m\n",
      "\u001b[0;31mValueError\u001b[0m: Expected two (lat, lon) values for location, instead got: [<folium.vector_layers.CircleMarker object at 0x7fb9918f2630>, <folium.vector_layers.CircleMarker object at 0x7fb9918f22b0>, <folium.vector_layers.CircleMarker object at 0x7fb9918f2358>, <folium.vector_layers.CircleMarker object at 0x7fb9918f2668>, <folium.vector_layers.CircleMarker object at 0x7fb9918f2710>, <folium.vector_layers.CircleMarker object at 0x7fb9bc68b048>, <folium.vector_layers.CircleMarker object at 0x7fb9918f26d8>, <folium.vector_layers.CircleMarker object at 0x7fb9918f2748>, <folium.vector_layers.CircleMarker object at 0x7fb9918f27b8>, <folium.vector_layers.CircleMarker object at 0x7fb9918f27f0>, <folium.vector_layers.CircleMarker object at 0x7fb9918f2860>, <folium.vector_layers.CircleMarker object at 0x7fb9918f2828>, <folium.vector_layers.CircleMarker object at 0x7fb9918f2400>, <folium.vector_layers.CircleMarker object at 0x7fb9918f2438>, <folium.vector_layers.CircleMarker object at 0x7fb9918f2470>, <folium.vector_layers.CircleMarker object at 0x7fb9918f24a8>, <folium.vector_layers.CircleMarker object at 0x7fb9918f24e0>, <folium.vector_layers.CircleMarker object at 0x7fb9918f2518>, <folium.vector_layers.CircleMarker object at 0x7fb9918f2550>, <folium.vector_layers.CircleMarker object at 0x7fb9918f2898>, <folium.vector_layers.CircleMarker object at 0x7fb9918f25c0>, <folium.vector_layers.CircleMarker object at 0x7fb9918f25f8>, <folium.vector_layers.CircleMarker object at 0x7fb9918f28d0>, <folium.vector_layers.CircleMarker object at 0x7fb9918f2908>, <folium.vector_layers.CircleMarker object at 0x7fb9918f2940>, <folium.vector_layers.CircleMarker object at 0x7fb9918f2780>, <folium.vector_layers.CircleMarker object at 0x7fb9918f2390>, <folium.vector_layers.CircleMarker object at 0x7fb9918f23c8>, <folium.vector_layers.CircleMarker object at 0x7fb9918f2978>, <folium.vector_layers.CircleMarker object at 0x7fb9918f29b0>, <folium.vector_layers.CircleMarker object at 0x7fb9918f29e8>, <folium.vector_layers.CircleMarker object at 0x7fb9918f2a20>, <folium.vector_layers.CircleMarker object at 0x7fb9918f2a58>, <folium.vector_layers.CircleMarker object at 0x7fb9918f2a90>, <folium.vector_layers.CircleMarker object at 0x7fb9918f2ac8>, <folium.vector_layers.CircleMarker object at 0x7fb9918f2b00>, <folium.vector_layers.CircleMarker object at 0x7fb9918f2b38>, <folium.vector_layers.CircleMarker object at 0x7fb9918f2b70>, <folium.vector_layers.CircleMarker object at 0x7fb9918f2ba8>, <folium.vector_layers.CircleMarker object at 0x7fb9918f2be0>, <folium.vector_layers.CircleMarker object at 0x7fb9918f2c18>, <folium.vector_layers.CircleMarker object at 0x7fb9918f2c50>, <folium.vector_layers.CircleMarker object at 0x7fb9918f2c88>, <folium.vector_layers.CircleMarker object at 0x7fb9918f2cc0>, <folium.vector_layers.CircleMarker object at 0x7fb9918f2cf8>, <folium.vector_layers.CircleMarker object at 0x7fb9918f2d30>, <folium.vector_layers.CircleMarker object at 0x7fb9918f2d68>, <folium.vector_layers.CircleMarker object at 0x7fb9918f2da0>, <folium.vector_layers.CircleMarker object at 0x7fb9918f2dd8>, <folium.vector_layers.CircleMarker object at 0x7fb9918f2e10>, <folium.vector_layers.CircleMarker object at 0x7fb9918f2e48>, <folium.vector_layers.CircleMarker object at 0x7fb9918f2e80>, <folium.vector_layers.CircleMarker object at 0x7fb9918f2eb8>, <folium.vector_layers.CircleMarker object at 0x7fb9918f2ef0>, <folium.vector_layers.CircleMarker object at 0x7fb9918f2f28>, <folium.vector_layers.CircleMarker object at 0x7fb9918f2f60>, <folium.vector_layers.CircleMarker object at 0x7fb9918f2f98>, <folium.vector_layers.CircleMarker object at 0x7fb9918f2fd0>, <folium.vector_layers.CircleMarker object at 0x7fb9918f2320>, <folium.vector_layers.CircleMarker object at 0x7fb9918f26a0>, <folium.vector_layers.CircleMarker object at 0x7fb9919000b8>, <folium.vector_layers.CircleMarker object at 0x7fb9919000f0>, <folium.vector_layers.CircleMarker object at 0x7fb991900128>, <folium.vector_layers.CircleMarker object at 0x7fb991900160>, <folium.vector_layers.CircleMarker object at 0x7fb991900198>, <folium.vector_layers.CircleMarker object at 0x7fb9919001d0>, <folium.vector_layers.CircleMarker object at 0x7fb991900208>, <folium.vector_layers.CircleMarker object at 0x7fb991900240>, <folium.vector_layers.CircleMarker object at 0x7fb991900278>, <folium.vector_layers.CircleMarker object at 0x7fb9919002b0>, <folium.vector_layers.CircleMarker object at 0x7fb9919002e8>, <folium.vector_layers.CircleMarker object at 0x7fb991900320>, <folium.vector_layers.CircleMarker object at 0x7fb991900358>, <folium.vector_layers.CircleMarker object at 0x7fb991900390>, <folium.vector_layers.CircleMarker object at 0x7fb9919003c8>, <folium.vector_layers.CircleMarker object at 0x7fb991900400>, <folium.vector_layers.CircleMarker object at 0x7fb991900438>, <folium.vector_layers.CircleMarker object at 0x7fb991900470>, <folium.vector_layers.CircleMarker object at 0x7fb9919004a8>, <folium.vector_layers.CircleMarker object at 0x7fb9919004e0>, <folium.vector_layers.CircleMarker object at 0x7fb991900518>, <folium.vector_layers.CircleMarker object at 0x7fb991900550>, <folium.vector_layers.CircleMarker object at 0x7fb991900588>, <folium.vector_layers.CircleMarker object at 0x7fb9919005c0>, <folium.vector_layers.CircleMarker object at 0x7fb9919005f8>, <folium.vector_layers.CircleMarker object at 0x7fb991900630>, <folium.vector_layers.CircleMarker object at 0x7fb991900668>, <folium.vector_layers.CircleMarker object at 0x7fb9919006a0>, <folium.vector_layers.CircleMarker object at 0x7fb9919006d8>, <folium.vector_layers.CircleMarker object at 0x7fb991900710>, <folium.vector_layers.CircleMarker object at 0x7fb991900748>, <folium.vector_layers.CircleMarker object at 0x7fb991900780>, <folium.vector_layers.CircleMarker object at 0x7fb9919007b8>, <folium.vector_layers.CircleMarker object at 0x7fb9919007f0>, <folium.vector_layers.CircleMarker object at 0x7fb991900828>, <folium.vector_layers.CircleMarker object at 0x7fb991900860>, <folium.vector_layers.CircleMarker object at 0x7fb991900898>, <folium.vector_layers.CircleMarker object at 0x7fb9919008d0>, <folium.vector_layers.CircleMarker object at 0x7fb991900908>, <folium.vector_layers.CircleMarker object at 0x7fb991900940>, <folium.vector_layers.CircleMarker object at 0x7fb991900978>, <folium.vector_layers.CircleMarker object at 0x7fb9919009b0>, <folium.vector_layers.CircleMarker object at 0x7fb9919009e8>, <folium.vector_layers.CircleMarker object at 0x7fb991900a20>, <folium.vector_layers.CircleMarker object at 0x7fb991900a58>, <folium.vector_layers.CircleMarker object at 0x7fb991900a90>, <folium.vector_layers.CircleMarker object at 0x7fb991900ac8>, <folium.vector_layers.CircleMarker object at 0x7fb991900b00>, <folium.vector_layers.CircleMarker object at 0x7fb991900b38>, <folium.vector_layers.CircleMarker object at 0x7fb991900b70>, <folium.vector_layers.CircleMarker object at 0x7fb991900ba8>, <folium.vector_layers.CircleMarker object at 0x7fb991900be0>, <folium.vector_layers.CircleMarker object at 0x7fb991900c18>, <folium.vector_layers.CircleMarker object at 0x7fb991900c50>, <folium.vector_layers.CircleMarker object at 0x7fb991900c88>, <folium.vector_layers.CircleMarker object at 0x7fb991900cc0>, <folium.vector_layers.CircleMarker object at 0x7fb991900cf8>, <folium.vector_layers.CircleMarker object at 0x7fb991900d30>, <folium.vector_layers.CircleMarker object at 0x7fb991900d68>, <folium.vector_layers.CircleMarker object at 0x7fb991900da0>, <folium.vector_layers.CircleMarker object at 0x7fb991900dd8>, <folium.vector_layers.CircleMarker object at 0x7fb991900e10>, <folium.vector_layers.CircleMarker object at 0x7fb991900e48>, <folium.vector_layers.CircleMarker object at 0x7fb991900e80>, <folium.vector_layers.CircleMarker object at 0x7fb991900eb8>, <folium.vector_layers.CircleMarker object at 0x7fb991900ef0>, <folium.vector_layers.CircleMarker object at 0x7fb991900f28>, <folium.vector_layers.CircleMarker object at 0x7fb991900f60>, <folium.vector_layers.CircleMarker object at 0x7fb991900f98>, <folium.vector_layers.CircleMarker object at 0x7fb991900fd0>, <folium.vector_layers.CircleMarker object at 0x7fb991900048>, <folium.vector_layers.CircleMarker object at 0x7fb99188d080>, <folium.vector_layers.CircleMarker object at 0x7fb99188d0b8>, <folium.vector_layers.CircleMarker object at 0x7fb99188d0f0>, <folium.vector_layers.CircleMarker object at 0x7fb99188d128>, <folium.vector_layers.CircleMarker object at 0x7fb99188d160>, <folium.vector_layers.CircleMarker object at 0x7fb99188d198>, <folium.vector_layers.CircleMarker object at 0x7fb99188d1d0>, <folium.vector_layers.CircleMarker object at 0x7fb99188d208>, <folium.vector_layers.CircleMarker object at 0x7fb99188d240>, <folium.vector_layers.CircleMarker object at 0x7fb99188d278>, <folium.vector_layers.CircleMarker object at 0x7fb99188d2b0>, <folium.vector_layers.CircleMarker object at 0x7fb99188d2e8>, <folium.vector_layers.CircleMarker object at 0x7fb99188d320>, <folium.vector_layers.CircleMarker object at 0x7fb99188d358>, <folium.vector_layers.CircleMarker object at 0x7fb99188d390>, <folium.vector_layers.CircleMarker object at 0x7fb99188d3c8>, <folium.vector_layers.CircleMarker object at 0x7fb99188d400>, <folium.vector_layers.CircleMarker object at 0x7fb99188d438>, <folium.vector_layers.CircleMarker object at 0x7fb99188d470>, <folium.vector_layers.CircleMarker object at 0x7fb99188d4a8>, <folium.vector_layers.CircleMarker object at 0x7fb99188d4e0>, <folium.vector_layers.CircleMarker object at 0x7fb99188d518>, <folium.vector_layers.CircleMarker object at 0x7fb99188d550>, <folium.vector_layers.CircleMarker object at 0x7fb99188d588>, <folium.vector_layers.CircleMarker object at 0x7fb99188d5c0>, <folium.vector_layers.CircleMarker object at 0x7fb99188d5f8>, <folium.vector_layers.CircleMarker object at 0x7fb99188d630>, <folium.vector_layers.CircleMarker object at 0x7fb99188d668>, <folium.vector_layers.CircleMarker object at 0x7fb99188d6a0>, <folium.vector_layers.CircleMarker object at 0x7fb99188d6d8>, <folium.vector_layers.CircleMarker object at 0x7fb99188d710>, <folium.vector_layers.CircleMarker object at 0x7fb99188d748>, <folium.vector_layers.CircleMarker object at 0x7fb99188d780>, <folium.vector_layers.CircleMarker object at 0x7fb99188d7b8>, <folium.vector_layers.CircleMarker object at 0x7fb99188d7f0>, <folium.vector_layers.CircleMarker object at 0x7fb99188d828>, <folium.vector_layers.CircleMarker object at 0x7fb99188d860>, <folium.vector_layers.CircleMarker object at 0x7fb99188d898>, <folium.vector_layers.CircleMarker object at 0x7fb99188d8d0>, <folium.vector_layers.CircleMarker object at 0x7fb99188d908>, <folium.vector_layers.CircleMarker object at 0x7fb99188d940>, <folium.vector_layers.CircleMarker object at 0x7fb99188d978>, <folium.vector_layers.CircleMarker object at 0x7fb99188d9b0>, <folium.vector_layers.CircleMarker object at 0x7fb99188d9e8>, <folium.vector_layers.CircleMarker object at 0x7fb99188da20>, <folium.vector_layers.CircleMarker object at 0x7fb99188da58>, <folium.vector_layers.CircleMarker object at 0x7fb99188da90>, <folium.vector_layers.CircleMarker object at 0x7fb99188dac8>, <folium.vector_layers.CircleMarker object at 0x7fb99188db00>, <folium.vector_layers.CircleMarker object at 0x7fb99188db38>, <folium.vector_layers.CircleMarker object at 0x7fb99188db70>, <folium.vector_layers.CircleMarker object at 0x7fb99188dba8>, <folium.vector_layers.CircleMarker object at 0x7fb99188dbe0>, <folium.vector_layers.CircleMarker object at 0x7fb99188dc18>, <folium.vector_layers.CircleMarker object at 0x7fb99188dc50>, <folium.vector_layers.CircleMarker object at 0x7fb99188dc88>, <folium.vector_layers.CircleMarker object at 0x7fb99188dcc0>, <folium.vector_layers.CircleMarker object at 0x7fb99188dcf8>, <folium.vector_layers.CircleMarker object at 0x7fb99188dd30>, <folium.vector_layers.CircleMarker object at 0x7fb99188dd68>, <folium.vector_layers.CircleMarker object at 0x7fb99188dda0>, <folium.vector_layers.CircleMarker object at 0x7fb99188ddd8>, <folium.vector_layers.CircleMarker object at 0x7fb99188de10>, <folium.vector_layers.CircleMarker object at 0x7fb99188de48>, <folium.vector_layers.CircleMarker object at 0x7fb99188de80>, <folium.vector_layers.CircleMarker object at 0x7fb99188deb8>, <folium.vector_layers.CircleMarker object at 0x7fb99188def0>, <folium.vector_layers.CircleMarker object at 0x7fb99188df28>, <folium.vector_layers.CircleMarker object at 0x7fb99188df60>, <folium.vector_layers.CircleMarker object at 0x7fb99188df98>, <folium.vector_layers.CircleMarker object at 0x7fb99188dfd0>, <folium.vector_layers.CircleMarker object at 0x7fb99188d048>, <folium.vector_layers.CircleMarker object at 0x7fb99189b080>, <folium.vector_layers.CircleMarker object at 0x7fb99189b0b8>, <folium.vector_layers.CircleMarker object at 0x7fb99189b0f0>, <folium.vector_layers.CircleMarker object at 0x7fb99189b128>, <folium.vector_layers.CircleMarker object at 0x7fb99189b160>, <folium.vector_layers.CircleMarker object at 0x7fb99189b198>, <folium.vector_layers.CircleMarker object at 0x7fb99189b1d0>, <folium.vector_layers.CircleMarker object at 0x7fb99189b208>, <folium.vector_layers.CircleMarker object at 0x7fb99189b240>, <folium.vector_layers.CircleMarker object at 0x7fb99189b278>, <folium.vector_layers.CircleMarker object at 0x7fb99189b2b0>, <folium.vector_layers.CircleMarker object at 0x7fb99189b2e8>, <folium.vector_layers.CircleMarker object at 0x7fb99189b320>, <folium.vector_layers.CircleMarker object at 0x7fb99189b358>, <folium.vector_layers.CircleMarker object at 0x7fb99189b390>, <folium.vector_layers.CircleMarker object at 0x7fb99189b3c8>, <folium.vector_layers.CircleMarker object at 0x7fb99189b400>, <folium.vector_layers.CircleMarker object at 0x7fb99189b438>, <folium.vector_layers.CircleMarker object at 0x7fb99189b470>, <folium.vector_layers.CircleMarker object at 0x7fb99189b4a8>, <folium.vector_layers.CircleMarker object at 0x7fb99189b4e0>, <folium.vector_layers.CircleMarker object at 0x7fb99189b518>, <folium.vector_layers.CircleMarker object at 0x7fb99189b550>, <folium.vector_layers.CircleMarker object at 0x7fb99189b588>, <folium.vector_layers.CircleMarker object at 0x7fb99189b5c0>, <folium.vector_layers.CircleMarker object at 0x7fb99189b5f8>, <folium.vector_layers.CircleMarker object at 0x7fb99189b630>, <folium.vector_layers.CircleMarker object at 0x7fb99189b668>, <folium.vector_layers.CircleMarker object at 0x7fb99189b6a0>, <folium.vector_layers.CircleMarker object at 0x7fb99189b6d8>, <folium.vector_layers.CircleMarker object at 0x7fb99189b710>, <folium.vector_layers.CircleMarker object at 0x7fb99189b748>, <folium.vector_layers.CircleMarker object at 0x7fb99189b780>, <folium.vector_layers.CircleMarker object at 0x7fb99189b7b8>, <folium.vector_layers.CircleMarker object at 0x7fb99189b7f0>, <folium.vector_layers.CircleMarker object at 0x7fb99189b828>, <folium.vector_layers.CircleMarker object at 0x7fb99189b860>, <folium.vector_layers.CircleMarker object at 0x7fb99189b898>, <folium.vector_layers.CircleMarker object at 0x7fb99189b8d0>, <folium.vector_layers.CircleMarker object at 0x7fb99189b908>, <folium.vector_layers.CircleMarker object at 0x7fb99189b940>, <folium.vector_layers.CircleMarker object at 0x7fb99189b978>, <folium.vector_layers.CircleMarker object at 0x7fb99189b9b0>, <folium.vector_layers.CircleMarker object at 0x7fb99189b9e8>, <folium.vector_layers.CircleMarker object at 0x7fb99189ba20>, <folium.vector_layers.CircleMarker object at 0x7fb99189ba58>, <folium.vector_layers.CircleMarker object at 0x7fb99189ba90>, <folium.vector_layers.CircleMarker object at 0x7fb99189bac8>, <folium.vector_layers.CircleMarker object at 0x7fb99189bb00>, <folium.vector_layers.CircleMarker object at 0x7fb99189bb38>, <folium.vector_layers.CircleMarker object at 0x7fb99189bb70>, <folium.vector_layers.CircleMarker object at 0x7fb99189bba8>, <folium.vector_layers.CircleMarker object at 0x7fb99189bbe0>, <folium.vector_layers.CircleMarker object at 0x7fb99189bc18>, <folium.vector_layers.CircleMarker object at 0x7fb99189bc50>, <folium.vector_layers.CircleMarker object at 0x7fb99189bc88>, <folium.vector_layers.CircleMarker object at 0x7fb99189bcc0>, <folium.vector_layers.CircleMarker object at 0x7fb99189bcf8>, <folium.vector_layers.CircleMarker object at 0x7fb99189bd30>, <folium.vector_layers.CircleMarker object at 0x7fb99189bd68>, <folium.vector_layers.CircleMarker object at 0x7fb99189bda0>, <folium.vector_layers.CircleMarker object at 0x7fb99189bdd8>, <folium.vector_layers.CircleMarker object at 0x7fb99189be10>, <folium.vector_layers.CircleMarker object at 0x7fb99189be48>, <folium.vector_layers.CircleMarker object at 0x7fb99189be80>, <folium.vector_layers.CircleMarker object at 0x7fb99189beb8>, <folium.vector_layers.CircleMarker object at 0x7fb99189bef0>, <folium.vector_layers.CircleMarker object at 0x7fb99189bf28>, <folium.vector_layers.CircleMarker object at 0x7fb99189bf60>, <folium.vector_layers.CircleMarker object at 0x7fb99189bf98>, <folium.vector_layers.CircleMarker object at 0x7fb99189bfd0>, <folium.vector_layers.CircleMarker object at 0x7fb99189b048>, <folium.vector_layers.CircleMarker object at 0x7fb9918a9080>, <folium.vector_layers.CircleMarker object at 0x7fb9918a90b8>, <folium.vector_layers.CircleMarker object at 0x7fb9918a90f0>, <folium.vector_layers.CircleMarker object at 0x7fb9918a9128>, <folium.vector_layers.CircleMarker object at 0x7fb9918a9160>, <folium.vector_layers.CircleMarker object at 0x7fb9918a9198>, <folium.vector_layers.CircleMarker object at 0x7fb9918a91d0>, <folium.vector_layers.CircleMarker object at 0x7fb9918a9208>, <folium.vector_layers.CircleMarker object at 0x7fb9918a9240>, <folium.vector_layers.CircleMarker object at 0x7fb9918a9278>, <folium.vector_layers.CircleMarker object at 0x7fb9918a92b0>, <folium.vector_layers.CircleMarker object at 0x7fb9918a92e8>, <folium.vector_layers.CircleMarker object at 0x7fb9918a9320>, <folium.vector_layers.CircleMarker object at 0x7fb9918a9358>, <folium.vector_layers.CircleMarker object at 0x7fb9918a9390>, <folium.vector_layers.CircleMarker object at 0x7fb9918a93c8>, <folium.vector_layers.CircleMarker object at 0x7fb9918a9400>, <folium.vector_layers.CircleMarker object at 0x7fb9918a9438>, <folium.vector_layers.CircleMarker object at 0x7fb9918a9470>, <folium.vector_layers.CircleMarker object at 0x7fb9918a94a8>, <folium.vector_layers.CircleMarker object at 0x7fb9918a94e0>, <folium.vector_layers.CircleMarker object at 0x7fb9918a9518>, <folium.vector_layers.CircleMarker object at 0x7fb9918a9550>, <folium.vector_layers.CircleMarker object at 0x7fb9918a9588>, <folium.vector_layers.CircleMarker object at 0x7fb9918a95c0>, <folium.vector_layers.CircleMarker object at 0x7fb9918a95f8>, <folium.vector_layers.CircleMarker object at 0x7fb9918a9630>, <folium.vector_layers.CircleMarker object at 0x7fb9918a9668>, <folium.vector_layers.CircleMarker object at 0x7fb9918a96a0>, <folium.vector_layers.CircleMarker object at 0x7fb9918a96d8>, <folium.vector_layers.CircleMarker object at 0x7fb9918a9710>, <folium.vector_layers.CircleMarker object at 0x7fb9918a9748>, <folium.vector_layers.CircleMarker object at 0x7fb9918a9780>, <folium.vector_layers.CircleMarker object at 0x7fb9918a97b8>, <folium.vector_layers.CircleMarker object at 0x7fb9918a97f0>, <folium.vector_layers.CircleMarker object at 0x7fb9918a9828>, <folium.vector_layers.CircleMarker object at 0x7fb9918a9860>, <folium.vector_layers.CircleMarker object at 0x7fb9918a9898>, <folium.vector_layers.CircleMarker object at 0x7fb9918a98d0>, <folium.vector_layers.CircleMarker object at 0x7fb9918a9908>, <folium.vector_layers.CircleMarker object at 0x7fb9918a9940>, <folium.vector_layers.CircleMarker object at 0x7fb9918a9978>, <folium.vector_layers.CircleMarker object at 0x7fb9918a99b0>, <folium.vector_layers.CircleMarker object at 0x7fb9918a99e8>, <folium.vector_layers.CircleMarker object at 0x7fb9918a9a20>, <folium.vector_layers.CircleMarker object at 0x7fb9918a9a58>, <folium.vector_layers.CircleMarker object at 0x7fb9918a9a90>, <folium.vector_layers.CircleMarker object at 0x7fb9918a9ac8>, <folium.vector_layers.CircleMarker object at 0x7fb9918a9b00>, <folium.vector_layers.CircleMarker object at 0x7fb9918a9b38>, <folium.vector_layers.CircleMarker object at 0x7fb9918a9b70>, <folium.vector_layers.CircleMarker object at 0x7fb9918a9ba8>, <folium.vector_layers.CircleMarker object at 0x7fb9918a9be0>, <folium.vector_layers.CircleMarker object at 0x7fb9918a9c18>, <folium.vector_layers.CircleMarker object at 0x7fb9918a9c50>, <folium.vector_layers.CircleMarker object at 0x7fb9918a9c88>, <folium.vector_layers.CircleMarker object at 0x7fb9918a9cc0>, <folium.vector_layers.CircleMarker object at 0x7fb9918a9cf8>, <folium.vector_layers.CircleMarker object at 0x7fb9918a9d30>, <folium.vector_layers.CircleMarker object at 0x7fb9918a9d68>, <folium.vector_layers.CircleMarker object at 0x7fb9918a9da0>, <folium.vector_layers.CircleMarker object at 0x7fb9918a9dd8>, <folium.vector_layers.CircleMarker object at 0x7fb9918a9e10>, <folium.vector_layers.CircleMarker object at 0x7fb9918a9e48>, <folium.vector_layers.CircleMarker object at 0x7fb9918a9e80>, <folium.vector_layers.CircleMarker object at 0x7fb9918a9eb8>, <folium.vector_layers.CircleMarker object at 0x7fb9918a9ef0>, <folium.vector_layers.CircleMarker object at 0x7fb9918a9f28>, <folium.vector_layers.CircleMarker object at 0x7fb9918a9f60>, <folium.vector_layers.CircleMarker object at 0x7fb9918a9f98>, <folium.vector_layers.CircleMarker object at 0x7fb9918a9fd0>, <folium.vector_layers.CircleMarker object at 0x7fb9918a9048>, <folium.vector_layers.CircleMarker object at 0x7fb9918b7048>, <folium.vector_layers.CircleMarker object at 0x7fb9918b70b8>, <folium.vector_layers.CircleMarker object at 0x7fb9918b70f0>, <folium.vector_layers.CircleMarker object at 0x7fb9918b7128>, <folium.vector_layers.CircleMarker object at 0x7fb9918b7160>, <folium.vector_layers.CircleMarker object at 0x7fb9918b7198>, <folium.vector_layers.CircleMarker object at 0x7fb9918b71d0>, <folium.vector_layers.CircleMarker object at 0x7fb9918b7208>, <folium.vector_layers.CircleMarker object at 0x7fb9918b7240>, <folium.vector_layers.CircleMarker object at 0x7fb9918b7278>, <folium.vector_layers.CircleMarker object at 0x7fb9918b72b0>, <folium.vector_layers.CircleMarker object at 0x7fb9918b72e8>, <folium.vector_layers.CircleMarker object at 0x7fb9918b7320>, <folium.vector_layers.CircleMarker object at 0x7fb9918b7358>, <folium.vector_layers.CircleMarker object at 0x7fb9918b7390>, <folium.vector_layers.CircleMarker object at 0x7fb9918b73c8>, <folium.vector_layers.CircleMarker object at 0x7fb9918b7400>, <folium.vector_layers.CircleMarker object at 0x7fb9918b7438>, <folium.vector_layers.CircleMarker object at 0x7fb9918b7470>, <folium.vector_layers.CircleMarker object at 0x7fb9918b74a8>, <folium.vector_layers.CircleMarker object at 0x7fb9918b74e0>, <folium.vector_layers.CircleMarker object at 0x7fb9918b7518>, <folium.vector_layers.CircleMarker object at 0x7fb9918b7550>, <folium.vector_layers.CircleMarker object at 0x7fb9918b7588>, <folium.vector_layers.CircleMarker object at 0x7fb9918b75c0>, <folium.vector_layers.CircleMarker object at 0x7fb9918b75f8>, <folium.vector_layers.CircleMarker object at 0x7fb9918b7630>, <folium.vector_layers.CircleMarker object at 0x7fb9918b7668>, <folium.vector_layers.CircleMarker object at 0x7fb9918b76a0>, <folium.vector_layers.CircleMarker object at 0x7fb9918b76d8>, <folium.vector_layers.CircleMarker object at 0x7fb9918b7710>, <folium.vector_layers.CircleMarker object at 0x7fb9918b7748>, <folium.vector_layers.CircleMarker object at 0x7fb9918b7780>, <folium.vector_layers.CircleMarker object at 0x7fb9918b77b8>, <folium.vector_layers.CircleMarker object at 0x7fb9918b77f0>, <folium.vector_layers.CircleMarker object at 0x7fb9918b7828>, <folium.vector_layers.CircleMarker object at 0x7fb9918b7860>, <folium.vector_layers.CircleMarker object at 0x7fb9918b7898>, <folium.vector_layers.CircleMarker object at 0x7fb9918b78d0>, <folium.vector_layers.CircleMarker object at 0x7fb9918b7908>, <folium.vector_layers.CircleMarker object at 0x7fb9918b7940>, <folium.vector_layers.CircleMarker object at 0x7fb9918b7978>, <folium.vector_layers.CircleMarker object at 0x7fb9918b79b0>, <folium.vector_layers.CircleMarker object at 0x7fb9918b79e8>, <folium.vector_layers.CircleMarker object at 0x7fb9918b7a20>, <folium.vector_layers.CircleMarker object at 0x7fb9918b7a58>, <folium.vector_layers.CircleMarker object at 0x7fb9918b7a90>, <folium.vector_layers.CircleMarker object at 0x7fb9918b7ac8>, <folium.vector_layers.CircleMarker object at 0x7fb9918b7b00>, <folium.vector_layers.CircleMarker object at 0x7fb9918b7b38>, <folium.vector_layers.CircleMarker object at 0x7fb9918b7b70>, <folium.vector_layers.CircleMarker object at 0x7fb9918b7ba8>, <folium.vector_layers.CircleMarker object at 0x7fb9918b7be0>, <folium.vector_layers.CircleMarker object at 0x7fb9918b7c18>, <folium.vector_layers.CircleMarker object at 0x7fb9918b7c50>, <folium.vector_layers.CircleMarker object at 0x7fb9918b7c88>, <folium.vector_layers.CircleMarker object at 0x7fb9918b7cc0>, <folium.vector_layers.CircleMarker object at 0x7fb9918b7cf8>, <folium.vector_layers.CircleMarker object at 0x7fb9918b7d30>, <folium.vector_layers.CircleMarker object at 0x7fb9918b7d68>, <folium.vector_layers.CircleMarker object at 0x7fb9918b7da0>, <folium.vector_layers.CircleMarker object at 0x7fb9918b7dd8>, <folium.vector_layers.CircleMarker object at 0x7fb9918b7e10>, <folium.vector_layers.CircleMarker object at 0x7fb9918b7e48>, <folium.vector_layers.CircleMarker object at 0x7fb9918b7e80>, <folium.vector_layers.CircleMarker object at 0x7fb9918b7eb8>, <folium.vector_layers.CircleMarker object at 0x7fb9918b7ef0>, <folium.vector_layers.CircleMarker object at 0x7fb9918b7f28>, <folium.vector_layers.CircleMarker object at 0x7fb9918b7f60>, <folium.vector_layers.CircleMarker object at 0x7fb9918b7f98>, <folium.vector_layers.CircleMarker object at 0x7fb9918b7fd0>, <folium.vector_layers.CircleMarker object at 0x7fb9918b7080>, <folium.vector_layers.CircleMarker object at 0x7fb9918c6080>, <folium.vector_layers.CircleMarker object at 0x7fb9918c60b8>, <folium.vector_layers.CircleMarker object at 0x7fb9918c60f0>, <folium.vector_layers.CircleMarker object at 0x7fb9918c6128>, <folium.vector_layers.CircleMarker object at 0x7fb9918c6160>, <folium.vector_layers.CircleMarker object at 0x7fb9918c6198>, <folium.vector_layers.CircleMarker object at 0x7fb9918c61d0>, <folium.vector_layers.CircleMarker object at 0x7fb9918c6208>, <folium.vector_layers.CircleMarker object at 0x7fb9918c6240>, <folium.vector_layers.CircleMarker object at 0x7fb9918c6278>, <folium.vector_layers.CircleMarker object at 0x7fb9918c62b0>, <folium.vector_layers.CircleMarker object at 0x7fb9918c62e8>, <folium.vector_layers.CircleMarker object at 0x7fb9918c6320>, <folium.vector_layers.CircleMarker object at 0x7fb9918c6358>, <folium.vector_layers.CircleMarker object at 0x7fb9918c6390>, <folium.vector_layers.CircleMarker object at 0x7fb9918c63c8>, <folium.vector_layers.CircleMarker object at 0x7fb9918c6400>, <folium.vector_layers.CircleMarker object at 0x7fb9918c6438>, <folium.vector_layers.CircleMarker object at 0x7fb9918c6470>, <folium.vector_layers.CircleMarker object at 0x7fb9918c64a8>, <folium.vector_layers.CircleMarker object at 0x7fb9918c64e0>, <folium.vector_layers.CircleMarker object at 0x7fb9918c6518>, <folium.vector_layers.CircleMarker object at 0x7fb9918c6550>, <folium.vector_layers.CircleMarker object at 0x7fb9918c6588>, <folium.vector_layers.CircleMarker object at 0x7fb9918c65c0>, <folium.vector_layers.CircleMarker object at 0x7fb9918c65f8>, <folium.vector_layers.CircleMarker object at 0x7fb9918c6630>, <folium.vector_layers.CircleMarker object at 0x7fb9918c6668>, <folium.vector_layers.CircleMarker object at 0x7fb9918c66a0>, <folium.vector_layers.CircleMarker object at 0x7fb9918c66d8>, <folium.vector_layers.CircleMarker object at 0x7fb9918c6710>, <folium.vector_layers.CircleMarker object at 0x7fb9918c6748>, <folium.vector_layers.CircleMarker object at 0x7fb9918c6780>, <folium.vector_layers.CircleMarker object at 0x7fb9918c67b8>, <folium.vector_layers.CircleMarker object at 0x7fb9918c67f0>, <folium.vector_layers.CircleMarker object at 0x7fb9918c6828>, <folium.vector_layers.CircleMarker object at 0x7fb9918c6860>, <folium.vector_layers.CircleMarker object at 0x7fb9918c6898>, <folium.vector_layers.CircleMarker object at 0x7fb9918c68d0>, <folium.vector_layers.CircleMarker object at 0x7fb9918c6908>, <folium.vector_layers.CircleMarker object at 0x7fb9918c6940>, <folium.vector_layers.CircleMarker object at 0x7fb9918c6978>, <folium.vector_layers.CircleMarker object at 0x7fb9918c69b0>, <folium.vector_layers.CircleMarker object at 0x7fb9918c69e8>, <folium.vector_layers.CircleMarker object at 0x7fb9918c6a20>, <folium.vector_layers.CircleMarker object at 0x7fb9918c6a58>, <folium.vector_layers.CircleMarker object at 0x7fb9918c6a90>, <folium.vector_layers.CircleMarker object at 0x7fb9918c6ac8>, <folium.vector_layers.CircleMarker object at 0x7fb9918c6b00>, <folium.vector_layers.CircleMarker object at 0x7fb9918c6b38>, <folium.vector_layers.CircleMarker object at 0x7fb9918c6b70>, <folium.vector_layers.CircleMarker object at 0x7fb9918c6ba8>, <folium.vector_layers.CircleMarker object at 0x7fb9918c6be0>, <folium.vector_layers.CircleMarker object at 0x7fb9918c6c18>, <folium.vector_layers.CircleMarker object at 0x7fb9918c6c50>, <folium.vector_layers.CircleMarker object at 0x7fb9918c6c88>, <folium.vector_layers.CircleMarker object at 0x7fb9918c6cc0>, <folium.vector_layers.CircleMarker object at 0x7fb9918c6cf8>, <folium.vector_layers.CircleMarker object at 0x7fb9918c6d30>, <folium.vector_layers.CircleMarker object at 0x7fb9918c6d68>, <folium.vector_layers.CircleMarker object at 0x7fb9918c6da0>, <folium.vector_layers.CircleMarker object at 0x7fb9918c6dd8>, <folium.vector_layers.CircleMarker object at 0x7fb9918c6e10>, <folium.vector_layers.CircleMarker object at 0x7fb9918c6e48>, <folium.vector_layers.CircleMarker object at 0x7fb9918c6e80>, <folium.vector_layers.CircleMarker object at 0x7fb9918c6eb8>, <folium.vector_layers.CircleMarker object at 0x7fb9918c6ef0>, <folium.vector_layers.CircleMarker object at 0x7fb9918c6f28>, <folium.vector_layers.CircleMarker object at 0x7fb9918c6f60>, <folium.vector_layers.CircleMarker object at 0x7fb9918c6f98>, <folium.vector_layers.CircleMarker object at 0x7fb9918c6fd0>, <folium.vector_layers.CircleMarker object at 0x7fb9918c6048>, <folium.vector_layers.CircleMarker object at 0x7fb991852080>, <folium.vector_layers.CircleMarker object at 0x7fb9918520b8>, <folium.vector_layers.CircleMarker object at 0x7fb9918520f0>, <folium.vector_layers.CircleMarker object at 0x7fb991852128>, <folium.vector_layers.CircleMarker object at 0x7fb991852160>, <folium.vector_layers.CircleMarker object at 0x7fb991852198>, <folium.vector_layers.CircleMarker object at 0x7fb9918521d0>, <folium.vector_layers.CircleMarker object at 0x7fb991852208>, <folium.vector_layers.CircleMarker object at 0x7fb991852240>, <folium.vector_layers.CircleMarker object at 0x7fb991852278>, <folium.vector_layers.CircleMarker object at 0x7fb9918522b0>, <folium.vector_layers.CircleMarker object at 0x7fb9918522e8>, <folium.vector_layers.CircleMarker object at 0x7fb991852320>, <folium.vector_layers.CircleMarker object at 0x7fb991852358>, <folium.vector_layers.CircleMarker object at 0x7fb991852390>, <folium.vector_layers.CircleMarker object at 0x7fb9918523c8>, <folium.vector_layers.CircleMarker object at 0x7fb991852400>, <folium.vector_layers.CircleMarker object at 0x7fb991852438>, <folium.vector_layers.CircleMarker object at 0x7fb991852470>, <folium.vector_layers.CircleMarker object at 0x7fb9918524a8>, <folium.vector_layers.CircleMarker object at 0x7fb9918524e0>, <folium.vector_layers.CircleMarker object at 0x7fb991852518>, <folium.vector_layers.CircleMarker object at 0x7fb991852550>, <folium.vector_layers.CircleMarker object at 0x7fb991852588>, <folium.vector_layers.CircleMarker object at 0x7fb9918525c0>, <folium.vector_layers.CircleMarker object at 0x7fb9918525f8>, <folium.vector_layers.CircleMarker object at 0x7fb991852630>, <folium.vector_layers.CircleMarker object at 0x7fb991852668>, <folium.vector_layers.CircleMarker object at 0x7fb9918526a0>, <folium.vector_layers.CircleMarker object at 0x7fb9918526d8>, <folium.vector_layers.CircleMarker object at 0x7fb991852710>, <folium.vector_layers.CircleMarker object at 0x7fb991852748>, <folium.vector_layers.CircleMarker object at 0x7fb991852780>, <folium.vector_layers.CircleMarker object at 0x7fb9918527b8>, <folium.vector_layers.CircleMarker object at 0x7fb9918527f0>, <folium.vector_layers.CircleMarker object at 0x7fb991852828>, <folium.vector_layers.CircleMarker object at 0x7fb991852860>, <folium.vector_layers.CircleMarker object at 0x7fb991852898>, <folium.vector_layers.CircleMarker object at 0x7fb9918528d0>, <folium.vector_layers.CircleMarker object at 0x7fb991852908>, <folium.vector_layers.CircleMarker object at 0x7fb991852940>, <folium.vector_layers.CircleMarker object at 0x7fb991852978>, <folium.vector_layers.CircleMarker object at 0x7fb9918529b0>, <folium.vector_layers.CircleMarker object at 0x7fb9918529e8>, <folium.vector_layers.CircleMarker object at 0x7fb991852a20>, <folium.vector_layers.CircleMarker object at 0x7fb991852a58>, <folium.vector_layers.CircleMarker object at 0x7fb991852a90>, <folium.vector_layers.CircleMarker object at 0x7fb991852ac8>, <folium.vector_layers.CircleMarker object at 0x7fb991852b00>, <folium.vector_layers.CircleMarker object at 0x7fb991852b38>, <folium.vector_layers.CircleMarker object at 0x7fb991852b70>, <folium.vector_layers.CircleMarker object at 0x7fb991852ba8>, <folium.vector_layers.CircleMarker object at 0x7fb991852be0>, <folium.vector_layers.CircleMarker object at 0x7fb991852c18>, <folium.vector_layers.CircleMarker object at 0x7fb991852c50>, <folium.vector_layers.CircleMarker object at 0x7fb991852c88>, <folium.vector_layers.CircleMarker object at 0x7fb991852cc0>, <folium.vector_layers.CircleMarker object at 0x7fb991852cf8>, <folium.vector_layers.CircleMarker object at 0x7fb991852d30>, <folium.vector_layers.CircleMarker object at 0x7fb991852d68>, <folium.vector_layers.CircleMarker object at 0x7fb991852da0>, <folium.vector_layers.CircleMarker object at 0x7fb991852dd8>, <folium.vector_layers.CircleMarker object at 0x7fb991852e10>, <folium.vector_layers.CircleMarker object at 0x7fb991852e48>, <folium.vector_layers.CircleMarker object at 0x7fb991852e80>, <folium.vector_layers.CircleMarker object at 0x7fb991852eb8>, <folium.vector_layers.CircleMarker object at 0x7fb991852ef0>, <folium.vector_layers.CircleMarker object at 0x7fb991852f28>, <folium.vector_layers.CircleMarker object at 0x7fb991852f60>, <folium.vector_layers.CircleMarker object at 0x7fb991852f98>, <folium.vector_layers.CircleMarker object at 0x7fb991852fd0>, <folium.vector_layers.CircleMarker object at 0x7fb991852048>, <folium.vector_layers.CircleMarker object at 0x7fb991861080>, <folium.vector_layers.CircleMarker object at 0x7fb9918610b8>, <folium.vector_layers.CircleMarker object at 0x7fb9918610f0>, <folium.vector_layers.CircleMarker object at 0x7fb991861128>, <folium.vector_layers.CircleMarker object at 0x7fb991861160>, <folium.vector_layers.CircleMarker object at 0x7fb991861198>, <folium.vector_layers.CircleMarker object at 0x7fb9918611d0>, <folium.vector_layers.CircleMarker object at 0x7fb991861208>, <folium.vector_layers.CircleMarker object at 0x7fb991861240>, <folium.vector_layers.CircleMarker object at 0x7fb991861278>, <folium.vector_layers.CircleMarker object at 0x7fb9918612b0>, <folium.vector_layers.CircleMarker object at 0x7fb9918612e8>, <folium.vector_layers.CircleMarker object at 0x7fb991861320>, <folium.vector_layers.CircleMarker object at 0x7fb991861358>, <folium.vector_layers.CircleMarker object at 0x7fb991861390>, <folium.vector_layers.CircleMarker object at 0x7fb9918613c8>, <folium.vector_layers.CircleMarker object at 0x7fb991861400>, <folium.vector_layers.CircleMarker object at 0x7fb991861438>, <folium.vector_layers.CircleMarker object at 0x7fb991861470>, <folium.vector_layers.CircleMarker object at 0x7fb9918614a8>, <folium.vector_layers.CircleMarker object at 0x7fb9918614e0>, <folium.vector_layers.CircleMarker object at 0x7fb991861518>, <folium.vector_layers.CircleMarker object at 0x7fb991861550>, <folium.vector_layers.CircleMarker object at 0x7fb991861588>, <folium.vector_layers.CircleMarker object at 0x7fb9918615c0>, <folium.vector_layers.CircleMarker object at 0x7fb9918615f8>, <folium.vector_layers.CircleMarker object at 0x7fb991861630>, <folium.vector_layers.CircleMarker object at 0x7fb991861668>, <folium.vector_layers.CircleMarker object at 0x7fb9918616a0>, <folium.vector_layers.CircleMarker object at 0x7fb9918616d8>, <folium.vector_layers.CircleMarker object at 0x7fb991861710>, <folium.vector_layers.CircleMarker object at 0x7fb991861748>, <folium.vector_layers.CircleMarker object at 0x7fb991861780>, <folium.vector_layers.CircleMarker object at 0x7fb9918617b8>, <folium.vector_layers.CircleMarker object at 0x7fb9918617f0>, <folium.vector_layers.CircleMarker object at 0x7fb991861828>, <folium.vector_layers.CircleMarker object at 0x7fb991861860>, <folium.vector_layers.CircleMarker object at 0x7fb991861898>, <folium.vector_layers.CircleMarker object at 0x7fb9918618d0>, <folium.vector_layers.CircleMarker object at 0x7fb991861908>, <folium.vector_layers.CircleMarker object at 0x7fb991861940>, <folium.vector_layers.CircleMarker object at 0x7fb991861978>, <folium.vector_layers.CircleMarker object at 0x7fb9918619b0>, <folium.vector_layers.CircleMarker object at 0x7fb9918619e8>, <folium.vector_layers.CircleMarker object at 0x7fb991861a20>, <folium.vector_layers.CircleMarker object at 0x7fb991861a58>, <folium.vector_layers.CircleMarker object at 0x7fb991861a90>, <folium.vector_layers.CircleMarker object at 0x7fb991861ac8>, <folium.vector_layers.CircleMarker object at 0x7fb991861b00>, <folium.vector_layers.CircleMarker object at 0x7fb991861b38>, <folium.vector_layers.CircleMarker object at 0x7fb991861b70>, <folium.vector_layers.CircleMarker object at 0x7fb991861ba8>, <folium.vector_layers.CircleMarker object at 0x7fb991861be0>, <folium.vector_layers.CircleMarker object at 0x7fb991861c18>, <folium.vector_layers.CircleMarker object at 0x7fb991861c50>, <folium.vector_layers.CircleMarker object at 0x7fb991861c88>, <folium.vector_layers.CircleMarker object at 0x7fb991861cc0>, <folium.vector_layers.CircleMarker object at 0x7fb991861cf8>, <folium.vector_layers.CircleMarker object at 0x7fb991861d30>, <folium.vector_layers.CircleMarker object at 0x7fb991861d68>, <folium.vector_layers.CircleMarker object at 0x7fb991861da0>, <folium.vector_layers.CircleMarker object at 0x7fb991861dd8>, <folium.vector_layers.CircleMarker object at 0x7fb991861e10>, <folium.vector_layers.CircleMarker object at 0x7fb991861e48>, <folium.vector_layers.CircleMarker object at 0x7fb991861e80>, <folium.vector_layers.CircleMarker object at 0x7fb991861eb8>, <folium.vector_layers.CircleMarker object at 0x7fb991861ef0>, <folium.vector_layers.CircleMarker object at 0x7fb991861f28>, <folium.vector_layers.CircleMarker object at 0x7fb991861f60>, <folium.vector_layers.CircleMarker object at 0x7fb991861f98>, <folium.vector_layers.CircleMarker object at 0x7fb991861fd0>, <folium.vector_layers.CircleMarker object at 0x7fb991861048>, <folium.vector_layers.CircleMarker object at 0x7fb99186d080>, <folium.vector_layers.CircleMarker object at 0x7fb99186d0b8>, <folium.vector_layers.CircleMarker object at 0x7fb99186d0f0>, <folium.vector_layers.CircleMarker object at 0x7fb99186d128>, <folium.vector_layers.CircleMarker object at 0x7fb99186d160>, <folium.vector_layers.CircleMarker object at 0x7fb99186d198>, <folium.vector_layers.CircleMarker object at 0x7fb99186d1d0>, <folium.vector_layers.CircleMarker object at 0x7fb99186d208>, <folium.vector_layers.CircleMarker object at 0x7fb99186d240>, <folium.vector_layers.CircleMarker object at 0x7fb99186d278>, <folium.vector_layers.CircleMarker object at 0x7fb99186d2b0>, <folium.vector_layers.CircleMarker object at 0x7fb99186d2e8>, <folium.vector_layers.CircleMarker object at 0x7fb99186d320>, <folium.vector_layers.CircleMarker object at 0x7fb99186d358>, <folium.vector_layers.CircleMarker object at 0x7fb99186d390>, <folium.vector_layers.CircleMarker object at 0x7fb99186d3c8>, <folium.vector_layers.CircleMarker object at 0x7fb99186d400>, <folium.vector_layers.CircleMarker object at 0x7fb99186d438>, <folium.vector_layers.CircleMarker object at 0x7fb99186d470>, <folium.vector_layers.CircleMarker object at 0x7fb99186d4a8>, <folium.vector_layers.CircleMarker object at 0x7fb99186d4e0>, <folium.vector_layers.CircleMarker object at 0x7fb99186d518>, <folium.vector_layers.CircleMarker object at 0x7fb99186d550>, <folium.vector_layers.CircleMarker object at 0x7fb99186d588>, <folium.vector_layers.CircleMarker object at 0x7fb99186d5c0>, <folium.vector_layers.CircleMarker object at 0x7fb99186d5f8>, <folium.vector_layers.CircleMarker object at 0x7fb99186d630>, <folium.vector_layers.CircleMarker object at 0x7fb99186d668>, <folium.vector_layers.CircleMarker object at 0x7fb99186d6a0>, <folium.vector_layers.CircleMarker object at 0x7fb99186d6d8>, <folium.vector_layers.CircleMarker object at 0x7fb99186d710>, <folium.vector_layers.CircleMarker object at 0x7fb99186d748>, <folium.vector_layers.CircleMarker object at 0x7fb99186d780>, <folium.vector_layers.CircleMarker object at 0x7fb99186d7b8>, <folium.vector_layers.CircleMarker object at 0x7fb99186d7f0>, <folium.vector_layers.CircleMarker object at 0x7fb99186d828>, <folium.vector_layers.CircleMarker object at 0x7fb99186d860>, <folium.vector_layers.CircleMarker object at 0x7fb99186d898>, <folium.vector_layers.CircleMarker object at 0x7fb99186d8d0>, <folium.vector_layers.CircleMarker object at 0x7fb99186d908>, <folium.vector_layers.CircleMarker object at 0x7fb99186d940>, <folium.vector_layers.CircleMarker object at 0x7fb99186d978>, <folium.vector_layers.CircleMarker object at 0x7fb99186d9b0>, <folium.vector_layers.CircleMarker object at 0x7fb99186d9e8>, <folium.vector_layers.CircleMarker object at 0x7fb99186da20>, <folium.vector_layers.CircleMarker object at 0x7fb99186da58>, <folium.vector_layers.CircleMarker object at 0x7fb99186da90>, <folium.vector_layers.CircleMarker object at 0x7fb99186dac8>, <folium.vector_layers.CircleMarker object at 0x7fb99186db00>, <folium.vector_layers.CircleMarker object at 0x7fb99186db38>, <folium.vector_layers.CircleMarker object at 0x7fb99186db70>, <folium.vector_layers.CircleMarker object at 0x7fb99186dba8>, <folium.vector_layers.CircleMarker object at 0x7fb99186dbe0>, <folium.vector_layers.CircleMarker object at 0x7fb99186dc18>, <folium.vector_layers.CircleMarker object at 0x7fb99186dc50>, <folium.vector_layers.CircleMarker object at 0x7fb99186dc88>, <folium.vector_layers.CircleMarker object at 0x7fb99186dcc0>, <folium.vector_layers.CircleMarker object at 0x7fb99186dcf8>, <folium.vector_layers.CircleMarker object at 0x7fb99186dd30>, <folium.vector_layers.CircleMarker object at 0x7fb99186dd68>, <folium.vector_layers.CircleMarker object at 0x7fb99186dda0>, <folium.vector_layers.CircleMarker object at 0x7fb99186ddd8>, <folium.vector_layers.CircleMarker object at 0x7fb99186de10>, <folium.vector_layers.CircleMarker object at 0x7fb99186de48>, <folium.vector_layers.CircleMarker object at 0x7fb99186de80>, <folium.vector_layers.CircleMarker object at 0x7fb99186deb8>, <folium.vector_layers.CircleMarker object at 0x7fb99186def0>, <folium.vector_layers.CircleMarker object at 0x7fb99186df28>, <folium.vector_layers.CircleMarker object at 0x7fb99186df60>, <folium.vector_layers.CircleMarker object at 0x7fb99186df98>, <folium.vector_layers.CircleMarker object at 0x7fb99186dfd0>, <folium.vector_layers.CircleMarker object at 0x7fb99186d048>, <folium.vector_layers.CircleMarker object at 0x7fb99187d080>, <folium.vector_layers.CircleMarker object at 0x7fb99187d0b8>, <folium.vector_layers.CircleMarker object at 0x7fb99187d0f0>, <folium.vector_layers.CircleMarker object at 0x7fb99187d128>, <folium.vector_layers.CircleMarker object at 0x7fb99187d160>, <folium.vector_layers.CircleMarker object at 0x7fb99187d198>, <folium.vector_layers.CircleMarker object at 0x7fb99187d1d0>, <folium.vector_layers.CircleMarker object at 0x7fb99187d208>, <folium.vector_layers.CircleMarker object at 0x7fb99187d240>, <folium.vector_layers.CircleMarker object at 0x7fb99187d278>, <folium.vector_layers.CircleMarker object at 0x7fb99187d2b0>, <folium.vector_layers.CircleMarker object at 0x7fb99187d2e8>, <folium.vector_layers.CircleMarker object at 0x7fb99187d320>, <folium.vector_layers.CircleMarker object at 0x7fb99187d358>, <folium.vector_layers.CircleMarker object at 0x7fb99187d390>, <folium.vector_layers.CircleMarker object at 0x7fb99187d3c8>, <folium.vector_layers.CircleMarker object at 0x7fb99187d400>, <folium.vector_layers.CircleMarker object at 0x7fb99187d438>, <folium.vector_layers.CircleMarker object at 0x7fb99187d470>, <folium.vector_layers.CircleMarker object at 0x7fb99187d4a8>, <folium.vector_layers.CircleMarker object at 0x7fb99187d4e0>, <folium.vector_layers.CircleMarker object at 0x7fb99187d518>, <folium.vector_layers.CircleMarker object at 0x7fb99187d550>, <folium.vector_layers.CircleMarker object at 0x7fb99187d588>, <folium.vector_layers.CircleMarker object at 0x7fb99187d5c0>, <folium.vector_layers.CircleMarker object at 0x7fb99187d5f8>, <folium.vector_layers.CircleMarker object at 0x7fb99187d630>, <folium.vector_layers.CircleMarker object at 0x7fb99187d668>, <folium.vector_layers.CircleMarker object at 0x7fb99187d6a0>, <folium.vector_layers.CircleMarker object at 0x7fb99187d6d8>, <folium.vector_layers.CircleMarker object at 0x7fb99187d710>, <folium.vector_layers.CircleMarker object at 0x7fb99187d748>, <folium.vector_layers.CircleMarker object at 0x7fb99187d780>, <folium.vector_layers.CircleMarker object at 0x7fb99187d7b8>, <folium.vector_layers.CircleMarker object at 0x7fb99187d7f0>, <folium.vector_layers.CircleMarker object at 0x7fb99187d828>, <folium.vector_layers.CircleMarker object at 0x7fb99187d860>, <folium.vector_layers.CircleMarker object at 0x7fb99187d898>, <folium.vector_layers.CircleMarker object at 0x7fb99187d8d0>, <folium.vector_layers.CircleMarker object at 0x7fb99187d908>, <folium.vector_layers.CircleMarker object at 0x7fb99187d940>, <folium.vector_layers.CircleMarker object at 0x7fb99187d978>, <folium.vector_layers.CircleMarker object at 0x7fb99187d9b0>, <folium.vector_layers.CircleMarker object at 0x7fb99187d9e8>, <folium.vector_layers.CircleMarker object at 0x7fb99187da20>, <folium.vector_layers.CircleMarker object at 0x7fb99187da58>, <folium.vector_layers.CircleMarker object at 0x7fb99187da90>, <folium.vector_layers.CircleMarker object at 0x7fb99187dac8>, <folium.vector_layers.CircleMarker object at 0x7fb99187db00>, <folium.vector_layers.CircleMarker object at 0x7fb99187db38>, <folium.vector_layers.CircleMarker object at 0x7fb99187db70>, <folium.vector_layers.CircleMarker object at 0x7fb99187dba8>, <folium.vector_layers.CircleMarker object at 0x7fb99187dbe0>, <folium.vector_layers.CircleMarker object at 0x7fb99187dc18>, <folium.vector_layers.CircleMarker object at 0x7fb99187dc50>, <folium.vector_layers.CircleMarker object at 0x7fb99187dc88>, <folium.vector_layers.CircleMarker object at 0x7fb99187dcc0>, <folium.vector_layers.CircleMarker object at 0x7fb99187dcf8>, <folium.vector_layers.CircleMarker object at 0x7fb99187dd30>, <folium.vector_layers.CircleMarker object at 0x7fb99187dd68>, <folium.vector_layers.CircleMarker object at 0x7fb99187dda0>, <folium.vector_layers.CircleMarker object at 0x7fb99187ddd8>, <folium.vector_layers.CircleMarker object at 0x7fb99187de10>, <folium.vector_layers.CircleMarker object at 0x7fb99187de48>, <folium.vector_layers.CircleMarker object at 0x7fb99187de80>, <folium.vector_layers.CircleMarker object at 0x7fb99187deb8>, <folium.vector_layers.CircleMarker object at 0x7fb99187def0>, <folium.vector_layers.CircleMarker object at 0x7fb99187df28>, <folium.vector_layers.CircleMarker object at 0x7fb99187df60>, <folium.vector_layers.CircleMarker object at 0x7fb99187df98>, <folium.vector_layers.CircleMarker object at 0x7fb99187dfd0>, <folium.vector_layers.CircleMarker object at 0x7fb99187d048>, <folium.vector_layers.CircleMarker object at 0x7fb991809080>, <folium.vector_layers.CircleMarker object at 0x7fb9918090b8>, <folium.vector_layers.CircleMarker object at 0x7fb9918090f0>, <folium.vector_layers.CircleMarker object at 0x7fb991809128>, <folium.vector_layers.CircleMarker object at 0x7fb991809160>, <folium.vector_layers.CircleMarker object at 0x7fb991809198>, <folium.vector_layers.CircleMarker object at 0x7fb9918091d0>, <folium.vector_layers.CircleMarker object at 0x7fb991809208>, <folium.vector_layers.CircleMarker object at 0x7fb991809240>, <folium.vector_layers.CircleMarker object at 0x7fb991809278>, <folium.vector_layers.CircleMarker object at 0x7fb9918092b0>, <folium.vector_layers.CircleMarker object at 0x7fb9918092e8>, <folium.vector_layers.CircleMarker object at 0x7fb991809320>, <folium.vector_layers.CircleMarker object at 0x7fb991809358>, <folium.vector_layers.CircleMarker object at 0x7fb991809390>, <folium.vector_layers.CircleMarker object at 0x7fb9918093c8>, <folium.vector_layers.CircleMarker object at 0x7fb991809400>, <folium.vector_layers.CircleMarker object at 0x7fb991809438>, <folium.vector_layers.CircleMarker object at 0x7fb991809470>, <folium.vector_layers.CircleMarker object at 0x7fb9918094a8>, <folium.vector_layers.CircleMarker object at 0x7fb9918094e0>, <folium.vector_layers.CircleMarker object at 0x7fb991809518>, <folium.vector_layers.CircleMarker object at 0x7fb991809550>, <folium.vector_layers.CircleMarker object at 0x7fb991809588>, <folium.vector_layers.CircleMarker object at 0x7fb9918095c0>, <folium.vector_layers.CircleMarker object at 0x7fb9918095f8>, <folium.vector_layers.CircleMarker object at 0x7fb991809630>, <folium.vector_layers.CircleMarker object at 0x7fb991809668>, <folium.vector_layers.CircleMarker object at 0x7fb9918096a0>, <folium.vector_layers.CircleMarker object at 0x7fb9918096d8>, <folium.vector_layers.CircleMarker object at 0x7fb991809710>, <folium.vector_layers.CircleMarker object at 0x7fb991809748>, <folium.vector_layers.CircleMarker object at 0x7fb991809780>, <folium.vector_layers.CircleMarker object at 0x7fb9918097b8>, <folium.vector_layers.CircleMarker object at 0x7fb9918097f0>, <folium.vector_layers.CircleMarker object at 0x7fb991809828>, <folium.vector_layers.CircleMarker object at 0x7fb991809860>, <folium.vector_layers.CircleMarker object at 0x7fb991809898>, <folium.vector_layers.CircleMarker object at 0x7fb9918098d0>, <folium.vector_layers.CircleMarker object at 0x7fb991809908>, <folium.vector_layers.CircleMarker object at 0x7fb991809940>, <folium.vector_layers.CircleMarker object at 0x7fb991809978>, <folium.vector_layers.CircleMarker object at 0x7fb9918099b0>, <folium.vector_layers.CircleMarker object at 0x7fb9918099e8>, <folium.vector_layers.CircleMarker object at 0x7fb991809a20>, <folium.vector_layers.CircleMarker object at 0x7fb991809a58>, <folium.vector_layers.CircleMarker object at 0x7fb991809a90>, <folium.vector_layers.CircleMarker object at 0x7fb991809ac8>, <folium.vector_layers.CircleMarker object at 0x7fb991809b00>, <folium.vector_layers.CircleMarker object at 0x7fb991809b38>, <folium.vector_layers.CircleMarker object at 0x7fb991809b70>, <folium.vector_layers.CircleMarker object at 0x7fb991809ba8>, <folium.vector_layers.CircleMarker object at 0x7fb991809be0>, <folium.vector_layers.CircleMarker object at 0x7fb991809c18>, <folium.vector_layers.CircleMarker object at 0x7fb991809c50>, <folium.vector_layers.CircleMarker object at 0x7fb991809c88>, <folium.vector_layers.CircleMarker object at 0x7fb991809cc0>, <folium.vector_layers.CircleMarker object at 0x7fb991809cf8>, <folium.vector_layers.CircleMarker object at 0x7fb991809d30>, <folium.vector_layers.CircleMarker object at 0x7fb991809d68>, <folium.vector_layers.CircleMarker object at 0x7fb991809da0>, <folium.vector_layers.CircleMarker object at 0x7fb991809dd8>, <folium.vector_layers.CircleMarker object at 0x7fb991809e10>, <folium.vector_layers.CircleMarker object at 0x7fb991809e48>, <folium.vector_layers.CircleMarker object at 0x7fb991809e80>, <folium.vector_layers.CircleMarker object at 0x7fb991809eb8>, <folium.vector_layers.CircleMarker object at 0x7fb991809ef0>, <folium.vector_layers.CircleMarker object at 0x7fb991809f28>, <folium.vector_layers.CircleMarker object at 0x7fb991809f60>, <folium.vector_layers.CircleMarker object at 0x7fb991809f98>, <folium.vector_layers.CircleMarker object at 0x7fb991809fd0>, <folium.vector_layers.CircleMarker object at 0x7fb991809048>, <folium.vector_layers.CircleMarker object at 0x7fb991818048>, <folium.vector_layers.CircleMarker object at 0x7fb9918180b8>, <folium.vector_layers.CircleMarker object at 0x7fb9918180f0>, <folium.vector_layers.CircleMarker object at 0x7fb991818128>, <folium.vector_layers.CircleMarker object at 0x7fb991818160>, <folium.vector_layers.CircleMarker object at 0x7fb991818198>, <folium.vector_layers.CircleMarker object at 0x7fb9918181d0>, <folium.vector_layers.CircleMarker object at 0x7fb991818208>, <folium.vector_layers.CircleMarker object at 0x7fb991818240>, <folium.vector_layers.CircleMarker object at 0x7fb991818278>, <folium.vector_layers.CircleMarker object at 0x7fb9918182b0>, <folium.vector_layers.CircleMarker object at 0x7fb9918182e8>, <folium.vector_layers.CircleMarker object at 0x7fb991818320>, <folium.vector_layers.CircleMarker object at 0x7fb991818358>, <folium.vector_layers.CircleMarker object at 0x7fb991818390>, <folium.vector_layers.CircleMarker object at 0x7fb9918183c8>, <folium.vector_layers.CircleMarker object at 0x7fb991818400>, <folium.vector_layers.CircleMarker object at 0x7fb991818438>, <folium.vector_layers.CircleMarker object at 0x7fb991818470>, <folium.vector_layers.CircleMarker object at 0x7fb9918184a8>, <folium.vector_layers.CircleMarker object at 0x7fb9918184e0>, <folium.vector_layers.CircleMarker object at 0x7fb991818518>, <folium.vector_layers.CircleMarker object at 0x7fb991818550>, <folium.vector_layers.CircleMarker object at 0x7fb991818588>, <folium.vector_layers.CircleMarker object at 0x7fb9918185c0>, <folium.vector_layers.CircleMarker object at 0x7fb9918185f8>, <folium.vector_layers.CircleMarker object at 0x7fb991818630>, <folium.vector_layers.CircleMarker object at 0x7fb991818668>, <folium.vector_layers.CircleMarker object at 0x7fb9918186a0>, <folium.vector_layers.CircleMarker object at 0x7fb9918186d8>, <folium.vector_layers.CircleMarker object at 0x7fb991818710>, <folium.vector_layers.CircleMarker object at 0x7fb991818748>, <folium.vector_layers.CircleMarker object at 0x7fb991818780>, <folium.vector_layers.CircleMarker object at 0x7fb9918187b8>, <folium.vector_layers.CircleMarker object at 0x7fb9918187f0>, <folium.vector_layers.CircleMarker object at 0x7fb991818828>, <folium.vector_layers.CircleMarker object at 0x7fb991818860>, <folium.vector_layers.CircleMarker object at 0x7fb991818898>, <folium.vector_layers.CircleMarker object at 0x7fb9918188d0>, <folium.vector_layers.CircleMarker object at 0x7fb991818908>, <folium.vector_layers.CircleMarker object at 0x7fb991818940>, <folium.vector_layers.CircleMarker object at 0x7fb991818978>, <folium.vector_layers.CircleMarker object at 0x7fb9918189b0>, <folium.vector_layers.CircleMarker object at 0x7fb9918189e8>, <folium.vector_layers.CircleMarker object at 0x7fb991818a20>, <folium.vector_layers.CircleMarker object at 0x7fb991818a58>, <folium.vector_layers.CircleMarker object at 0x7fb991818a90>, <folium.vector_layers.CircleMarker object at 0x7fb991818ac8>, <folium.vector_layers.CircleMarker object at 0x7fb991818b00>, <folium.vector_layers.CircleMarker object at 0x7fb991818b38>, <folium.vector_layers.CircleMarker object at 0x7fb991818b70>, <folium.vector_layers.CircleMarker object at 0x7fb991818ba8>, <folium.vector_layers.CircleMarker object at 0x7fb991818be0>, <folium.vector_layers.CircleMarker object at 0x7fb991818c18>, <folium.vector_layers.CircleMarker object at 0x7fb991818c50>, <folium.vector_layers.CircleMarker object at 0x7fb991818c88>, <folium.vector_layers.CircleMarker object at 0x7fb991818cc0>, <folium.vector_layers.CircleMarker object at 0x7fb991818cf8>, <folium.vector_layers.CircleMarker object at 0x7fb991818d30>, <folium.vector_layers.CircleMarker object at 0x7fb991818d68>, <folium.vector_layers.CircleMarker object at 0x7fb991818da0>, <folium.vector_layers.CircleMarker object at 0x7fb991818dd8>, <folium.vector_layers.CircleMarker object at 0x7fb991818e10>, <folium.vector_layers.CircleMarker object at 0x7fb991818e48>, <folium.vector_layers.CircleMarker object at 0x7fb991818e80>, <folium.vector_layers.CircleMarker object at 0x7fb991818eb8>, <folium.vector_layers.CircleMarker object at 0x7fb991818ef0>, <folium.vector_layers.CircleMarker object at 0x7fb991818f28>, <folium.vector_layers.CircleMarker object at 0x7fb991818f60>, <folium.vector_layers.CircleMarker object at 0x7fb991818f98>, <folium.vector_layers.CircleMarker object at 0x7fb991818fd0>, <folium.vector_layers.CircleMarker object at 0x7fb991818080>, <folium.vector_layers.CircleMarker object at 0x7fb991825080>, <folium.vector_layers.CircleMarker object at 0x7fb9918250b8>, <folium.vector_layers.CircleMarker object at 0x7fb9918250f0>, <folium.vector_layers.CircleMarker object at 0x7fb991825128>, <folium.vector_layers.CircleMarker object at 0x7fb991825160>, <folium.vector_layers.CircleMarker object at 0x7fb991825198>, <folium.vector_layers.CircleMarker object at 0x7fb9918251d0>, <folium.vector_layers.CircleMarker object at 0x7fb991825208>, <folium.vector_layers.CircleMarker object at 0x7fb991825240>, <folium.vector_layers.CircleMarker object at 0x7fb991825278>, <folium.vector_layers.CircleMarker object at 0x7fb9918252b0>, <folium.vector_layers.CircleMarker object at 0x7fb9918252e8>, <folium.vector_layers.CircleMarker object at 0x7fb991825320>, <folium.vector_layers.CircleMarker object at 0x7fb991825358>, <folium.vector_layers.CircleMarker object at 0x7fb991825390>, <folium.vector_layers.CircleMarker object at 0x7fb9918253c8>, <folium.vector_layers.CircleMarker object at 0x7fb991825400>, <folium.vector_layers.CircleMarker object at 0x7fb991825438>, <folium.vector_layers.CircleMarker object at 0x7fb991825470>, <folium.vector_layers.CircleMarker object at 0x7fb9918254a8>, <folium.vector_layers.CircleMarker object at 0x7fb9918254e0>, <folium.vector_layers.CircleMarker object at 0x7fb991825518>, <folium.vector_layers.CircleMarker object at 0x7fb991825550>, <folium.vector_layers.CircleMarker object at 0x7fb991825588>, <folium.vector_layers.CircleMarker object at 0x7fb9918255c0>, <folium.vector_layers.CircleMarker object at 0x7fb9918255f8>, <folium.vector_layers.CircleMarker object at 0x7fb991825630>, <folium.vector_layers.CircleMarker object at 0x7fb991825668>, <folium.vector_layers.CircleMarker object at 0x7fb9918256a0>, <folium.vector_layers.CircleMarker object at 0x7fb9918256d8>, <folium.vector_layers.CircleMarker object at 0x7fb991825710>, <folium.vector_layers.CircleMarker object at 0x7fb991825748>, <folium.vector_layers.CircleMarker object at 0x7fb991825780>, <folium.vector_layers.CircleMarker object at 0x7fb9918257b8>, <folium.vector_layers.CircleMarker object at 0x7fb9918257f0>, <folium.vector_layers.CircleMarker object at 0x7fb991825828>, <folium.vector_layers.CircleMarker object at 0x7fb991825860>, <folium.vector_layers.CircleMarker object at 0x7fb991825898>, <folium.vector_layers.CircleMarker object at 0x7fb9918258d0>, <folium.vector_layers.CircleMarker object at 0x7fb991825908>, <folium.vector_layers.CircleMarker object at 0x7fb991825940>, <folium.vector_layers.CircleMarker object at 0x7fb991825978>, <folium.vector_layers.CircleMarker object at 0x7fb9918259b0>, <folium.vector_layers.CircleMarker object at 0x7fb9918259e8>, <folium.vector_layers.CircleMarker object at 0x7fb991825a20>, <folium.vector_layers.CircleMarker object at 0x7fb991825a58>, <folium.vector_layers.CircleMarker object at 0x7fb991825a90>, <folium.vector_layers.CircleMarker object at 0x7fb991825ac8>, <folium.vector_layers.CircleMarker object at 0x7fb991825b00>, <folium.vector_layers.CircleMarker object at 0x7fb991825b38>, <folium.vector_layers.CircleMarker object at 0x7fb991825b70>, <folium.vector_layers.CircleMarker object at 0x7fb991825ba8>, <folium.vector_layers.CircleMarker object at 0x7fb991825be0>, <folium.vector_layers.CircleMarker object at 0x7fb991825c18>, <folium.vector_layers.CircleMarker object at 0x7fb991825c50>, <folium.vector_layers.CircleMarker object at 0x7fb991825c88>, <folium.vector_layers.CircleMarker object at 0x7fb991825cc0>, <folium.vector_layers.CircleMarker object at 0x7fb991825cf8>, <folium.vector_layers.CircleMarker object at 0x7fb991825d30>, <folium.vector_layers.CircleMarker object at 0x7fb991825d68>, <folium.vector_layers.CircleMarker object at 0x7fb991825da0>, <folium.vector_layers.CircleMarker object at 0x7fb991825dd8>, <folium.vector_layers.CircleMarker object at 0x7fb991825e10>, <folium.vector_layers.CircleMarker object at 0x7fb991825e48>, <folium.vector_layers.CircleMarker object at 0x7fb991825e80>, <folium.vector_layers.CircleMarker object at 0x7fb991825eb8>, <folium.vector_layers.CircleMarker object at 0x7fb991825ef0>, <folium.vector_layers.CircleMarker object at 0x7fb991825f28>, <folium.vector_layers.CircleMarker object at 0x7fb991825f60>, <folium.vector_layers.CircleMarker object at 0x7fb991825f98>, <folium.vector_layers.CircleMarker object at 0x7fb991825fd0>, <folium.vector_layers.CircleMarker object at 0x7fb991825048>, <folium.vector_layers.CircleMarker object at 0x7fb991833048>, <folium.vector_layers.CircleMarker object at 0x7fb9918330b8>, <folium.vector_layers.CircleMarker object at 0x7fb9918330f0>, <folium.vector_layers.CircleMarker object at 0x7fb991833128>, <folium.vector_layers.CircleMarker object at 0x7fb991833160>]."
     ]
    }
   ],
   "source": [
    "map_with_markers = add_markers(trip_markers, manhattan_map)"
   ]
  },
  {
   "cell_type": "code",
   "execution_count": null,
   "metadata": {},
   "outputs": [],
   "source": [
    "map_with_markers"
   ]
  },
  {
   "cell_type": "markdown",
   "metadata": {},
   "source": [
    "### Using Nearest Neighbors"
   ]
  },
  {
   "cell_type": "markdown",
   "metadata": {},
   "source": [
    "Ok, let's write a function that given a latitude and longitude will predict the distance for us.  We'll do this by first finding the nearest trips given a latitude and longitude. "
   ]
  },
  {
   "cell_type": "markdown",
   "metadata": {},
   "source": [
    "Here we once again apply the nearest neighbors formula. As a first step, write a function named `distance_location` that calculates the distance in pickup location between two trips."
   ]
  },
  {
   "cell_type": "code",
   "execution_count": null,
   "metadata": {},
   "outputs": [],
   "source": [
    "import math\n",
    "\n",
    "def distance_location(selected_trip, neighbor_trip):\n",
    "    pass"
   ]
  },
  {
   "cell_type": "code",
   "execution_count": null,
   "metadata": {},
   "outputs": [],
   "source": [
    "first_trip = {'pickup_latitude': 40.64499, 'pickup_longitude': -73.78115, 'trip_distance': 18.38}\n",
    "second_trip = {'pickup_latitude': 40.766931, 'pickup_longitude': -73.982098, 'trip_distance': 1.3}\n",
    "distance_first_and_second = distance_location(first_trip, second_trip)\n",
    "\n",
    "distance_first_and_second and round(distance_first_and_second, 3) # 0.235"
   ]
  },
  {
   "cell_type": "markdown",
   "metadata": {},
   "source": [
    "Ok, next write a function called `distance_between_neighbors` that adds a new key-value pair, called `distance_from_selected`, that calculates the distance of the `neighbor_trip` from the `selected_trip`."
   ]
  },
  {
   "cell_type": "code",
   "execution_count": null,
   "metadata": {},
   "outputs": [],
   "source": [
    "def distance_between_neighbors(selected_trip, neighbor_trip):\n",
    "    pass"
   ]
  },
  {
   "cell_type": "code",
   "execution_count": null,
   "metadata": {},
   "outputs": [],
   "source": [
    "distance_between_neighbors(first_trip, second_trip)\n",
    "\n",
    "# {'distance_from_selected': 0.23505256047318146,\n",
    "#  'pickup_latitude': 40.766931,\n",
    "#  'pickup_longitude': -73.982098,\n",
    "#  'trip_distance': 1.3}"
   ]
  },
  {
   "cell_type": "markdown",
   "metadata": {},
   "source": [
    "Ok, now our `neighbor_trip` has another attribute called `distance_from_selected`, that indicates the distance from the `neighbor_trip`'s pickup location from the `selected_trip`."
   ]
  },
  {
   "cell_type": "markdown",
   "metadata": {},
   "source": [
    "> ** Understand the data:** Our dictionary now has a few attributes, two of which say distance.  Let's make sure we understand the difference. \n",
    "> * **`distance_from_selected`:** This is our calculation of the distance of the neighbor's pickup location from the selected trip.\n",
    "> * **`trip_distance`:** This is the attribute we were provided initially.  It tells us the length of the neighbor's taxi trip from pickup to drop-off.  "
   ]
  },
  {
   "cell_type": "markdown",
   "metadata": {},
   "source": [
    "Next, write a function called `distance_all` that provided a list of neighbors, returns each of those neighbors with their respective `distance_from_selected` numbers."
   ]
  },
  {
   "cell_type": "code",
   "execution_count": null,
   "metadata": {},
   "outputs": [],
   "source": [
    "def distance_all(selected_individual, neighbors):\n",
    "    pass"
   ]
  },
  {
   "cell_type": "code",
   "execution_count": null,
   "metadata": {},
   "outputs": [],
   "source": [
    "cleaned_trips and distance_all(first_trip, cleaned_trips[0:4])"
   ]
  },
  {
   "cell_type": "markdown",
   "metadata": {},
   "source": [
    "Now write the nearest neighbors formula to calculate the distance of the `selected_trip` from all of the `cleaned_trips` in our dataset.  If no number is provided, it should return the top 3 neighbors."
   ]
  },
  {
   "cell_type": "code",
   "execution_count": null,
   "metadata": {},
   "outputs": [],
   "source": [
    "def nearest_neighbors(selected_trip, trips, number = 3):\n",
    "    pass"
   ]
  },
  {
   "cell_type": "code",
   "execution_count": null,
   "metadata": {},
   "outputs": [],
   "source": [
    "new_trip = {'pickup_latitude': 40.64499,\n",
    "'pickup_longitude': -73.78115,\n",
    "'trip_distance': 18.38}\n",
    "\n",
    "nearest_three_neighbors = nearest_neighbors(new_trip, cleaned_trips or [], number = 3)\n",
    "nearest_three_neighbors\n",
    "# [{'distance_from_selected': 0.0004569288784918792,\n",
    "#   'pickup_latitude': 40.64483,\n",
    "#   'pickup_longitude': -73.781578,\n",
    "#   'trip_distance': 7.78},\n",
    "#  {'distance_from_selected': 0.0011292165425673159,\n",
    "#   'pickup_latitude': 40.644657,\n",
    "#   'pickup_longitude': -73.782229,\n",
    "#   'trip_distance': 12.7},\n",
    "#  {'distance_from_selected': 0.0042359798158141185,\n",
    "#   'pickup_latitude': 40.648509,\n",
    "#   'pickup_longitude': -73.783508,\n",
    "#   'trip_distance': 17.3}]"
   ]
  },
  {
   "cell_type": "markdown",
   "metadata": {},
   "source": [
    "Ok great! Now that we can provide a new trip location, and find the distances of the three nearest trips, we can take  calculate an estimate of the trip distance for that new trip location.  \n",
    "\n",
    "We do so simply by calculating the average of it's nearest neighbors."
   ]
  },
  {
   "cell_type": "code",
   "execution_count": null,
   "metadata": {},
   "outputs": [],
   "source": [
    "import statistics\n",
    "def mean_distance(neighbors):\n",
    "    nearest_distances = list(map(lambda neighbor: neighbor['trip_distance'], neighbors))\n",
    "    return round(statistics.mean(nearest_distances), 3)\n",
    "\n",
    "nearest_three_neighbors = nearest_neighbors(new_trip, cleaned_trips or [], number = 3)\n",
    "distance_estimate_of_selected_trip = mean_distance(nearest_three_neighbors) # 12.593\n",
    "distance_estimate_of_selected_trip"
   ]
  },
  {
   "cell_type": "markdown",
   "metadata": {},
   "source": [
    "### Choosing the correct number of neighbors"
   ]
  },
  {
   "cell_type": "markdown",
   "metadata": {},
   "source": [
    "Now, as we know from the last lesson, one tricky element is to determine how many neighbors to choose, our $k$ value,  before calculating the average.  We want to choose our value of $k$ such that it properly matches actual data, and so that it applies to new data.  There are fancy formulas to ensure that we **train** our algorithm so that our formula is optimized for all data, but here let's see different $k$ values manually.  This is the gist of choosing our $k$ value:\n",
    "\n",
    "* If we choose a $k$ value too low, our formula will be too heavily influenced by a single neighbor, whereas if our $k$ value is too high, we will be choosing so many neighbors that our nearest neighbors formula will not be adjust enough according to locations.\n",
    "\n",
    "Ok, let's experiment with this."
   ]
  },
  {
   "cell_type": "markdown",
   "metadata": {},
   "source": [
    "First, let's choose a midtown location, to see what the trip distance would be.  A Google search reveals the coordinates of 51st and 7th avenue to be the following."
   ]
  },
  {
   "cell_type": "code",
   "execution_count": null,
   "metadata": {},
   "outputs": [],
   "source": [
    "midtown_trip = dict(pickup_latitude=40.761710, pickup_longitude=-73.982760)"
   ]
  },
  {
   "cell_type": "code",
   "execution_count": null,
   "metadata": {},
   "outputs": [],
   "source": [
    "seven_closest = nearest_neighbors(midtown_trip, cleaned_trips, number = 7)\n",
    "seven_closest\n",
    "# [{'trip_distance': 0.58,\n",
    "#   'pickup_latitude': 40.761372,\n",
    "#   'pickup_longitude': -73.982602,\n",
    "#   'distance_from_selected': 0.00037310588309379025},\n",
    "#  {'trip_distance': 0.8,\n",
    "#   'pickup_latitude': 40.762444,\n",
    "#   'pickup_longitude': -73.98244,\n",
    "#   'distance_from_selected': 0.00080072217404248},\n",
    "#  {'trip_distance': 1.4,\n",
    "#   'pickup_latitude': 40.762767,\n",
    "#   'pickup_longitude': -73.982293,\n",
    "#   'distance_from_selected': 0.0011555682584735844},\n",
    "#  {'trip_distance': 8.3,\n",
    "#   'pickup_latitude': 40.762868,\n",
    "#   'pickup_longitude': -73.983233,\n",
    "#   'distance_from_selected': 0.0012508768924205918},\n",
    "#  {'trip_distance': 1.26,\n",
    "#   'pickup_latitude': 40.760057,\n",
    "#   'pickup_longitude': -73.983502,\n",
    "#   'distance_from_selected': 0.0018118976240381972},\n",
    "#  {'trip_distance': 0.0,\n",
    "#   'pickup_latitude': 40.760644,\n",
    "#   'pickup_longitude': -73.984531,\n",
    "#   'distance_from_selected': 0.002067074502774709},\n",
    "#  {'trip_distance': 1.72,\n",
    "#   'pickup_latitude': 40.762107,\n",
    "#   'pickup_longitude': -73.98479,\n",
    "#   'distance_from_selected': 0.0020684557041472677}]"
   ]
  },
  {
   "cell_type": "markdown",
   "metadata": {},
   "source": [
    "Looking at the `distance_from_selected` it appears that our our trips are still fairly close to our selected trip.  Notice that most of the data is within a distance of .002 away, so going to the top 7 nearest neighbors didn't seem to give us neighbors too far from each other, which is a good sign.\n",
    "\n",
    "Still, it's hard to know what distance in latitude and longitude really look like, so let's map the data. "
   ]
  },
  {
   "cell_type": "code",
   "execution_count": null,
   "metadata": {},
   "outputs": [],
   "source": [
    "midtown_location = location(midtown_trip) # [40.76171, -73.98276]\n",
    "midtown_map = map_from(midtown_location, 16)\n",
    "closest_markers = markers_from_trips(seven_closest)\n",
    "\n",
    "add_markers(closest_markers, midtown_map)"
   ]
  },
  {
   "cell_type": "markdown",
   "metadata": {},
   "source": [
    "Ok.  These locations stay fairly close to our estimated location of 51st street and 7th Avenue.  So they could be a good estimate of a trip distance."
   ]
  },
  {
   "cell_type": "code",
   "execution_count": null,
   "metadata": {},
   "outputs": [],
   "source": [
    "mean_distance(seven_closest) # 2.009"
   ]
  },
  {
   "cell_type": "markdown",
   "metadata": {},
   "source": [
    "Ok, now let's try a different location"
   ]
  },
  {
   "cell_type": "code",
   "execution_count": null,
   "metadata": {},
   "outputs": [],
   "source": [
    "charging_bull_closest = nearest_neighbors({'pickup_latitude': 40.7049, 'pickup_longitude': -74.0137}, cleaned_trips, number = 12)"
   ]
  },
  {
   "cell_type": "code",
   "execution_count": null,
   "metadata": {
    "scrolled": true
   },
   "outputs": [],
   "source": [
    "mean_distance(charging_bull_closest) # 3.145"
   ]
  },
  {
   "cell_type": "markdown",
   "metadata": {},
   "source": [
    "Ok, so there appears to be a significant difference between choosing a location near Times Square versus choosing a location at Wall Street."
   ]
  },
  {
   "cell_type": "markdown",
   "metadata": {},
   "source": [
    "### Summary"
   ]
  },
  {
   "cell_type": "markdown",
   "metadata": {},
   "source": [
    "In this lab, we used the nearest neighbors function to predict the length of a taxi ride.  To do so, we selected a location, then found a number of taxi rides closest to that location, and finally took the average trip lengths of the nearest taxi rides to find an estimate of the new ride's trip length.  You can see that even with just a little bit of math and programming we can begin to make meaningful predictions with data."
   ]
  }
 ],
 "metadata": {
  "kernelspec": {
   "display_name": "Python 3",
   "language": "python",
   "name": "python3"
  },
  "language_info": {
   "codemirror_mode": {
    "name": "ipython",
    "version": 3
   },
   "file_extension": ".py",
   "mimetype": "text/x-python",
   "name": "python",
   "nbconvert_exporter": "python",
   "pygments_lexer": "ipython3",
   "version": "3.6.9"
  }
 },
 "nbformat": 4,
 "nbformat_minor": 2
}
